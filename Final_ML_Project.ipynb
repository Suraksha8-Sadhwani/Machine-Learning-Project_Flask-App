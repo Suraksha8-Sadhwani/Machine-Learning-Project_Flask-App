{
  "cells": [
    {
      "cell_type": "markdown",
      "source": [
        "**libraries to use**"
      ],
      "metadata": {
        "id": "mWtoWMGYufmG"
      }
    },
    {
      "cell_type": "code",
      "execution_count": null,
      "metadata": {
        "id": "5XkliCnsFEZF"
      },
      "outputs": [],
      "source": [
        "import pandas as pd\n",
        "import numpy as np\n",
        "import matplotlib.pyplot as plt\n",
        "import seaborn as sns\n",
        "from textblob import TextBlob\n",
        "import itertools\n",
        "from sklearn.model_selection import train_test_split\n",
        "from sklearn.feature_extraction.text import TfidfVectorizer\n",
        "from sklearn.linear_model import PassiveAggressiveClassifier\n",
        "from sklearn.metrics import accuracy_score, confusion_matrix\n",
        "import nltk\n",
        "from keras.layers import SimpleRNN\n",
        "import re\n",
        "from nltk.corpus import stopwords\n",
        "from nltk.stem import PorterStemmer\n",
        "from keras.layers import Dense\n",
        "from keras.models import Sequential\n",
        "from keras.layers import Embedding\n",
        "from keras import layers\n",
        "import os\n",
        "import pickle\n",
        "import tensorflow as tf\n",
        "from tensorflow.keras.layers.experimental.preprocessing import TextVectorization\n",
        "from tensorflow.keras.preprocessing.text import text_to_word_sequence\n",
        "from tensorflow.keras.models import Model, Sequential\n",
        "from tensorflow.keras.layers import Dense, Dropout, Conv2D, MaxPooling2D,Input\n",
        "from tensorflow.keras.callbacks import EarlyStopping\n",
        "from tensorflow.python.ops.numpy_ops import np_utils\n",
        "from transformers import BertModel, TFBertModel \n",
        "import tensorflow as tf\n",
        "from tensorflow.keras.optimizers import Adam\n",
        "\n",
        "from tensorflow.keras import regularizers\n",
        "from matplotlib import rcParams\n",
        "import seaborn as sns\n",
        "from PIL import Image\n",
        "from transformers import AutoTokenizer\n",
        "\n"
      ]
    },
    {
      "cell_type": "markdown",
      "source": [
        "**mount google drive**"
      ],
      "metadata": {
        "id": "IXSSuTIZunCy"
      }
    },
    {
      "cell_type": "code",
      "source": [
        "from google.colab import drive\n",
        "drive.mount('/content/drive')"
      ],
      "metadata": {
        "colab": {
          "base_uri": "https://localhost:8080/"
        },
        "id": "RJn7suVxlClm",
        "outputId": "49fa7084-a2e2-428a-b602-9577632984b9"
      },
      "execution_count": null,
      "outputs": [
        {
          "output_type": "stream",
          "name": "stdout",
          "text": [
            "Mounted at /content/drive\n",
            "Drive already mounted at /content/drive; to attempt to forcibly remount, call drive.mount(\"/content/drive\", force_remount=True).\n"
          ]
        }
      ]
    },
    {
      "cell_type": "markdown",
      "source": [
        "**load dataset**"
      ],
      "metadata": {
        "id": "LoVA7MPGuraG"
      }
    },
    {
      "cell_type": "code",
      "execution_count": null,
      "metadata": {
        "colab": {
          "base_uri": "https://localhost:8080/",
          "height": 424
        },
        "id": "jfRXL_4kGBpa",
        "outputId": "2694b8a3-a50e-4f1c-ea7c-dbd7d361dbf9"
      },
      "outputs": [
        {
          "output_type": "execute_result",
          "data": {
            "text/plain": [
              "      Unnamed: 0                                              title  \\\n",
              "0           8476                       You Can Smell Hillary’s Fear   \n",
              "1          10294  Watch The Exact Moment Paul Ryan Committed Pol...   \n",
              "2           3608        Kerry to go to Paris in gesture of sympathy   \n",
              "3          10142  Bernie supporters on Twitter erupt in anger ag...   \n",
              "4            875   The Battle of New York: Why This Primary Matters   \n",
              "...          ...                                                ...   \n",
              "6330        4490  State Department says it can't find emails fro...   \n",
              "6331        8062  The ‘P’ in PBS Should Stand for ‘Plutocratic’ ...   \n",
              "6332        8622  Anti-Trump Protesters Are Tools of the Oligarc...   \n",
              "6333        4021  In Ethiopia, Obama seeks progress on peace, se...   \n",
              "6334        4330  Jeb Bush Is Suddenly Attacking Trump. Here's W...   \n",
              "\n",
              "                                                   text label  \n",
              "0     Daniel Greenfield, a Shillman Journalism Fello...  FAKE  \n",
              "1     Google Pinterest Digg Linkedin Reddit Stumbleu...  FAKE  \n",
              "2     U.S. Secretary of State John F. Kerry said Mon...  REAL  \n",
              "3     — Kaydee King (@KaydeeKing) November 9, 2016 T...  FAKE  \n",
              "4     It's primary day in New York and front-runners...  REAL  \n",
              "...                                                 ...   ...  \n",
              "6330  The State Department told the Republican Natio...  REAL  \n",
              "6331  The ‘P’ in PBS Should Stand for ‘Plutocratic’ ...  FAKE  \n",
              "6332   Anti-Trump Protesters Are Tools of the Oligar...  FAKE  \n",
              "6333  ADDIS ABABA, Ethiopia —President Obama convene...  REAL  \n",
              "6334  Jeb Bush Is Suddenly Attacking Trump. Here's W...  REAL  \n",
              "\n",
              "[6335 rows x 4 columns]"
            ],
            "text/html": [
              "\n",
              "  <div id=\"df-9a547058-f227-44a8-a98b-3926dd41db23\">\n",
              "    <div class=\"colab-df-container\">\n",
              "      <div>\n",
              "<style scoped>\n",
              "    .dataframe tbody tr th:only-of-type {\n",
              "        vertical-align: middle;\n",
              "    }\n",
              "\n",
              "    .dataframe tbody tr th {\n",
              "        vertical-align: top;\n",
              "    }\n",
              "\n",
              "    .dataframe thead th {\n",
              "        text-align: right;\n",
              "    }\n",
              "</style>\n",
              "<table border=\"1\" class=\"dataframe\">\n",
              "  <thead>\n",
              "    <tr style=\"text-align: right;\">\n",
              "      <th></th>\n",
              "      <th>Unnamed: 0</th>\n",
              "      <th>title</th>\n",
              "      <th>text</th>\n",
              "      <th>label</th>\n",
              "    </tr>\n",
              "  </thead>\n",
              "  <tbody>\n",
              "    <tr>\n",
              "      <th>0</th>\n",
              "      <td>8476</td>\n",
              "      <td>You Can Smell Hillary’s Fear</td>\n",
              "      <td>Daniel Greenfield, a Shillman Journalism Fello...</td>\n",
              "      <td>FAKE</td>\n",
              "    </tr>\n",
              "    <tr>\n",
              "      <th>1</th>\n",
              "      <td>10294</td>\n",
              "      <td>Watch The Exact Moment Paul Ryan Committed Pol...</td>\n",
              "      <td>Google Pinterest Digg Linkedin Reddit Stumbleu...</td>\n",
              "      <td>FAKE</td>\n",
              "    </tr>\n",
              "    <tr>\n",
              "      <th>2</th>\n",
              "      <td>3608</td>\n",
              "      <td>Kerry to go to Paris in gesture of sympathy</td>\n",
              "      <td>U.S. Secretary of State John F. Kerry said Mon...</td>\n",
              "      <td>REAL</td>\n",
              "    </tr>\n",
              "    <tr>\n",
              "      <th>3</th>\n",
              "      <td>10142</td>\n",
              "      <td>Bernie supporters on Twitter erupt in anger ag...</td>\n",
              "      <td>— Kaydee King (@KaydeeKing) November 9, 2016 T...</td>\n",
              "      <td>FAKE</td>\n",
              "    </tr>\n",
              "    <tr>\n",
              "      <th>4</th>\n",
              "      <td>875</td>\n",
              "      <td>The Battle of New York: Why This Primary Matters</td>\n",
              "      <td>It's primary day in New York and front-runners...</td>\n",
              "      <td>REAL</td>\n",
              "    </tr>\n",
              "    <tr>\n",
              "      <th>...</th>\n",
              "      <td>...</td>\n",
              "      <td>...</td>\n",
              "      <td>...</td>\n",
              "      <td>...</td>\n",
              "    </tr>\n",
              "    <tr>\n",
              "      <th>6330</th>\n",
              "      <td>4490</td>\n",
              "      <td>State Department says it can't find emails fro...</td>\n",
              "      <td>The State Department told the Republican Natio...</td>\n",
              "      <td>REAL</td>\n",
              "    </tr>\n",
              "    <tr>\n",
              "      <th>6331</th>\n",
              "      <td>8062</td>\n",
              "      <td>The ‘P’ in PBS Should Stand for ‘Plutocratic’ ...</td>\n",
              "      <td>The ‘P’ in PBS Should Stand for ‘Plutocratic’ ...</td>\n",
              "      <td>FAKE</td>\n",
              "    </tr>\n",
              "    <tr>\n",
              "      <th>6332</th>\n",
              "      <td>8622</td>\n",
              "      <td>Anti-Trump Protesters Are Tools of the Oligarc...</td>\n",
              "      <td>Anti-Trump Protesters Are Tools of the Oligar...</td>\n",
              "      <td>FAKE</td>\n",
              "    </tr>\n",
              "    <tr>\n",
              "      <th>6333</th>\n",
              "      <td>4021</td>\n",
              "      <td>In Ethiopia, Obama seeks progress on peace, se...</td>\n",
              "      <td>ADDIS ABABA, Ethiopia —President Obama convene...</td>\n",
              "      <td>REAL</td>\n",
              "    </tr>\n",
              "    <tr>\n",
              "      <th>6334</th>\n",
              "      <td>4330</td>\n",
              "      <td>Jeb Bush Is Suddenly Attacking Trump. Here's W...</td>\n",
              "      <td>Jeb Bush Is Suddenly Attacking Trump. Here's W...</td>\n",
              "      <td>REAL</td>\n",
              "    </tr>\n",
              "  </tbody>\n",
              "</table>\n",
              "<p>6335 rows × 4 columns</p>\n",
              "</div>\n",
              "      <button class=\"colab-df-convert\" onclick=\"convertToInteractive('df-9a547058-f227-44a8-a98b-3926dd41db23')\"\n",
              "              title=\"Convert this dataframe to an interactive table.\"\n",
              "              style=\"display:none;\">\n",
              "        \n",
              "  <svg xmlns=\"http://www.w3.org/2000/svg\" height=\"24px\"viewBox=\"0 0 24 24\"\n",
              "       width=\"24px\">\n",
              "    <path d=\"M0 0h24v24H0V0z\" fill=\"none\"/>\n",
              "    <path d=\"M18.56 5.44l.94 2.06.94-2.06 2.06-.94-2.06-.94-.94-2.06-.94 2.06-2.06.94zm-11 1L8.5 8.5l.94-2.06 2.06-.94-2.06-.94L8.5 2.5l-.94 2.06-2.06.94zm10 10l.94 2.06.94-2.06 2.06-.94-2.06-.94-.94-2.06-.94 2.06-2.06.94z\"/><path d=\"M17.41 7.96l-1.37-1.37c-.4-.4-.92-.59-1.43-.59-.52 0-1.04.2-1.43.59L10.3 9.45l-7.72 7.72c-.78.78-.78 2.05 0 2.83L4 21.41c.39.39.9.59 1.41.59.51 0 1.02-.2 1.41-.59l7.78-7.78 2.81-2.81c.8-.78.8-2.07 0-2.86zM5.41 20L4 18.59l7.72-7.72 1.47 1.35L5.41 20z\"/>\n",
              "  </svg>\n",
              "      </button>\n",
              "      \n",
              "  <style>\n",
              "    .colab-df-container {\n",
              "      display:flex;\n",
              "      flex-wrap:wrap;\n",
              "      gap: 12px;\n",
              "    }\n",
              "\n",
              "    .colab-df-convert {\n",
              "      background-color: #E8F0FE;\n",
              "      border: none;\n",
              "      border-radius: 50%;\n",
              "      cursor: pointer;\n",
              "      display: none;\n",
              "      fill: #1967D2;\n",
              "      height: 32px;\n",
              "      padding: 0 0 0 0;\n",
              "      width: 32px;\n",
              "    }\n",
              "\n",
              "    .colab-df-convert:hover {\n",
              "      background-color: #E2EBFA;\n",
              "      box-shadow: 0px 1px 2px rgba(60, 64, 67, 0.3), 0px 1px 3px 1px rgba(60, 64, 67, 0.15);\n",
              "      fill: #174EA6;\n",
              "    }\n",
              "\n",
              "    [theme=dark] .colab-df-convert {\n",
              "      background-color: #3B4455;\n",
              "      fill: #D2E3FC;\n",
              "    }\n",
              "\n",
              "    [theme=dark] .colab-df-convert:hover {\n",
              "      background-color: #434B5C;\n",
              "      box-shadow: 0px 1px 3px 1px rgba(0, 0, 0, 0.15);\n",
              "      filter: drop-shadow(0px 1px 2px rgba(0, 0, 0, 0.3));\n",
              "      fill: #FFFFFF;\n",
              "    }\n",
              "  </style>\n",
              "\n",
              "      <script>\n",
              "        const buttonEl =\n",
              "          document.querySelector('#df-9a547058-f227-44a8-a98b-3926dd41db23 button.colab-df-convert');\n",
              "        buttonEl.style.display =\n",
              "          google.colab.kernel.accessAllowed ? 'block' : 'none';\n",
              "\n",
              "        async function convertToInteractive(key) {\n",
              "          const element = document.querySelector('#df-9a547058-f227-44a8-a98b-3926dd41db23');\n",
              "          const dataTable =\n",
              "            await google.colab.kernel.invokeFunction('convertToInteractive',\n",
              "                                                     [key], {});\n",
              "          if (!dataTable) return;\n",
              "\n",
              "          const docLinkHtml = 'Like what you see? Visit the ' +\n",
              "            '<a target=\"_blank\" href=https://colab.research.google.com/notebooks/data_table.ipynb>data table notebook</a>'\n",
              "            + ' to learn more about interactive tables.';\n",
              "          element.innerHTML = '';\n",
              "          dataTable['output_type'] = 'display_data';\n",
              "          await google.colab.output.renderOutput(dataTable, element);\n",
              "          const docLink = document.createElement('div');\n",
              "          docLink.innerHTML = docLinkHtml;\n",
              "          element.appendChild(docLink);\n",
              "        }\n",
              "      </script>\n",
              "    </div>\n",
              "  </div>\n",
              "  "
            ]
          },
          "metadata": {},
          "execution_count": 15
        }
      ],
      "source": [
        "dataset1 = pd.read_csv('/content/drive/MyDrive/ML_Assignments/ML_Project/news.csv')\n",
        "dataset1"
      ]
    },
    {
      "cell_type": "code",
      "execution_count": null,
      "metadata": {
        "colab": {
          "base_uri": "https://localhost:8080/"
        },
        "id": "VMo0O-XAGKvx",
        "outputId": "d7e5f5aa-6a67-482a-fb42-6fc4faea2eb8"
      },
      "outputs": [
        {
          "output_type": "execute_result",
          "data": {
            "text/plain": [
              "(6335, 4)"
            ]
          },
          "metadata": {},
          "execution_count": 7
        }
      ],
      "source": [
        "dataset1.shape"
      ]
    },
    {
      "cell_type": "code",
      "execution_count": null,
      "metadata": {
        "colab": {
          "base_uri": "https://localhost:8080/"
        },
        "id": "KNTc8jg0GRH4",
        "outputId": "1bfbba82-e9cf-4847-e410-fcd838730df2"
      },
      "outputs": [
        {
          "output_type": "execute_result",
          "data": {
            "text/plain": [
              "Unnamed: 0     int64\n",
              "title         object\n",
              "text          object\n",
              "label         object\n",
              "dtype: object"
            ]
          },
          "metadata": {},
          "execution_count": 8
        }
      ],
      "source": [
        "dataset1.dtypes"
      ]
    },
    {
      "cell_type": "code",
      "execution_count": null,
      "metadata": {
        "colab": {
          "base_uri": "https://localhost:8080/"
        },
        "id": "sIk5Z3qDGV6Y",
        "outputId": "3983234b-6fd1-4972-9df4-4689b089ccb8"
      },
      "outputs": [
        {
          "output_type": "execute_result",
          "data": {
            "text/plain": [
              "REAL    3171\n",
              "FAKE    3164\n",
              "Name: label, dtype: int64"
            ]
          },
          "metadata": {},
          "execution_count": 9
        }
      ],
      "source": [
        "dataset1['label'].value_counts()"
      ]
    },
    {
      "cell_type": "code",
      "execution_count": null,
      "metadata": {
        "colab": {
          "base_uri": "https://localhost:8080/",
          "height": 424
        },
        "id": "y44-iKYUTi-a",
        "outputId": "027d0c95-e2cf-417a-bd4b-4ae57b67627e"
      },
      "outputs": [
        {
          "output_type": "execute_result",
          "data": {
            "text/plain": [
              "      Unnamed: 0                                              title  \\\n",
              "0           8476                       You Can Smell Hillary’s Fear   \n",
              "1          10294  Watch The Exact Moment Paul Ryan Committed Pol...   \n",
              "2           3608        Kerry to go to Paris in gesture of sympathy   \n",
              "3          10142  Bernie supporters on Twitter erupt in anger ag...   \n",
              "4            875   The Battle of New York: Why This Primary Matters   \n",
              "...          ...                                                ...   \n",
              "6330        4490  State Department says it can't find emails fro...   \n",
              "6331        8062  The ‘P’ in PBS Should Stand for ‘Plutocratic’ ...   \n",
              "6332        8622  Anti-Trump Protesters Are Tools of the Oligarc...   \n",
              "6333        4021  In Ethiopia, Obama seeks progress on peace, se...   \n",
              "6334        4330  Jeb Bush Is Suddenly Attacking Trump. Here's W...   \n",
              "\n",
              "                                                   text  label  \n",
              "0     Daniel Greenfield, a Shillman Journalism Fello...      0  \n",
              "1     Google Pinterest Digg Linkedin Reddit Stumbleu...      0  \n",
              "2     U.S. Secretary of State John F. Kerry said Mon...      1  \n",
              "3     — Kaydee King (@KaydeeKing) November 9, 2016 T...      0  \n",
              "4     It's primary day in New York and front-runners...      1  \n",
              "...                                                 ...    ...  \n",
              "6330  The State Department told the Republican Natio...      1  \n",
              "6331  The ‘P’ in PBS Should Stand for ‘Plutocratic’ ...      0  \n",
              "6332   Anti-Trump Protesters Are Tools of the Oligar...      0  \n",
              "6333  ADDIS ABABA, Ethiopia —President Obama convene...      1  \n",
              "6334  Jeb Bush Is Suddenly Attacking Trump. Here's W...      1  \n",
              "\n",
              "[6335 rows x 4 columns]"
            ],
            "text/html": [
              "\n",
              "  <div id=\"df-83e353e6-3b41-4e80-822f-be341e81b7bb\">\n",
              "    <div class=\"colab-df-container\">\n",
              "      <div>\n",
              "<style scoped>\n",
              "    .dataframe tbody tr th:only-of-type {\n",
              "        vertical-align: middle;\n",
              "    }\n",
              "\n",
              "    .dataframe tbody tr th {\n",
              "        vertical-align: top;\n",
              "    }\n",
              "\n",
              "    .dataframe thead th {\n",
              "        text-align: right;\n",
              "    }\n",
              "</style>\n",
              "<table border=\"1\" class=\"dataframe\">\n",
              "  <thead>\n",
              "    <tr style=\"text-align: right;\">\n",
              "      <th></th>\n",
              "      <th>Unnamed: 0</th>\n",
              "      <th>title</th>\n",
              "      <th>text</th>\n",
              "      <th>label</th>\n",
              "    </tr>\n",
              "  </thead>\n",
              "  <tbody>\n",
              "    <tr>\n",
              "      <th>0</th>\n",
              "      <td>8476</td>\n",
              "      <td>You Can Smell Hillary’s Fear</td>\n",
              "      <td>Daniel Greenfield, a Shillman Journalism Fello...</td>\n",
              "      <td>0</td>\n",
              "    </tr>\n",
              "    <tr>\n",
              "      <th>1</th>\n",
              "      <td>10294</td>\n",
              "      <td>Watch The Exact Moment Paul Ryan Committed Pol...</td>\n",
              "      <td>Google Pinterest Digg Linkedin Reddit Stumbleu...</td>\n",
              "      <td>0</td>\n",
              "    </tr>\n",
              "    <tr>\n",
              "      <th>2</th>\n",
              "      <td>3608</td>\n",
              "      <td>Kerry to go to Paris in gesture of sympathy</td>\n",
              "      <td>U.S. Secretary of State John F. Kerry said Mon...</td>\n",
              "      <td>1</td>\n",
              "    </tr>\n",
              "    <tr>\n",
              "      <th>3</th>\n",
              "      <td>10142</td>\n",
              "      <td>Bernie supporters on Twitter erupt in anger ag...</td>\n",
              "      <td>— Kaydee King (@KaydeeKing) November 9, 2016 T...</td>\n",
              "      <td>0</td>\n",
              "    </tr>\n",
              "    <tr>\n",
              "      <th>4</th>\n",
              "      <td>875</td>\n",
              "      <td>The Battle of New York: Why This Primary Matters</td>\n",
              "      <td>It's primary day in New York and front-runners...</td>\n",
              "      <td>1</td>\n",
              "    </tr>\n",
              "    <tr>\n",
              "      <th>...</th>\n",
              "      <td>...</td>\n",
              "      <td>...</td>\n",
              "      <td>...</td>\n",
              "      <td>...</td>\n",
              "    </tr>\n",
              "    <tr>\n",
              "      <th>6330</th>\n",
              "      <td>4490</td>\n",
              "      <td>State Department says it can't find emails fro...</td>\n",
              "      <td>The State Department told the Republican Natio...</td>\n",
              "      <td>1</td>\n",
              "    </tr>\n",
              "    <tr>\n",
              "      <th>6331</th>\n",
              "      <td>8062</td>\n",
              "      <td>The ‘P’ in PBS Should Stand for ‘Plutocratic’ ...</td>\n",
              "      <td>The ‘P’ in PBS Should Stand for ‘Plutocratic’ ...</td>\n",
              "      <td>0</td>\n",
              "    </tr>\n",
              "    <tr>\n",
              "      <th>6332</th>\n",
              "      <td>8622</td>\n",
              "      <td>Anti-Trump Protesters Are Tools of the Oligarc...</td>\n",
              "      <td>Anti-Trump Protesters Are Tools of the Oligar...</td>\n",
              "      <td>0</td>\n",
              "    </tr>\n",
              "    <tr>\n",
              "      <th>6333</th>\n",
              "      <td>4021</td>\n",
              "      <td>In Ethiopia, Obama seeks progress on peace, se...</td>\n",
              "      <td>ADDIS ABABA, Ethiopia —President Obama convene...</td>\n",
              "      <td>1</td>\n",
              "    </tr>\n",
              "    <tr>\n",
              "      <th>6334</th>\n",
              "      <td>4330</td>\n",
              "      <td>Jeb Bush Is Suddenly Attacking Trump. Here's W...</td>\n",
              "      <td>Jeb Bush Is Suddenly Attacking Trump. Here's W...</td>\n",
              "      <td>1</td>\n",
              "    </tr>\n",
              "  </tbody>\n",
              "</table>\n",
              "<p>6335 rows × 4 columns</p>\n",
              "</div>\n",
              "      <button class=\"colab-df-convert\" onclick=\"convertToInteractive('df-83e353e6-3b41-4e80-822f-be341e81b7bb')\"\n",
              "              title=\"Convert this dataframe to an interactive table.\"\n",
              "              style=\"display:none;\">\n",
              "        \n",
              "  <svg xmlns=\"http://www.w3.org/2000/svg\" height=\"24px\"viewBox=\"0 0 24 24\"\n",
              "       width=\"24px\">\n",
              "    <path d=\"M0 0h24v24H0V0z\" fill=\"none\"/>\n",
              "    <path d=\"M18.56 5.44l.94 2.06.94-2.06 2.06-.94-2.06-.94-.94-2.06-.94 2.06-2.06.94zm-11 1L8.5 8.5l.94-2.06 2.06-.94-2.06-.94L8.5 2.5l-.94 2.06-2.06.94zm10 10l.94 2.06.94-2.06 2.06-.94-2.06-.94-.94-2.06-.94 2.06-2.06.94z\"/><path d=\"M17.41 7.96l-1.37-1.37c-.4-.4-.92-.59-1.43-.59-.52 0-1.04.2-1.43.59L10.3 9.45l-7.72 7.72c-.78.78-.78 2.05 0 2.83L4 21.41c.39.39.9.59 1.41.59.51 0 1.02-.2 1.41-.59l7.78-7.78 2.81-2.81c.8-.78.8-2.07 0-2.86zM5.41 20L4 18.59l7.72-7.72 1.47 1.35L5.41 20z\"/>\n",
              "  </svg>\n",
              "      </button>\n",
              "      \n",
              "  <style>\n",
              "    .colab-df-container {\n",
              "      display:flex;\n",
              "      flex-wrap:wrap;\n",
              "      gap: 12px;\n",
              "    }\n",
              "\n",
              "    .colab-df-convert {\n",
              "      background-color: #E8F0FE;\n",
              "      border: none;\n",
              "      border-radius: 50%;\n",
              "      cursor: pointer;\n",
              "      display: none;\n",
              "      fill: #1967D2;\n",
              "      height: 32px;\n",
              "      padding: 0 0 0 0;\n",
              "      width: 32px;\n",
              "    }\n",
              "\n",
              "    .colab-df-convert:hover {\n",
              "      background-color: #E2EBFA;\n",
              "      box-shadow: 0px 1px 2px rgba(60, 64, 67, 0.3), 0px 1px 3px 1px rgba(60, 64, 67, 0.15);\n",
              "      fill: #174EA6;\n",
              "    }\n",
              "\n",
              "    [theme=dark] .colab-df-convert {\n",
              "      background-color: #3B4455;\n",
              "      fill: #D2E3FC;\n",
              "    }\n",
              "\n",
              "    [theme=dark] .colab-df-convert:hover {\n",
              "      background-color: #434B5C;\n",
              "      box-shadow: 0px 1px 3px 1px rgba(0, 0, 0, 0.15);\n",
              "      filter: drop-shadow(0px 1px 2px rgba(0, 0, 0, 0.3));\n",
              "      fill: #FFFFFF;\n",
              "    }\n",
              "  </style>\n",
              "\n",
              "      <script>\n",
              "        const buttonEl =\n",
              "          document.querySelector('#df-83e353e6-3b41-4e80-822f-be341e81b7bb button.colab-df-convert');\n",
              "        buttonEl.style.display =\n",
              "          google.colab.kernel.accessAllowed ? 'block' : 'none';\n",
              "\n",
              "        async function convertToInteractive(key) {\n",
              "          const element = document.querySelector('#df-83e353e6-3b41-4e80-822f-be341e81b7bb');\n",
              "          const dataTable =\n",
              "            await google.colab.kernel.invokeFunction('convertToInteractive',\n",
              "                                                     [key], {});\n",
              "          if (!dataTable) return;\n",
              "\n",
              "          const docLinkHtml = 'Like what you see? Visit the ' +\n",
              "            '<a target=\"_blank\" href=https://colab.research.google.com/notebooks/data_table.ipynb>data table notebook</a>'\n",
              "            + ' to learn more about interactive tables.';\n",
              "          element.innerHTML = '';\n",
              "          dataTable['output_type'] = 'display_data';\n",
              "          await google.colab.output.renderOutput(dataTable, element);\n",
              "          const docLink = document.createElement('div');\n",
              "          docLink.innerHTML = docLinkHtml;\n",
              "          element.appendChild(docLink);\n",
              "        }\n",
              "      </script>\n",
              "    </div>\n",
              "  </div>\n",
              "  "
            ]
          },
          "metadata": {},
          "execution_count": 16
        }
      ],
      "source": [
        "mapping = {'REAL': 1, 'FAKE':0}\n",
        "dataset1['label'] = dataset1['label'].map(mapping)\n",
        "dataset1"
      ]
    },
    {
      "cell_type": "code",
      "execution_count": null,
      "metadata": {
        "id": "LC0v0vuhGfnD"
      },
      "outputs": [],
      "source": [
        "# Detecting data\n",
        "def news(content):\n",
        "  blob = TextBlob(content)\n",
        "  label = blob.sentiment.polarity\n",
        "  if label > 0:\n",
        "    result = \"REAL\"\n",
        "  else:\n",
        "    result = \"FAKE\"\n",
        "  return result"
      ]
    },
    {
      "cell_type": "code",
      "execution_count": null,
      "metadata": {
        "colab": {
          "base_uri": "https://localhost:8080/",
          "height": 36
        },
        "id": "WYBZl70eG79K",
        "outputId": "ca8077cc-4133-472f-fc68-827b690f1b0b"
      },
      "outputs": [
        {
          "output_type": "execute_result",
          "data": {
            "text/plain": [
              "'FAKE'"
            ],
            "application/vnd.google.colaboratory.intrinsic+json": {
              "type": "string"
            }
          },
          "metadata": {},
          "execution_count": 12
        }
      ],
      "source": [
        "news(\"Under its Covid-specific policy, Twitter operated a five-strike system for accounts posting demonstrably false or misleading content that may lead to significant risk of harm such as exposure to Covid or damage to public health systems.\")"
      ]
    },
    {
      "cell_type": "code",
      "execution_count": null,
      "metadata": {
        "colab": {
          "base_uri": "https://localhost:8080/"
        },
        "id": "lA2HzrjKJpCh",
        "outputId": "7e65b7c2-6d82-426c-90d3-f684416e462d"
      },
      "outputs": [
        {
          "output_type": "execute_result",
          "data": {
            "text/plain": [
              "TfidfVectorizer(max_df=0.7, stop_words='english')"
            ]
          },
          "metadata": {},
          "execution_count": 13
        }
      ],
      "source": [
        "tfidf_vec = TfidfVectorizer(stop_words='english', max_df=0.7)\n",
        "tfidf_vec"
      ]
    },
    {
      "cell_type": "code",
      "execution_count": null,
      "metadata": {
        "id": "7AnGJOVZLN4U"
      },
      "outputs": [],
      "source": [
        "y = dataset1[\"label\"].values\n",
        "X = dataset1[\"text\"]"
      ]
    },
    {
      "cell_type": "code",
      "execution_count": null,
      "metadata": {
        "colab": {
          "base_uri": "https://localhost:8080/"
        },
        "id": "PY8SKTmZXk_F",
        "outputId": "dcb5f40c-de35-4ad2-99bd-acde967d0326"
      },
      "outputs": [
        {
          "output_type": "execute_result",
          "data": {
            "text/plain": [
              "0       0\n",
              "1       0\n",
              "2       1\n",
              "3       0\n",
              "4       1\n",
              "       ..\n",
              "6330    1\n",
              "6331    0\n",
              "6332    0\n",
              "6333    1\n",
              "6334    1\n",
              "Name: label, Length: 6335, dtype: int64"
            ]
          },
          "metadata": {},
          "execution_count": 15
        }
      ],
      "source": [
        "labels = dataset1.label.copy()\n",
        "news = dataset1.text.copy()\n",
        "labels"
      ]
    },
    {
      "cell_type": "code",
      "execution_count": null,
      "metadata": {
        "id": "Tuok8VUlaRxq"
      },
      "outputs": [],
      "source": [
        "x_train, x_test, y_train, y_test = train_test_split(news, labels, test_size=0.2, random_state=1, stratify=labels)"
      ]
    },
    {
      "cell_type": "code",
      "execution_count": null,
      "metadata": {
        "id": "9fXlfCDZLjKL"
      },
      "outputs": [],
      "source": [
        "news = tfidf_vec.fit_transform(news)"
      ]
    },
    {
      "cell_type": "code",
      "execution_count": null,
      "metadata": {
        "id": "ww5COSVwLpxe"
      },
      "outputs": [],
      "source": [
        "from sklearn.feature_extraction.text import CountVectorizer\n",
        "cv = CountVectorizer()\n",
        "news = cv.fit_transform(X)"
      ]
    },
    {
      "cell_type": "markdown",
      "source": [
        "**Passive Aggressive Classifiaction**"
      ],
      "metadata": {
        "id": "z1hL3fk57aoH"
      }
    },
    {
      "cell_type": "code",
      "execution_count": null,
      "metadata": {
        "id": "ZDy7GzKULyfS"
      },
      "outputs": [],
      "source": [
        "pac = PassiveAggressiveClassifier()"
      ]
    },
    {
      "cell_type": "code",
      "execution_count": null,
      "metadata": {
        "colab": {
          "base_uri": "https://localhost:8080/"
        },
        "id": "EObAa_RrMm3k",
        "outputId": "aa87006c-cae8-4cce-9816-71bcb8ffcb4a"
      },
      "outputs": [
        {
          "output_type": "execute_result",
          "data": {
            "text/plain": [
              "PassiveAggressiveClassifier()"
            ]
          },
          "metadata": {},
          "execution_count": 26
        }
      ],
      "source": [
        "pac.fit(x_train, y_train)"
      ]
    },
    {
      "cell_type": "code",
      "execution_count": null,
      "metadata": {
        "id": "ehmmOU6-MpjL"
      },
      "outputs": [],
      "source": [
        "y_pred = pac.predict(x_test)"
      ]
    },
    {
      "cell_type": "code",
      "execution_count": null,
      "metadata": {
        "colab": {
          "base_uri": "https://localhost:8080/"
        },
        "id": "n1owzG2gM7IS",
        "outputId": "4cf132ae-6491-495a-9c42-8e64e522fcaf"
      },
      "outputs": [
        {
          "output_type": "execute_result",
          "data": {
            "text/plain": [
              "0.9163378058405682"
            ]
          },
          "metadata": {},
          "execution_count": 28
        }
      ],
      "source": [
        "score = accuracy_score(y_test, y_pred)\n",
        "score"
      ]
    },
    {
      "cell_type": "markdown",
      "source": [
        "**predicting data from the given dataset**"
      ],
      "metadata": {
        "id": "7cCVVd3X7ki8"
      }
    },
    {
      "cell_type": "code",
      "execution_count": null,
      "metadata": {
        "colab": {
          "base_uri": "https://localhost:8080/"
        },
        "id": "TYFttb60NgaS",
        "outputId": "db4ee928-8bb7-41af-e841-e32632209edb"
      },
      "outputs": [
        {
          "output_type": "stream",
          "name": "stdout",
          "text": [
            "[1]\n",
            "This is real\n"
          ]
        }
      ],
      "source": [
        "X_new = x_test[600]\n",
        "prediction = pac.predict(X_new)\n",
        "print(prediction)\n",
        "if(prediction[0] == 1):\n",
        "  print('This is real')\n",
        "else:\n",
        "  print('This is fake')\n"
      ]
    },
    {
      "cell_type": "code",
      "execution_count": null,
      "metadata": {
        "colab": {
          "base_uri": "https://localhost:8080/"
        },
        "id": "gjn2x_lLOG_c",
        "outputId": "82fadb39-250c-45e7-da15-931b320d7daf"
      },
      "outputs": [
        {
          "output_type": "stream",
          "name": "stdout",
          "text": [
            "1\n"
          ]
        }
      ],
      "source": [
        "print(y_pred[600])"
      ]
    },
    {
      "cell_type": "code",
      "execution_count": null,
      "metadata": {
        "id": "wsQS2j7dOO9m"
      },
      "outputs": [],
      "source": [
        "def pred_news(txt,classifier):\n",
        "  vect = cv.transform(txt).toarray()\n",
        "  print(vect)\n",
        "  prediction = pac.predict(vect)\n",
        "  print(prediction)\n",
        "  return prediction"
      ]
    },
    {
      "cell_type": "code",
      "execution_count": null,
      "metadata": {
        "colab": {
          "base_uri": "https://localhost:8080/"
        },
        "id": "mshESBbhdcef",
        "outputId": "b5387483-c03e-4050-c282-9bddf67b68bb"
      },
      "outputs": [
        {
          "output_type": "stream",
          "name": "stdout",
          "text": [
            "[[0 0 0 ... 0 0 0]]\n",
            "[1]\n"
          ]
        },
        {
          "output_type": "execute_result",
          "data": {
            "text/plain": [
              "array([1])"
            ]
          },
          "metadata": {},
          "execution_count": 32
        }
      ],
      "source": [
        "str = \"Mr Ustenko, who advises President Zelensky on economic affairs, has written to BP's chief executive, Bernard Looney, urging him to set out a plan to ensure his business does not profit from the war.\"\n",
        "str1 = [str]\n",
        "pred_news(str1,pac)"
      ]
    },
    {
      "cell_type": "markdown",
      "source": [
        "**Data preprocessing**"
      ],
      "metadata": {
        "id": "eCjwoi6_7t2I"
      }
    },
    {
      "cell_type": "code",
      "execution_count": null,
      "metadata": {
        "colab": {
          "base_uri": "https://localhost:8080/"
        },
        "id": "SDOyE0s7PLe_",
        "outputId": "cfe559cb-8987-4244-be00-51704c918bef"
      },
      "outputs": [
        {
          "output_type": "stream",
          "name": "stderr",
          "text": [
            "[nltk_data] Downloading package stopwords to /root/nltk_data...\n",
            "[nltk_data]   Unzipping corpora/stopwords.zip.\n",
            "[nltk_data] Downloading package wordnet to /root/nltk_data...\n",
            "[nltk_data]   Package wordnet is already up-to-date!\n"
          ]
        }
      ],
      "source": [
        "# 3\n",
        "import numpy as np\n",
        "import pandas as pd\n",
        "from collections import Counter\n",
        "\n",
        "import nltk\n",
        "nltk.download('stopwords')\n",
        "nltk.download('wordnet')\n",
        "from nltk.corpus import stopwords\n",
        "\n",
        "import re\n",
        "from nltk.stem import WordNetLemmatizer\n",
        "stemmer = WordNetLemmatizer()"
      ]
    },
    {
      "cell_type": "code",
      "execution_count": null,
      "metadata": {
        "id": "z2vehb9oPuTK"
      },
      "outputs": [],
      "source": [
        "swords = stopwords.words('english')"
      ]
    },
    {
      "cell_type": "code",
      "execution_count": null,
      "metadata": {
        "colab": {
          "base_uri": "https://localhost:8080/"
        },
        "id": "Ix7D0ONEPSYj",
        "outputId": "5ff60f8c-6567-407e-9021-c4fcff22dbe4"
      },
      "outputs": [
        {
          "output_type": "stream",
          "name": "stderr",
          "text": [
            "[nltk_data] Downloading package omw-1.4 to /root/nltk_data...\n",
            "[nltk_data]   Package omw-1.4 is already up-to-date!\n"
          ]
        }
      ],
      "source": [
        "import nltk\n",
        "nltk.download('omw-1.4')\n",
        "\n",
        "def preprocess(sentence):\n",
        "    tweet = re.sub(r\"@\\S+|https?:\\S+|http?:\\S|[^A-Za-z0-9]+\", ' ', sentence)\n",
        "\n",
        "    # remove all single characters\n",
        "    tweet = re.sub(r'\\s+[a-zA-Z]\\s+', ' ', tweet)\n",
        "\n",
        "    # Substituting multiple spaces with single space\n",
        "    tweet = re.sub(r'\\s+', ' ', tweet, flags=re.I)\n",
        "\n",
        "    # Converting to Lowercase\n",
        "    tweet = tweet.lower()\n",
        "\n",
        "    # Lemmatization\n",
        "    tweet = tweet.split(' ')\n",
        "    tweet = [word for word in tweet if word not in swords]\n",
        "    tweet = [stemmer.lemmatize(word) for word in tweet]\n",
        "    tweet = ' '.join(tweet)\n",
        "    return tweet"
      ]
    },
    {
      "cell_type": "code",
      "execution_count": null,
      "metadata": {
        "id": "8-m5VcxzPVNL"
      },
      "outputs": [],
      "source": [
        "dataset1['text'] = dataset1['text'].apply(preprocess)"
      ]
    },
    {
      "cell_type": "code",
      "execution_count": null,
      "metadata": {
        "colab": {
          "base_uri": "https://localhost:8080/",
          "height": 206
        },
        "id": "d8ZNHE_ZcIUU",
        "outputId": "373f9a8a-db84-4735-cc22-5941dba3d981"
      },
      "outputs": [
        {
          "output_type": "execute_result",
          "data": {
            "text/plain": [
              "   Unnamed: 0                                              title  \\\n",
              "0        8476                       You Can Smell Hillary’s Fear   \n",
              "1       10294  Watch The Exact Moment Paul Ryan Committed Pol...   \n",
              "2        3608        Kerry to go to Paris in gesture of sympathy   \n",
              "3       10142  Bernie supporters on Twitter erupt in anger ag...   \n",
              "4         875   The Battle of New York: Why This Primary Matters   \n",
              "\n",
              "                                                text  label  \n",
              "0  daniel greenfield shillman journalism fellow f...      0  \n",
              "1  google pinterest digg linkedin reddit stumbleu...      0  \n",
              "2  u secretary state john kerry said monday stop ...      1  \n",
              "3   kaydee king kaydeeking november 9 2016 lesson...      0  \n",
              "4  primary day new york front runner hillary clin...      1  "
            ],
            "text/html": [
              "\n",
              "  <div id=\"df-42609f5f-2e68-4c78-b728-7a1a4953f3e1\">\n",
              "    <div class=\"colab-df-container\">\n",
              "      <div>\n",
              "<style scoped>\n",
              "    .dataframe tbody tr th:only-of-type {\n",
              "        vertical-align: middle;\n",
              "    }\n",
              "\n",
              "    .dataframe tbody tr th {\n",
              "        vertical-align: top;\n",
              "    }\n",
              "\n",
              "    .dataframe thead th {\n",
              "        text-align: right;\n",
              "    }\n",
              "</style>\n",
              "<table border=\"1\" class=\"dataframe\">\n",
              "  <thead>\n",
              "    <tr style=\"text-align: right;\">\n",
              "      <th></th>\n",
              "      <th>Unnamed: 0</th>\n",
              "      <th>title</th>\n",
              "      <th>text</th>\n",
              "      <th>label</th>\n",
              "    </tr>\n",
              "  </thead>\n",
              "  <tbody>\n",
              "    <tr>\n",
              "      <th>0</th>\n",
              "      <td>8476</td>\n",
              "      <td>You Can Smell Hillary’s Fear</td>\n",
              "      <td>daniel greenfield shillman journalism fellow f...</td>\n",
              "      <td>0</td>\n",
              "    </tr>\n",
              "    <tr>\n",
              "      <th>1</th>\n",
              "      <td>10294</td>\n",
              "      <td>Watch The Exact Moment Paul Ryan Committed Pol...</td>\n",
              "      <td>google pinterest digg linkedin reddit stumbleu...</td>\n",
              "      <td>0</td>\n",
              "    </tr>\n",
              "    <tr>\n",
              "      <th>2</th>\n",
              "      <td>3608</td>\n",
              "      <td>Kerry to go to Paris in gesture of sympathy</td>\n",
              "      <td>u secretary state john kerry said monday stop ...</td>\n",
              "      <td>1</td>\n",
              "    </tr>\n",
              "    <tr>\n",
              "      <th>3</th>\n",
              "      <td>10142</td>\n",
              "      <td>Bernie supporters on Twitter erupt in anger ag...</td>\n",
              "      <td>kaydee king kaydeeking november 9 2016 lesson...</td>\n",
              "      <td>0</td>\n",
              "    </tr>\n",
              "    <tr>\n",
              "      <th>4</th>\n",
              "      <td>875</td>\n",
              "      <td>The Battle of New York: Why This Primary Matters</td>\n",
              "      <td>primary day new york front runner hillary clin...</td>\n",
              "      <td>1</td>\n",
              "    </tr>\n",
              "  </tbody>\n",
              "</table>\n",
              "</div>\n",
              "      <button class=\"colab-df-convert\" onclick=\"convertToInteractive('df-42609f5f-2e68-4c78-b728-7a1a4953f3e1')\"\n",
              "              title=\"Convert this dataframe to an interactive table.\"\n",
              "              style=\"display:none;\">\n",
              "        \n",
              "  <svg xmlns=\"http://www.w3.org/2000/svg\" height=\"24px\"viewBox=\"0 0 24 24\"\n",
              "       width=\"24px\">\n",
              "    <path d=\"M0 0h24v24H0V0z\" fill=\"none\"/>\n",
              "    <path d=\"M18.56 5.44l.94 2.06.94-2.06 2.06-.94-2.06-.94-.94-2.06-.94 2.06-2.06.94zm-11 1L8.5 8.5l.94-2.06 2.06-.94-2.06-.94L8.5 2.5l-.94 2.06-2.06.94zm10 10l.94 2.06.94-2.06 2.06-.94-2.06-.94-.94-2.06-.94 2.06-2.06.94z\"/><path d=\"M17.41 7.96l-1.37-1.37c-.4-.4-.92-.59-1.43-.59-.52 0-1.04.2-1.43.59L10.3 9.45l-7.72 7.72c-.78.78-.78 2.05 0 2.83L4 21.41c.39.39.9.59 1.41.59.51 0 1.02-.2 1.41-.59l7.78-7.78 2.81-2.81c.8-.78.8-2.07 0-2.86zM5.41 20L4 18.59l7.72-7.72 1.47 1.35L5.41 20z\"/>\n",
              "  </svg>\n",
              "      </button>\n",
              "      \n",
              "  <style>\n",
              "    .colab-df-container {\n",
              "      display:flex;\n",
              "      flex-wrap:wrap;\n",
              "      gap: 12px;\n",
              "    }\n",
              "\n",
              "    .colab-df-convert {\n",
              "      background-color: #E8F0FE;\n",
              "      border: none;\n",
              "      border-radius: 50%;\n",
              "      cursor: pointer;\n",
              "      display: none;\n",
              "      fill: #1967D2;\n",
              "      height: 32px;\n",
              "      padding: 0 0 0 0;\n",
              "      width: 32px;\n",
              "    }\n",
              "\n",
              "    .colab-df-convert:hover {\n",
              "      background-color: #E2EBFA;\n",
              "      box-shadow: 0px 1px 2px rgba(60, 64, 67, 0.3), 0px 1px 3px 1px rgba(60, 64, 67, 0.15);\n",
              "      fill: #174EA6;\n",
              "    }\n",
              "\n",
              "    [theme=dark] .colab-df-convert {\n",
              "      background-color: #3B4455;\n",
              "      fill: #D2E3FC;\n",
              "    }\n",
              "\n",
              "    [theme=dark] .colab-df-convert:hover {\n",
              "      background-color: #434B5C;\n",
              "      box-shadow: 0px 1px 3px 1px rgba(0, 0, 0, 0.15);\n",
              "      filter: drop-shadow(0px 1px 2px rgba(0, 0, 0, 0.3));\n",
              "      fill: #FFFFFF;\n",
              "    }\n",
              "  </style>\n",
              "\n",
              "      <script>\n",
              "        const buttonEl =\n",
              "          document.querySelector('#df-42609f5f-2e68-4c78-b728-7a1a4953f3e1 button.colab-df-convert');\n",
              "        buttonEl.style.display =\n",
              "          google.colab.kernel.accessAllowed ? 'block' : 'none';\n",
              "\n",
              "        async function convertToInteractive(key) {\n",
              "          const element = document.querySelector('#df-42609f5f-2e68-4c78-b728-7a1a4953f3e1');\n",
              "          const dataTable =\n",
              "            await google.colab.kernel.invokeFunction('convertToInteractive',\n",
              "                                                     [key], {});\n",
              "          if (!dataTable) return;\n",
              "\n",
              "          const docLinkHtml = 'Like what you see? Visit the ' +\n",
              "            '<a target=\"_blank\" href=https://colab.research.google.com/notebooks/data_table.ipynb>data table notebook</a>'\n",
              "            + ' to learn more about interactive tables.';\n",
              "          element.innerHTML = '';\n",
              "          dataTable['output_type'] = 'display_data';\n",
              "          await google.colab.output.renderOutput(dataTable, element);\n",
              "          const docLink = document.createElement('div');\n",
              "          docLink.innerHTML = docLinkHtml;\n",
              "          element.appendChild(docLink);\n",
              "        }\n",
              "      </script>\n",
              "    </div>\n",
              "  </div>\n",
              "  "
            ]
          },
          "metadata": {},
          "execution_count": 56
        }
      ],
      "source": [
        "dataset1.head(5)"
      ]
    },
    {
      "cell_type": "code",
      "execution_count": null,
      "metadata": {
        "id": "qCJMQr-fcIUU"
      },
      "outputs": [],
      "source": [
        "y = dataset1[\"label\"].values\n",
        "X = dataset1[\"text\"]"
      ]
    },
    {
      "cell_type": "code",
      "execution_count": null,
      "metadata": {
        "id": "r2DTZEURP8YO"
      },
      "outputs": [],
      "source": [
        "# 3.2\n",
        "max_features = 1000\n",
        "maxlen = 100"
      ]
    },
    {
      "cell_type": "code",
      "execution_count": null,
      "metadata": {
        "id": "Qe8mmSeIQvkv"
      },
      "outputs": [],
      "source": [
        "from sklearn.model_selection import train_test_split\n",
        "X_train, X_test, y_train, y_test = train_test_split(X, y, test_size=0.3, random_state=1, stratify=y)"
      ]
    },
    {
      "cell_type": "markdown",
      "source": [
        "**Text vectorization**"
      ],
      "metadata": {
        "id": "RSfi_BdE70VN"
      }
    },
    {
      "cell_type": "markdown",
      "source": [],
      "metadata": {
        "id": "Ei8Yzh-G70SZ"
      }
    },
    {
      "cell_type": "code",
      "execution_count": null,
      "metadata": {
        "id": "KlC1XwRIP_9P"
      },
      "outputs": [],
      "source": [
        "from tensorflow.keras import layers\n",
        "text_vectorization = layers.TextVectorization (max_tokens=max_features, output_mode=\"int\", output_sequence_length=maxlen)\n",
        "text_vectorization.adapt(X)\n",
        "X_train = text_vectorization(X_train)\n",
        "X_test = text_vectorization(X_test)"
      ]
    },
    {
      "cell_type": "code",
      "execution_count": null,
      "metadata": {
        "id": "Q9_A8jR4Q1sK"
      },
      "outputs": [],
      "source": [
        "text = text_vectorization.get_vocabulary()\n",
        "import pickle \n",
        "with open('/content/drive/MyDrive/Colab Notebooks/text.pickle', 'wb') as f:\n",
        "  pickle.dump(text, f)\n",
        "\n",
        "with open('/content/drive/MyDrive/Colab Notebooks/X_train.pickle', 'wb') as f:\n",
        "  pickle.dump(X_train,f)\n",
        "\n",
        "with open('/content/drive/MyDrive/Colab Notebooks/X_test.pickle', 'wb') as f:\n",
        "  pickle.dump(X_test,f)\n",
        "\n",
        "with open('/content/drive/MyDrive/Colab Notebooks/y_train.pickle', 'wb') as f:\n",
        "  pickle.dump(y_train,f)\n",
        "\n",
        "with open('/content/drive/MyDrive/Colab Notebooks/y_test.pickle', 'wb') as f:\n",
        "  pickle.dump(y_test,f)\n",
        "\n"
      ]
    },
    {
      "cell_type": "code",
      "execution_count": null,
      "metadata": {
        "id": "pTSxNXBBRKUz"
      },
      "outputs": [],
      "source": [
        "# 4\n",
        "import pickle\n",
        "with open('/content/drive/MyDrive/Colab Notebooks/text.pickle', 'rb') as f:\n",
        "  vocabulary = pickle.load(f)\n",
        "\n",
        "with open('/content/drive/MyDrive/Colab Notebooks/X_train.pickle', 'rb') as f:\n",
        "  X_train = pickle.load(f)\n",
        "\n",
        "with open('/content/drive/MyDrive/Colab Notebooks/X_test.pickle', 'rb') as f:\n",
        "  X_test = pickle.load(f)\n",
        "\n",
        "with open('/content/drive/MyDrive/Colab Notebooks/y_train.pickle', 'rb') as f:\n",
        "  y_train = pickle.load(f)\n",
        "\n",
        "with open('/content/drive/MyDrive/Colab Notebooks/y_test.pickle', 'rb') as f:\n",
        "  y_test = pickle.load(f)"
      ]
    },
    {
      "cell_type": "code",
      "execution_count": null,
      "metadata": {
        "colab": {
          "base_uri": "https://localhost:8080/"
        },
        "id": "za5WTm-MRR2K",
        "outputId": "8172ee30-0e10-4722-ac76-52a658e8c48b"
      },
      "outputs": [
        {
          "output_type": "stream",
          "name": "stdout",
          "text": [
            "4434\n",
            "1901\n",
            "[1 1 0 ... 1 0 1]\n",
            "[0 1 0 ... 1 1 1]\n"
          ]
        }
      ],
      "source": [
        "print(len(X_train))\n",
        "print(len(X_test))\n",
        "print(y_train)\n",
        "print(y_test)"
      ]
    },
    {
      "cell_type": "markdown",
      "source": [
        "**Array to staore the results of models**"
      ],
      "metadata": {
        "id": "68xRYiYe77aH"
      }
    },
    {
      "cell_type": "code",
      "source": [
        "performances =[]"
      ],
      "metadata": {
        "id": "XHnENMKEYwk5"
      },
      "execution_count": null,
      "outputs": []
    },
    {
      "cell_type": "markdown",
      "source": [
        "**Simple RNN**"
      ],
      "metadata": {
        "id": "Dpas8QP-8BFb"
      }
    },
    {
      "cell_type": "code",
      "source": [
        "from keras.layers import Dense \n",
        "from keras.layers import SimpleRNN\n",
        "from keras.models import Sequential\n",
        "from keras.layers import Embedding\n",
        "from keras import layers\n",
        "\n",
        "model = Sequential()\n",
        "model.add(Embedding(max_features, maxlen))\n",
        "model.add(layers.Bidirectional(SimpleRNN(32)))\n",
        "model.add(Dense(128, activation='relu'))\n",
        "model.add(Dense(64, activation='relu'))\n",
        "model.add(Dense(32, activation='relu'))\n",
        "model.add(Dense(1, activation='sigmoid'))\n",
        "\n",
        "model.compile(optimizer='rmsprop', loss='binary_crossentropy', metrics=['acc'])\n",
        "history = model.fit(X_train, y_train,\n",
        "                    epochs=30,\n",
        "                    batch_size=128,\n",
        "                    validation_split=0.1)\n",
        "\n",
        "from sklearn.metrics import accuracy_score, precision_score, recall_score, f1_score\n",
        "predictions = model.predict(X_test)\n",
        "predictions = [round(prediction[0]) for prediction in predictions]\n",
        "\n",
        "accuracy = accuracy_score(y_test, predictions)\n",
        "precision = precision_score(y_test, predictions)\n",
        "recall = recall_score(y_test, predictions)\n",
        "f1 = f1_score(y_test, predictions)\n",
        "\n",
        "print(f\"Accuracy: {accuracy}\\nPrecision: {precision}\\nRecall: {recall}\\nF1_score: {f1}\\n\")\n",
        "\n",
        "model_name = \"Simple RNN\"\n",
        "\n",
        "performances.append([model_name, accuracy, precision, recall, f1])\n",
        "\n",
        "with open('/content/drive/MyDrive/Colab Notebooks/performances.pickle', 'wb') as f:\n",
        "  pickle.dump(performances, f)"
      ],
      "metadata": {
        "colab": {
          "base_uri": "https://localhost:8080/"
        },
        "id": "dD1vDG3WVe0I",
        "outputId": "2a2c565a-76ab-40ad-f921-56d36c6a8542"
      },
      "execution_count": null,
      "outputs": [
        {
          "output_type": "stream",
          "name": "stdout",
          "text": [
            "Epoch 1/30\n",
            "32/32 [==============================] - 16s 287ms/step - loss: 0.5728 - acc: 0.7168 - val_loss: 0.4751 - val_acc: 0.7860\n",
            "Epoch 2/30\n",
            "32/32 [==============================] - 8s 246ms/step - loss: 0.3061 - acc: 0.8784 - val_loss: 0.2221 - val_acc: 0.8986\n",
            "Epoch 3/30\n",
            "32/32 [==============================] - 8s 246ms/step - loss: 0.2319 - acc: 0.9113 - val_loss: 0.2543 - val_acc: 0.8851\n",
            "Epoch 4/30\n",
            "32/32 [==============================] - 8s 245ms/step - loss: 0.1913 - acc: 0.9306 - val_loss: 0.1964 - val_acc: 0.9189\n",
            "Epoch 5/30\n",
            "32/32 [==============================] - 8s 245ms/step - loss: 0.1686 - acc: 0.9391 - val_loss: 0.2051 - val_acc: 0.9144\n",
            "Epoch 6/30\n",
            "32/32 [==============================] - 8s 238ms/step - loss: 0.1454 - acc: 0.9446 - val_loss: 0.2107 - val_acc: 0.9077\n",
            "Epoch 7/30\n",
            "32/32 [==============================] - 8s 241ms/step - loss: 0.1043 - acc: 0.9649 - val_loss: 0.1954 - val_acc: 0.9279\n",
            "Epoch 8/30\n",
            "32/32 [==============================] - 8s 240ms/step - loss: 0.0935 - acc: 0.9674 - val_loss: 0.3205 - val_acc: 0.8851\n",
            "Epoch 9/30\n",
            "32/32 [==============================] - 8s 245ms/step - loss: 0.0712 - acc: 0.9777 - val_loss: 0.2570 - val_acc: 0.9167\n",
            "Epoch 10/30\n",
            "32/32 [==============================] - 8s 240ms/step - loss: 0.0549 - acc: 0.9825 - val_loss: 0.2646 - val_acc: 0.9212\n",
            "Epoch 11/30\n",
            "32/32 [==============================] - 8s 247ms/step - loss: 0.0408 - acc: 0.9870 - val_loss: 0.2996 - val_acc: 0.9279\n",
            "Epoch 12/30\n",
            "32/32 [==============================] - 8s 243ms/step - loss: 0.0326 - acc: 0.9885 - val_loss: 0.4101 - val_acc: 0.8941\n",
            "Epoch 13/30\n",
            "32/32 [==============================] - 8s 247ms/step - loss: 0.0192 - acc: 0.9945 - val_loss: 0.3722 - val_acc: 0.9054\n",
            "Epoch 14/30\n",
            "32/32 [==============================] - 8s 242ms/step - loss: 0.0185 - acc: 0.9927 - val_loss: 0.4106 - val_acc: 0.9122\n",
            "Epoch 15/30\n",
            "32/32 [==============================] - 8s 241ms/step - loss: 0.0020 - acc: 0.9995 - val_loss: 0.5158 - val_acc: 0.9122\n",
            "Epoch 16/30\n",
            "32/32 [==============================] - 8s 241ms/step - loss: 0.0165 - acc: 0.9957 - val_loss: 0.5804 - val_acc: 0.8919\n",
            "Epoch 17/30\n",
            "32/32 [==============================] - 8s 246ms/step - loss: 0.0026 - acc: 0.9987 - val_loss: 0.5916 - val_acc: 0.9009\n",
            "Epoch 18/30\n",
            "32/32 [==============================] - 8s 242ms/step - loss: 5.1692e-04 - acc: 0.9997 - val_loss: 0.6181 - val_acc: 0.9032\n",
            "Epoch 19/30\n",
            "32/32 [==============================] - 8s 245ms/step - loss: 0.0095 - acc: 0.9962 - val_loss: 0.5971 - val_acc: 0.9032\n",
            "Epoch 20/30\n",
            "32/32 [==============================] - 8s 245ms/step - loss: 2.0186e-04 - acc: 1.0000 - val_loss: 0.6528 - val_acc: 0.8986\n",
            "Epoch 21/30\n",
            "32/32 [==============================] - 8s 243ms/step - loss: 4.7242e-05 - acc: 1.0000 - val_loss: 0.7385 - val_acc: 0.9032\n",
            "Epoch 22/30\n",
            "32/32 [==============================] - 8s 236ms/step - loss: 7.7876e-06 - acc: 1.0000 - val_loss: 0.8546 - val_acc: 0.9099\n",
            "Epoch 23/30\n",
            "32/32 [==============================] - 8s 240ms/step - loss: 0.0061 - acc: 0.9985 - val_loss: 0.7914 - val_acc: 0.9032\n",
            "Epoch 24/30\n",
            "32/32 [==============================] - 8s 245ms/step - loss: 3.1249e-05 - acc: 1.0000 - val_loss: 0.8176 - val_acc: 0.9077\n",
            "Epoch 25/30\n",
            "32/32 [==============================] - 11s 333ms/step - loss: 5.6037e-06 - acc: 1.0000 - val_loss: 0.8645 - val_acc: 0.9077\n",
            "Epoch 26/30\n",
            "32/32 [==============================] - 8s 239ms/step - loss: 2.2894e-06 - acc: 1.0000 - val_loss: 0.9326 - val_acc: 0.9054\n",
            "Epoch 27/30\n",
            "32/32 [==============================] - 8s 241ms/step - loss: 7.0731e-07 - acc: 1.0000 - val_loss: 1.3540 - val_acc: 0.8694\n",
            "Epoch 28/30\n",
            "32/32 [==============================] - 8s 255ms/step - loss: 0.0023 - acc: 0.9995 - val_loss: 0.9213 - val_acc: 0.9099\n",
            "Epoch 29/30\n",
            "32/32 [==============================] - 8s 241ms/step - loss: 8.8827e-07 - acc: 1.0000 - val_loss: 0.9652 - val_acc: 0.9077\n",
            "Epoch 30/30\n",
            "32/32 [==============================] - 8s 239ms/step - loss: 4.9131e-07 - acc: 1.0000 - val_loss: 0.9957 - val_acc: 0.9054\n",
            "60/60 [==============================] - 2s 21ms/step\n",
            "Accuracy: 0.8942661756970016\n",
            "Precision: 0.8891191709844559\n",
            "Recall: 0.9012605042016807\n",
            "F1_score: 0.8951486697965572\n",
            "\n"
          ]
        }
      ]
    },
    {
      "cell_type": "markdown",
      "source": [
        "**loading performances**"
      ],
      "metadata": {
        "id": "zIVWwvpx8Jqn"
      }
    },
    {
      "cell_type": "code",
      "source": [
        "# 6\n",
        "# To load performances list\n",
        "performances = []\n",
        "with open('/content/drive/MyDrive/Colab Notebooks/performances.pickle', 'rb') as f:\n",
        "  performances = pickle.load(f)\n",
        "\n",
        "print(performances)"
      ],
      "metadata": {
        "colab": {
          "base_uri": "https://localhost:8080/"
        },
        "id": "jzsTltN3YXia",
        "outputId": "495e05fa-d492-40c3-90ab-916926c60cf8"
      },
      "execution_count": null,
      "outputs": [
        {
          "output_type": "stream",
          "name": "stdout",
          "text": [
            "[['Simple RNN', 0.8942661756970016, 0.8891191709844559, 0.9012605042016807, 0.8951486697965572]]\n"
          ]
        }
      ]
    },
    {
      "cell_type": "markdown",
      "source": [
        "**visualization with simple RNN**"
      ],
      "metadata": {
        "id": "lr2-nn6d8Pax"
      }
    },
    {
      "cell_type": "code",
      "execution_count": null,
      "metadata": {
        "colab": {
          "base_uri": "https://localhost:8080/",
          "height": 573
        },
        "id": "3arWJu2U2iAu",
        "outputId": "a0c95985-6470-4efa-f8fc-680ac2c9bc5d"
      },
      "outputs": [
        {
          "output_type": "display_data",
          "data": {
            "text/plain": [
              "<Figure size 432x288 with 1 Axes>"
            ],
            "image/png": "[encoded data removed]"
          },
          "metadata": {
            "needs_background": "light"
          }
        },
        {
          "output_type": "display_data",
          "data": {
            "text/plain": [
              "<Figure size 432x288 with 1 Axes>"
            ],
            "image/png": "[encoded data removed]"
          },
          "metadata": {
            "needs_background": "light"
          }
        }
      ],
      "source": [
        "import matplotlib.pyplot as plt\n",
        "\n",
        "# summarize history for accuracy\n",
        "plt.plot(history.history['acc'])\n",
        "plt.plot(history.history['val_acc'])\n",
        "plt.title('model accuracy')\n",
        "plt.ylabel('accuracy')\n",
        "plt.xlabel('epoch')\n",
        "plt.legend(['Train', 'Validation'], loc='upper left')\n",
        "plt.show()\n",
        "# summarize history for loss\n",
        "plt.plot(history.history['loss'])\n",
        "plt.plot(history.history['val_loss'])\n",
        "plt.title('model loss')\n",
        "plt.ylabel('loss')\n",
        "plt.xlabel('epoch')\n",
        "plt.legend(['Train', 'Validation'], loc='upper left')\n",
        "plt.show()"
      ]
    },
    {
      "cell_type": "markdown",
      "source": [
        "**predict method with text data either real or fake**"
      ],
      "metadata": {
        "id": "yB_CN4d98dmC"
      }
    },
    {
      "cell_type": "code",
      "source": [
        "def predict_news_status(txt, model):\n",
        "    txt = preprocess(txt) \n",
        "    txt = text_vectorization(pd.DataFrame([[txt]]))\n",
        "    prob = model.predict(txt)[0][0]\n",
        "    print(prob)\n",
        "    return 'Real' if prob >= 0.5 else 'Fake'"
      ],
      "metadata": {
        "id": "MLD-AT8p0uJ-"
      },
      "execution_count": null,
      "outputs": []
    },
    {
      "cell_type": "code",
      "execution_count": null,
      "metadata": {
        "colab": {
          "base_uri": "https://localhost:8080/",
          "height": 71
        },
        "id": "NwcN4Ag6cIUZ",
        "outputId": "a1f57932-4f75-4259-be62-e568d6bd2c16"
      },
      "outputs": [
        {
          "output_type": "stream",
          "name": "stdout",
          "text": [
            "1/1 [==============================] - 0s 27ms/step\n",
            "0.9999999\n"
          ]
        },
        {
          "output_type": "execute_result",
          "data": {
            "text/plain": [
              "'Real'"
            ],
            "application/vnd.google.colaboratory.intrinsic+json": {
              "type": "string"
            }
          },
          "metadata": {},
          "execution_count": 70
        }
      ],
      "source": [
        "str1 = X[184]\n",
        "# str1 = [str]\n",
        "predict_news_status(str1,model)"
      ]
    },
    {
      "cell_type": "code",
      "source": [
        "news_str = '''\n",
        "The Afghan Charge Affaires was summoned to foreign ministry, to convey Islamabad's “deep concern and anguish” over the attack on Pakistans Head of Mission in Kabul.\n",
        "\n",
        "It was underscored that perpetrators of this attack must be apprehended and brought to justice urgently, and an investigation be launched into the serious breach of security of the embassy premises.\n",
        "\n",
        "It was also emphasized that all necessary steps be taken to ensure security of the diplomatic premises, officers and staff working in Pakistans Mission in Kabul and consulates in Jalalabad, Kandahar, Herat and Mazar-i-Sharif.\n",
        "\n",
        "Responding to Pakistans call for apprehending the perpetrators and launching an investigation, the Afghan diplomat said the security of Pakistani diplomatic missions has already been beefed up.\n",
        "\n",
        "He assured that the Afghan authorities would leave no stone unturned in bringing the perpetrators of this dastardly act to justice.\n",
        "Meanwhile, the Pakistani security guard Israr Mohammad was flown back to Peshawar after he was critically injured in the attack.\n",
        "\n",
        "Foreign Office Spokesperson Mumtaz Zahra Baloch, while responding to a media query regarding attack on Pakistan Embassy in Kabul said Pakistan has no plans to close its embassy in Kabul or withdraw its diplomats.\n",
        "\n",
        "She said the government is in contact with Afghan interim authorities and enhanced security measures are being taken to protect Pakistani diplomatic personnel and Missions in Afghanistan.\n",
        "'''"
      ],
      "metadata": {
        "id": "hDi9M8Tc0em8"
      },
      "execution_count": null,
      "outputs": []
    },
    {
      "cell_type": "code",
      "source": [
        "news_str2 = '''\n",
        "Appearing on Geo News show ‘Aaj Shahzeb Khanzada Kay Sath’, the finance minister was questioned about the delayed arrival of the IMF team to which he said: “I don’t care if they come. I don’t have to plead before them. I have to look at Pakistan’s matters.”\n",
        "\n",
        "He added that the IMF team was “most welcome” to come and the government was dealing with it on a weekly basis.\n",
        "\n",
        "“Our ninth review is totally in order. Everything is in order and under normal circumstances … I have reassured them that our ninth review is in order and you should come and give Pakistan the $500 million funds,” Dar said.\n",
        "\n",
        "He said the IMF could “not dictate” the government. “If they don’t come then we will manage — no problem,” Dar added.\n",
        "\n",
        "Pushed back on the implications of his approach, the finance minister acknowledged that he agreed with the potential fallout of a breakdown in IMF talks and said that was why he was talking to the body for the country’s sake.\n",
        "\n",
        "“I know how to complete the [IMF] programme,” the finance minister maintained, stressing that the government would complete the current programme as well.\n",
        "\n",
        "Dar said that in his talks with the IMF, he told the Fund that it should strike deals keeping in mind that the government could not further burden the people. Dar said he had told the IMF that it was “behaving abnormally” in regard to dealing with Pakistan.\n",
        "\n",
        "“I have never taken dictation and never will from these institutions, I have to look after Pakistan’s interests,” the finance minister reiterated.\n",
        "\n",
        "Regarding the general level of Pakistan’s foreign reserves and the risk of default, Dar said the government had made arrangements for all its liabilities for the fiscal year and would make all payments.\n",
        "\n",
        "He also said that the government was currently in talks with an allied country for a deposit of $3bn, adding that there was a “positive understanding” present and Pakistan would definitely receive the funds.\n",
        "\n",
        "“This is a matter of two weeks [for the amount to arrive],” he added.\n",
        "\n",
        "Dar also rebuked former finance minister Miftah Ismail for his recent comments about the country’s risk of default and said he should be questioned about his six-month performance and where he left the level of foreign reserves.\n",
        "\n",
        "“He is a nonentity for me on this subject,” Dar said.\n",
        "\n",
        "Govt struggles for $1.18bn tranche\n",
        "Amid time running out, the IMF is still analysing Pakistan’s fiscal position particularly the flood-related expenditures that it viewed had changed the macroeconomic assumptions of the fund programme.\n",
        "\n",
        "The “IMF understands that the floods have changed the macroeconomic assumptions on which the programme was designed; therefore detailed analysis is being conducted by their team using the data provided”, the Ministry of Finance had said in response to a media query on the delay in the ninth review.\n",
        "\n",
        "The two sides had been virtually engaged for more than a month now in attempts to conclude the ninth review in November so that the next tranche of about $1.18 billion could be approved by the IMF’s executive board and disbursed before Christman and new year holidays. The policy level discussions are yet to be finalised although the finance ministry had said the “IMF team is expected to visit Islamabad soon for completion of the 9th review”.\n",
        "\n",
        "Under the normal mechanism, the fund staff mission has to reach an agreement with authorities on programme implementation and then required at least a fortnight for the board members to hold a meeting based on staff agreement. A further delay would mean the unavailability of the IMF executive board until the first week of January.\n",
        "\n",
        "Pakistan’s foreign exchange reserves in the meanwhile are critically low and the central bank authorities have been rationing dollar releases even for essential imports like crude and petroleum products.\n",
        "'''"
      ],
      "metadata": {
        "id": "cjUE4ytsi0Fy"
      },
      "execution_count": null,
      "outputs": []
    },
    {
      "cell_type": "code",
      "source": [
        "str1 = news_str2\n",
        "# str1 = [str]\n",
        "predict_news_status(str1,model)"
      ],
      "metadata": {
        "colab": {
          "base_uri": "https://localhost:8080/",
          "height": 71
        },
        "id": "3nt7QjGyEj7R",
        "outputId": "a7574edf-4799-4a6d-8b20-c25e2127b638"
      },
      "execution_count": null,
      "outputs": [
        {
          "output_type": "stream",
          "name": "stdout",
          "text": [
            "1/1 [==============================] - 0s 39ms/step\n",
            "0.0013576121\n"
          ]
        },
        {
          "output_type": "execute_result",
          "data": {
            "text/plain": [
              "'Fake'"
            ],
            "application/vnd.google.colaboratory.intrinsic+json": {
              "type": "string"
            }
          },
          "metadata": {},
          "execution_count": 73
        }
      ]
    },
    {
      "cell_type": "markdown",
      "source": [
        "**Simple RNN with Glove**"
      ],
      "metadata": {
        "id": "wYwt6ZVu8uJ3"
      }
    },
    {
      "cell_type": "code",
      "execution_count": null,
      "metadata": {
        "colab": {
          "base_uri": "https://localhost:8080/"
        },
        "id": "kXR4E4N_ddNr",
        "outputId": "8605f6ad-e87e-493b-c0ca-493982f93265"
      },
      "outputs": [
        {
          "output_type": "stream",
          "name": "stdout",
          "text": [
            "Found 400000 word vectors.\n"
          ]
        }
      ],
      "source": [
        "path_to_glove_file = \"/content/drive/MyDrive/ML_Assignments/glove.6B.100d.txt\"\n",
        "\n",
        "embeddings_index = {}\n",
        "with open(path_to_glove_file) as f:\n",
        "    for line in f:\n",
        "        word, coefs = line.split(maxsplit=1)\n",
        "        coefs = np.fromstring(coefs, \"f\", sep=\" \")\n",
        "        embeddings_index[word] = coefs\n",
        "\n",
        "print(f\"Found {len(embeddings_index)} word vectors.\")\n",
        "\n"
      ]
    },
    {
      "cell_type": "code",
      "execution_count": null,
      "metadata": {
        "id": "3e2U6_VLdnhQ"
      },
      "outputs": [],
      "source": [
        "embedding_dim = 100\n",
        "\n",
        "word_index = dict(zip(vocabulary, range(len(vocabulary))))\n",
        "\n",
        "embedding_matrix = np.zeros((max_features, embedding_dim))\n",
        "for word, i in word_index.items():\n",
        "    if i < max_features:\n",
        "        embedding_vector = embeddings_index.get(word)\n",
        "    if embedding_vector is not None:\n",
        "        embedding_matrix[i] = embedding_vector"
      ]
    },
    {
      "cell_type": "code",
      "execution_count": null,
      "metadata": {
        "id": "wfbuB2CDd82l"
      },
      "outputs": [],
      "source": [
        "from keras.layers import Dense, SimpleRNN, Embedding\n",
        "import keras\n",
        "embedding_layer = layers.Embedding(\n",
        "    max_features,\n",
        "    embedding_dim,\n",
        "    embeddings_initializer = keras.initializers.Constant(embedding_matrix),\n",
        "    trainable=False,\n",
        "    mask_zero=True,\n",
        ")"
      ]
    },
    {
      "cell_type": "code",
      "execution_count": null,
      "metadata": {
        "colab": {
          "base_uri": "https://localhost:8080/"
        },
        "id": "JgOKUtqBeIPP",
        "outputId": "3fadf7ed-4bb5-4f76-e360-89562225543f"
      },
      "outputs": [
        {
          "output_type": "stream",
          "name": "stdout",
          "text": [
            "Epoch 1/30\n",
            "51/51 [==============================] - 8s 98ms/step - loss: 0.4527 - acc: 0.7813 - val_loss: 0.2579 - val_acc: 0.9019\n",
            "Epoch 2/30\n",
            "51/51 [==============================] - 5s 89ms/step - loss: 0.1709 - acc: 0.9372 - val_loss: 0.1716 - val_acc: 0.9309\n",
            "Epoch 3/30\n",
            "51/51 [==============================] - 6s 124ms/step - loss: 0.0589 - acc: 0.9803 - val_loss: 0.1565 - val_acc: 0.9475\n",
            "Epoch 4/30\n",
            "51/51 [==============================] - 6s 116ms/step - loss: 0.0142 - acc: 0.9954 - val_loss: 0.1792 - val_acc: 0.9448\n",
            "Epoch 5/30\n",
            "51/51 [==============================] - 4s 85ms/step - loss: 0.0043 - acc: 0.9985 - val_loss: 0.1916 - val_acc: 0.9517\n",
            "Epoch 6/30\n",
            "51/51 [==============================] - 4s 88ms/step - loss: 0.0051 - acc: 0.9988 - val_loss: 0.2045 - val_acc: 0.9392\n",
            "Epoch 7/30\n",
            "51/51 [==============================] - 4s 88ms/step - loss: 0.0016 - acc: 0.9994 - val_loss: 0.2170 - val_acc: 0.9475\n",
            "Epoch 8/30\n",
            "51/51 [==============================] - 5s 88ms/step - loss: 0.0011 - acc: 0.9997 - val_loss: 0.2205 - val_acc: 0.9544\n",
            "Epoch 9/30\n",
            "51/51 [==============================] - 5s 89ms/step - loss: 0.0020 - acc: 0.9991 - val_loss: 0.2498 - val_acc: 0.9544\n",
            "Epoch 10/30\n",
            "51/51 [==============================] - 5s 90ms/step - loss: 2.3110e-05 - acc: 1.0000 - val_loss: 0.2416 - val_acc: 0.9572\n",
            "Epoch 11/30\n",
            "51/51 [==============================] - 4s 88ms/step - loss: 3.6492e-04 - acc: 0.9998 - val_loss: 0.3071 - val_acc: 0.9489\n",
            "Epoch 12/30\n",
            "51/51 [==============================] - 4s 86ms/step - loss: 2.6191e-06 - acc: 1.0000 - val_loss: 0.3155 - val_acc: 0.9517\n",
            "Epoch 13/30\n",
            "51/51 [==============================] - 4s 88ms/step - loss: 4.0116e-07 - acc: 1.0000 - val_loss: 0.3229 - val_acc: 0.9489\n",
            "Epoch 14/30\n",
            "51/51 [==============================] - 5s 89ms/step - loss: 1.1470e-04 - acc: 0.9998 - val_loss: 0.4098 - val_acc: 0.9558\n",
            "Epoch 15/30\n",
            "51/51 [==============================] - 5s 88ms/step - loss: 1.0141e-04 - acc: 1.0000 - val_loss: 0.4010 - val_acc: 0.9448\n",
            "Epoch 16/30\n",
            "51/51 [==============================] - 5s 89ms/step - loss: 8.3830e-08 - acc: 1.0000 - val_loss: 0.3952 - val_acc: 0.9475\n",
            "Epoch 17/30\n",
            "51/51 [==============================] - 5s 89ms/step - loss: 2.7288e-08 - acc: 1.0000 - val_loss: 0.3975 - val_acc: 0.9489\n",
            "Epoch 18/30\n",
            "51/51 [==============================] - 5s 88ms/step - loss: 1.1156e-08 - acc: 1.0000 - val_loss: 0.4144 - val_acc: 0.9517\n",
            "Epoch 19/30\n",
            "51/51 [==============================] - 4s 88ms/step - loss: 0.0027 - acc: 0.9997 - val_loss: 0.4312 - val_acc: 0.9530\n",
            "Epoch 20/30\n",
            "51/51 [==============================] - 4s 87ms/step - loss: 8.2277e-09 - acc: 1.0000 - val_loss: 0.4357 - val_acc: 0.9530\n",
            "Epoch 21/30\n",
            "51/51 [==============================] - 4s 87ms/step - loss: 5.4960e-09 - acc: 1.0000 - val_loss: 0.4375 - val_acc: 0.9530\n",
            "Epoch 22/30\n",
            "51/51 [==============================] - 5s 89ms/step - loss: 4.5175e-09 - acc: 1.0000 - val_loss: 0.4412 - val_acc: 0.9517\n",
            "Epoch 23/30\n",
            "51/51 [==============================] - 5s 89ms/step - loss: 3.1709e-09 - acc: 1.0000 - val_loss: 0.4437 - val_acc: 0.9517\n",
            "Epoch 24/30\n",
            "51/51 [==============================] - 5s 90ms/step - loss: 1.8547e-09 - acc: 1.0000 - val_loss: 0.4538 - val_acc: 0.9530\n",
            "Epoch 25/30\n",
            "51/51 [==============================] - 5s 100ms/step - loss: 1.1953e-09 - acc: 1.0000 - val_loss: 0.4597 - val_acc: 0.9558\n",
            "Epoch 26/30\n",
            "51/51 [==============================] - 5s 91ms/step - loss: 1.0042e-09 - acc: 1.0000 - val_loss: 0.4675 - val_acc: 0.9558\n",
            "Epoch 27/30\n",
            "51/51 [==============================] - 5s 91ms/step - loss: 8.8179e-10 - acc: 1.0000 - val_loss: 0.4590 - val_acc: 0.9544\n",
            "Epoch 28/30\n",
            "51/51 [==============================] - 5s 90ms/step - loss: 7.5605e-10 - acc: 1.0000 - val_loss: 0.4851 - val_acc: 0.9544\n",
            "Epoch 29/30\n",
            "51/51 [==============================] - 5s 90ms/step - loss: 7.6884e-10 - acc: 1.0000 - val_loss: 0.4774 - val_acc: 0.9544\n",
            "Epoch 30/30\n",
            "51/51 [==============================] - 5s 91ms/step - loss: 6.8542e-10 - acc: 1.0000 - val_loss: 0.4873 - val_acc: 0.9544\n",
            "97/97 [==============================] - 3s 21ms/step\n",
            "Accuracy: 0.9355046759109965\n",
            "Precision: 0.952286282306163\n",
            "Recall: 0.9182108626198083\n",
            "F1_score: 0.9349381912817176\n",
            "\n"
          ]
        }
      ],
      "source": [
        "glove_model = Sequential()\n",
        "glove_model.add(Embedding(max_features, embedding_dim, input_length=maxlen))\n",
        "glove_model.add(layers.Bidirectional(SimpleRNN(32)))\n",
        "glove_model.add(Dense(128, activation='relu'))\n",
        "glove_model.add(Dense(64, activation='relu'))\n",
        "glove_model.add(Dense(32, activation='relu'))\n",
        "glove_model.add(Dense(1, activation='sigmoid'))\n",
        "\n",
        "glove_model.compile(optimizer='rmsprop', loss='binary_crossentropy', metrics=['acc'])\n",
        "history = glove_model.fit(X_train, y_train,\n",
        "                    epochs=30,\n",
        "                    batch_size=128,\n",
        "                    validation_split=0.1)\n",
        "\n",
        "from sklearn.metrics import accuracy_score, precision_score, recall_score, f1_score\n",
        "predictions = glove_model.predict(X_test)\n",
        "predictions = [round(prediction[0]) for prediction in predictions]\n",
        "\n",
        "accuracy = accuracy_score(y_test, predictions)\n",
        "precision = precision_score(y_test, predictions)\n",
        "recall = recall_score(y_test, predictions)\n",
        "f1 = f1_score(y_test, predictions)\n",
        "\n",
        "print(f\"Accuracy: {accuracy}\\nPrecision: {precision}\\nRecall: {recall}\\nF1_score: {f1}\\n\")\n",
        "\n",
        "model_name = \"Simple RNN Glove with 128\"\n",
        "\n",
        "performances.append([model_name, accuracy, precision, recall, f1])\n",
        "\n",
        "with open('/content/drive/MyDrive/Colab Notebooks/performances.pickle', 'wb') as f:\n",
        "  pickle.dump(performances, f)\n"
      ]
    },
    {
      "cell_type": "markdown",
      "source": [
        "**laoding performances**"
      ],
      "metadata": {
        "id": "sQxnOlis9Cgr"
      }
    },
    {
      "cell_type": "code",
      "execution_count": null,
      "metadata": {
        "colab": {
          "base_uri": "https://localhost:8080/"
        },
        "id": "_WQNS1IHfUSu",
        "outputId": "eb079d3a-4ea6-4726-ee50-ee5af8afb28a"
      },
      "outputs": [
        {
          "output_type": "stream",
          "name": "stdout",
          "text": [
            "[['Simple RNN', 0.8942661756970016, 0.8891191709844559, 0.9012605042016807, 0.8951486697965572], ['Augmentation LSTM Glove with 128', 0.9522734601741374, 0.9498412698412698, 0.9559105431309904, 0.9528662420382166], ['Simple RNN Glove with 128', 0.9355046759109965, 0.952286282306163, 0.9182108626198083, 0.9349381912817176]]\n"
          ]
        }
      ],
      "source": [
        "# 6\n",
        "# To load performances list\n",
        "performances = []\n",
        "with open('/content/drive/MyDrive/Colab Notebooks/performances.pickle', 'rb') as f:\n",
        "  performances = pickle.load(f)\n",
        "\n",
        "print(performances)"
      ]
    },
    {
      "cell_type": "markdown",
      "source": [
        "**Visualization on glove simple RNN**"
      ],
      "metadata": {
        "id": "00yB_G-A9F5a"
      }
    },
    {
      "cell_type": "code",
      "source": [
        "import matplotlib.pyplot as plt\n",
        "\n",
        "# summarize history for accuracy\n",
        "plt.plot(history.history['acc'])\n",
        "plt.plot(history.history['val_acc'])\n",
        "plt.title('model accuracy')\n",
        "plt.ylabel('accuracy')\n",
        "plt.xlabel('epoch')\n",
        "plt.legend(['Train', 'Validation'], loc='upper left')\n",
        "plt.show()\n",
        "# summarize history for loss\n",
        "plt.plot(history.history['loss'])\n",
        "plt.plot(history.history['val_loss'])\n",
        "plt.title('model loss')\n",
        "plt.ylabel('loss')\n",
        "plt.xlabel('epoch')\n",
        "plt.legend(['Train', 'Validation'], loc='upper left')\n",
        "plt.show()"
      ],
      "metadata": {
        "colab": {
          "base_uri": "https://localhost:8080/",
          "height": 573
        },
        "id": "U33R5WUD43FT",
        "outputId": "5326db4c-7ce2-482b-9c7c-d0425ad75fc2"
      },
      "execution_count": null,
      "outputs": [
        {
          "output_type": "display_data",
          "data": {
            "text/plain": [
              "<Figure size 432x288 with 1 Axes>"
            ],
            "image/png": "[encoded data removed]"
          },
          "metadata": {
            "needs_background": "light"
          }
        },
        {
          "output_type": "display_data",
          "data": {
            "text/plain": [
              "<Figure size 432x288 with 1 Axes>"
            ],
            "image/png": "[encoded data removed]"
          },
          "metadata": {
            "needs_background": "light"
          }
        }
      ]
    },
    {
      "cell_type": "markdown",
      "source": [
        "**Simple RNN with Fast Text**"
      ],
      "metadata": {
        "id": "7OK6F_G59Mbi"
      }
    },
    {
      "cell_type": "code",
      "source": [
        "path_to_fastText_file = \"/content/drive/MyDrive/ML_Assignments/wiki-news-300d-1M.vec\"\n",
        "\n",
        "embeddings_index = {}\n",
        "with open(path_to_fastText_file) as f:\n",
        "    for line in f:\n",
        "        word, coefs = line.split(maxsplit=1)\n",
        "        coefs = np.fromstring(coefs, \"f\", sep=\" \")\n",
        "        embeddings_index[word] = coefs\n",
        "\n",
        "print(f\"Found {len(embeddings_index)} word vectors.\")\n",
        "\n"
      ],
      "metadata": {
        "id": "uFRlJoSmrl5Q",
        "colab": {
          "base_uri": "https://localhost:8080/"
        },
        "outputId": "adde2505-8432-4030-e1ba-60cc4899c56e"
      },
      "execution_count": null,
      "outputs": [
        {
          "output_type": "stream",
          "name": "stdout",
          "text": [
            "Found 999995 word vectors.\n"
          ]
        }
      ]
    },
    {
      "cell_type": "code",
      "source": [
        "embedding_dim = 300\n",
        "\n",
        "word_index = dict(zip(vocabulary, range(len(vocabulary))))\n",
        "\n",
        "embedding_matrix = np.zeros((max_features, embedding_dim))\n",
        "for word, i in word_index.items():\n",
        "    if i < max_features:\n",
        "        embedding_vector = embeddings_index.get(word)\n",
        "    if embedding_vector is not None:\n",
        "        embedding_matrix[i] = embedding_vector"
      ],
      "metadata": {
        "id": "gIYTA05fr00G"
      },
      "execution_count": null,
      "outputs": []
    },
    {
      "cell_type": "code",
      "source": [
        "from keras.layers import Dense, SimpleRNN, Embedding\n",
        "import keras\n",
        "embedding_layer = layers.Embedding(\n",
        "    max_features,\n",
        "    embedding_dim,\n",
        "    embeddings_initializer = keras.initializers.Constant(embedding_matrix),\n",
        "    trainable=False,\n",
        "    mask_zero=True,\n",
        ")"
      ],
      "metadata": {
        "id": "8684WbT6r52h"
      },
      "execution_count": null,
      "outputs": []
    },
    {
      "cell_type": "code",
      "source": [
        "from keras.models import Sequential\n",
        "\n",
        "fastText_model = Sequential()\n",
        "fastText_model.add(Embedding(max_features, embedding_dim, input_length=maxlen))\n",
        "fastText_model.add(layers.Bidirectional(SimpleRNN(32)))\n",
        "fastText_model.add(Dense(128, activation='relu'))\n",
        "fastText_model.add(Dense(64, activation='relu'))\n",
        "fastText_model.add(Dense(32, activation='relu'))\n",
        "fastText_model.add(Dense(1, activation='sigmoid'))\n",
        "\n",
        "fastText_model.compile(optimizer='rmsprop', loss='binary_crossentropy', metrics=['acc'])\n",
        "history = fastText_model.fit(X_train, y_train,\n",
        "                    epochs=30,\n",
        "                    batch_size=128,\n",
        "                    validation_split=0.1)\n",
        "\n",
        "from sklearn.metrics import accuracy_score, precision_score, recall_score, f1_score\n",
        "predictions = fastText_model.predict(X_test)\n",
        "predictions = [round(prediction[0]) for prediction in predictions]\n",
        "\n",
        "accuracy = accuracy_score(y_test, predictions)\n",
        "precision = precision_score(y_test, predictions)\n",
        "recall = recall_score(y_test, predictions)\n",
        "f1 = f1_score(y_test, predictions)\n",
        "\n",
        "print(f\"Accuracy: {accuracy}\\nPrecision: {precision}\\nRecall: {recall}\\nF1_score: {f1}\\n\")\n",
        "\n",
        "model_name = \"Simple RNN FastText with 128 \"\n",
        "\n",
        "performances.append([model_name, accuracy, precision, recall, f1])\n",
        "\n",
        "with open('/content/drive/MyDrive/Colab Notebooks/performances.pickle', 'wb') as f:\n",
        "  pickle.dump(performances, f)\n"
      ],
      "metadata": {
        "id": "5yMpqrFisBxu",
        "colab": {
          "base_uri": "https://localhost:8080/"
        },
        "outputId": "f3527c64-f951-45d7-e4f0-a0f6885b9d61"
      },
      "execution_count": null,
      "outputs": [
        {
          "output_type": "stream",
          "name": "stdout",
          "text": [
            "Epoch 1/30\n",
            "51/51 [==============================] - 8s 97ms/step - loss: 0.4805 - acc: 0.7564 - val_loss: 0.2549 - val_acc: 0.9006\n",
            "Epoch 2/30\n",
            "51/51 [==============================] - 4s 88ms/step - loss: 0.1344 - acc: 0.9527 - val_loss: 0.1647 - val_acc: 0.9365\n",
            "Epoch 3/30\n",
            "51/51 [==============================] - 4s 86ms/step - loss: 0.0362 - acc: 0.9886 - val_loss: 0.2105 - val_acc: 0.9392\n",
            "Epoch 4/30\n",
            "51/51 [==============================] - 4s 86ms/step - loss: 0.0092 - acc: 0.9974 - val_loss: 0.3042 - val_acc: 0.9323\n",
            "Epoch 5/30\n",
            "51/51 [==============================] - 4s 87ms/step - loss: 0.0020 - acc: 0.9997 - val_loss: 0.2295 - val_acc: 0.9434\n",
            "Epoch 6/30\n",
            "51/51 [==============================] - 5s 88ms/step - loss: 0.0025 - acc: 0.9994 - val_loss: 0.2565 - val_acc: 0.9503\n",
            "Epoch 7/30\n",
            "51/51 [==============================] - 4s 88ms/step - loss: 9.2456e-04 - acc: 0.9997 - val_loss: 0.2918 - val_acc: 0.9489\n",
            "Epoch 8/30\n",
            "51/51 [==============================] - 5s 91ms/step - loss: 1.6384e-05 - acc: 1.0000 - val_loss: 0.2963 - val_acc: 0.9517\n",
            "Epoch 9/30\n",
            "51/51 [==============================] - 5s 91ms/step - loss: 0.0013 - acc: 0.9997 - val_loss: 0.3049 - val_acc: 0.9378\n",
            "Epoch 10/30\n",
            "51/51 [==============================] - 4s 87ms/step - loss: 7.8233e-06 - acc: 1.0000 - val_loss: 0.3634 - val_acc: 0.9448\n",
            "Epoch 11/30\n",
            "51/51 [==============================] - 4s 87ms/step - loss: 1.9105e-05 - acc: 1.0000 - val_loss: 0.4225 - val_acc: 0.9337\n",
            "Epoch 12/30\n",
            "51/51 [==============================] - 5s 89ms/step - loss: 0.0028 - acc: 0.9995 - val_loss: 0.4826 - val_acc: 0.9268\n",
            "Epoch 13/30\n",
            "51/51 [==============================] - 5s 90ms/step - loss: 1.1099e-07 - acc: 1.0000 - val_loss: 0.4716 - val_acc: 0.9282\n",
            "Epoch 14/30\n",
            "51/51 [==============================] - 5s 90ms/step - loss: 5.5474e-08 - acc: 1.0000 - val_loss: 0.4794 - val_acc: 0.9296\n",
            "Epoch 15/30\n",
            "51/51 [==============================] - 5s 90ms/step - loss: 2.4359e-08 - acc: 1.0000 - val_loss: 0.5081 - val_acc: 0.9337\n",
            "Epoch 16/30\n",
            "51/51 [==============================] - 5s 100ms/step - loss: 1.5207e-08 - acc: 1.0000 - val_loss: 0.5643 - val_acc: 0.9323\n",
            "Epoch 17/30\n",
            "51/51 [==============================] - 4s 88ms/step - loss: 3.8024e-07 - acc: 1.0000 - val_loss: 0.5358 - val_acc: 0.9296\n",
            "Epoch 18/30\n",
            "51/51 [==============================] - 6s 122ms/step - loss: 5.5192e-09 - acc: 1.0000 - val_loss: 0.5394 - val_acc: 0.9337\n",
            "Epoch 19/30\n",
            "51/51 [==============================] - 5s 105ms/step - loss: 2.2766e-09 - acc: 1.0000 - val_loss: 0.5577 - val_acc: 0.9351\n",
            "Epoch 20/30\n",
            "51/51 [==============================] - 5s 89ms/step - loss: 1.2629e-09 - acc: 1.0000 - val_loss: 0.5762 - val_acc: 0.9351\n",
            "Epoch 21/30\n",
            "51/51 [==============================] - 5s 89ms/step - loss: 9.2879e-10 - acc: 1.0000 - val_loss: 0.5828 - val_acc: 0.9351\n",
            "Epoch 22/30\n",
            "51/51 [==============================] - 5s 93ms/step - loss: 7.8639e-10 - acc: 1.0000 - val_loss: 0.6044 - val_acc: 0.9337\n",
            "Epoch 23/30\n",
            "51/51 [==============================] - 4s 88ms/step - loss: 6.9423e-10 - acc: 1.0000 - val_loss: 0.6070 - val_acc: 0.9323\n",
            "Epoch 24/30\n",
            "51/51 [==============================] - 5s 91ms/step - loss: 5.6949e-10 - acc: 1.0000 - val_loss: 0.6330 - val_acc: 0.9351\n",
            "Epoch 25/30\n",
            "51/51 [==============================] - 5s 91ms/step - loss: 5.5770e-10 - acc: 1.0000 - val_loss: 0.6294 - val_acc: 0.9323\n",
            "Epoch 26/30\n",
            "51/51 [==============================] - 5s 93ms/step - loss: 5.2632e-10 - acc: 1.0000 - val_loss: 0.6393 - val_acc: 0.9337\n",
            "Epoch 27/30\n",
            "51/51 [==============================] - 5s 90ms/step - loss: 4.9673e-10 - acc: 1.0000 - val_loss: 0.6487 - val_acc: 0.9309\n",
            "Epoch 28/30\n",
            "51/51 [==============================] - 5s 89ms/step - loss: 4.9109e-10 - acc: 1.0000 - val_loss: 0.6414 - val_acc: 0.9337\n",
            "Epoch 29/30\n",
            "51/51 [==============================] - 5s 91ms/step - loss: 4.5227e-10 - acc: 1.0000 - val_loss: 0.6574 - val_acc: 0.9323\n",
            "Epoch 30/30\n",
            "51/51 [==============================] - 4s 87ms/step - loss: 4.6438e-10 - acc: 1.0000 - val_loss: 0.6587 - val_acc: 0.9323\n",
            "97/97 [==============================] - 2s 12ms/step\n",
            "Accuracy: 0.9164785553047404\n",
            "Precision: 0.9359145527369827\n",
            "Recall: 0.8958466453674121\n",
            "F1_score: 0.9154423767548155\n",
            "\n"
          ]
        }
      ]
    },
    {
      "cell_type": "code",
      "source": [
        "# 6\n",
        "# To load performances list\n",
        "performances = []\n",
        "with open('/content/drive/MyDrive/Colab Notebooks/performances.pickle', 'rb') as f:\n",
        "  performances = pickle.load(f)\n",
        "\n",
        "print(performances)"
      ],
      "metadata": {
        "id": "iSl0f-AauUYp",
        "colab": {
          "base_uri": "https://localhost:8080/"
        },
        "outputId": "25998123-afeb-48f6-863a-ff4c7f59286b"
      },
      "execution_count": null,
      "outputs": [
        {
          "output_type": "stream",
          "name": "stdout",
          "text": [
            "[['Simple RNN', 0.8942661756970016, 0.8891191709844559, 0.9012605042016807, 0.8951486697965572], ['Augmentation LSTM Glove with 128', 0.9522734601741374, 0.9498412698412698, 0.9559105431309904, 0.9528662420382166], ['Simple RNN Glove with 128', 0.9355046759109965, 0.952286282306163, 0.9182108626198083, 0.9349381912817176], ['Simple RNN FastText with 128 ', 0.9164785553047404, 0.9359145527369827, 0.8958466453674121, 0.9154423767548155]]\n"
          ]
        }
      ]
    },
    {
      "cell_type": "code",
      "source": [
        "import matplotlib.pyplot as plt\n",
        "\n",
        "# summarize history for accuracy\n",
        "plt.plot(history.history['acc'])\n",
        "plt.plot(history.history['val_acc'])\n",
        "plt.title('model accuracy')\n",
        "plt.ylabel('accuracy')\n",
        "plt.xlabel('epoch')\n",
        "plt.legend(['Train', 'Validation'], loc='upper left')\n",
        "plt.show()\n",
        "# summarize history for loss\n",
        "plt.plot(history.history['loss'])\n",
        "plt.plot(history.history['val_loss'])\n",
        "plt.title('model loss')\n",
        "plt.ylabel('loss')\n",
        "plt.xlabel('epoch')\n",
        "plt.legend(['Train', 'Validation'], loc='upper left')\n",
        "plt.show()"
      ],
      "metadata": {
        "colab": {
          "base_uri": "https://localhost:8080/",
          "height": 573
        },
        "id": "F7qKoXuG7W1b",
        "outputId": "379bf736-a27e-4d3e-bf03-742e8f3abc7e"
      },
      "execution_count": null,
      "outputs": [
        {
          "output_type": "display_data",
          "data": {
            "text/plain": [
              "<Figure size 432x288 with 1 Axes>"
            ],
            "image/png": "[encoded data removed]"
          },
          "metadata": {
            "needs_background": "light"
          }
        },
        {
          "output_type": "display_data",
          "data": {
            "text/plain": [
              "<Figure size 432x288 with 1 Axes>"
            ],
            "image/png": "[encoded data removed]"
          },
          "metadata": {
            "needs_background": "light"
          }
        }
      ]
    },
    {
      "cell_type": "code",
      "execution_count": null,
      "metadata": {
        "id": "Oscw34QMNZLr"
      },
      "outputs": [],
      "source": []
    },
    {
      "cell_type": "markdown",
      "metadata": {
        "id": "hCrVbUP-lp7y"
      },
      "source": [
        "**LSTM**"
      ]
    },
    {
      "cell_type": "code",
      "execution_count": null,
      "metadata": {
        "colab": {
          "base_uri": "https://localhost:8080/"
        },
        "id": "iodQ8D2Slq5k",
        "outputId": "c49bbfbb-bea3-4959-cdae-227484823a49"
      },
      "outputs": [
        {
          "output_type": "stream",
          "name": "stdout",
          "text": [
            "Epoch 1/30\n",
            "51/51 [==============================] - 19s 271ms/step - loss: 0.4217 - acc: 0.8057 - val_loss: 0.2069 - val_acc: 0.9185\n",
            "Epoch 2/30\n",
            "51/51 [==============================] - 12s 241ms/step - loss: 0.1748 - acc: 0.9376 - val_loss: 0.2401 - val_acc: 0.9075\n",
            "Epoch 3/30\n",
            "51/51 [==============================] - 13s 250ms/step - loss: 0.1138 - acc: 0.9611 - val_loss: 0.1458 - val_acc: 0.9503\n",
            "Epoch 4/30\n",
            "51/51 [==============================] - 13s 250ms/step - loss: 0.0757 - acc: 0.9748 - val_loss: 0.1729 - val_acc: 0.9475\n",
            "Epoch 5/30\n",
            "51/51 [==============================] - 13s 253ms/step - loss: 0.0450 - acc: 0.9837 - val_loss: 0.1464 - val_acc: 0.9544\n",
            "Epoch 6/30\n",
            "51/51 [==============================] - 13s 250ms/step - loss: 0.0266 - acc: 0.9923 - val_loss: 0.1746 - val_acc: 0.9503\n",
            "Epoch 7/30\n",
            "51/51 [==============================] - 12s 244ms/step - loss: 0.0127 - acc: 0.9962 - val_loss: 0.5179 - val_acc: 0.9061\n",
            "Epoch 8/30\n",
            "51/51 [==============================] - 13s 251ms/step - loss: 0.0119 - acc: 0.9968 - val_loss: 0.2706 - val_acc: 0.9461\n",
            "Epoch 9/30\n",
            "51/51 [==============================] - 13s 252ms/step - loss: 0.0074 - acc: 0.9980 - val_loss: 0.2252 - val_acc: 0.9586\n",
            "Epoch 10/30\n",
            "51/51 [==============================] - 13s 256ms/step - loss: 0.0044 - acc: 0.9989 - val_loss: 0.3237 - val_acc: 0.9530\n",
            "Epoch 11/30\n",
            "51/51 [==============================] - 13s 251ms/step - loss: 9.9285e-04 - acc: 0.9997 - val_loss: 0.4030 - val_acc: 0.9544\n",
            "Epoch 12/30\n",
            "51/51 [==============================] - 13s 249ms/step - loss: 0.0056 - acc: 0.9988 - val_loss: 0.3202 - val_acc: 0.9558\n",
            "Epoch 13/30\n",
            "51/51 [==============================] - 13s 250ms/step - loss: 0.0011 - acc: 0.9995 - val_loss: 0.3798 - val_acc: 0.9558\n",
            "Epoch 14/30\n",
            "51/51 [==============================] - 13s 246ms/step - loss: 0.0012 - acc: 0.9997 - val_loss: 0.3809 - val_acc: 0.9613\n",
            "Epoch 15/30\n",
            "51/51 [==============================] - 16s 315ms/step - loss: 0.0011 - acc: 0.9995 - val_loss: 0.4290 - val_acc: 0.9558\n",
            "Epoch 16/30\n",
            "51/51 [==============================] - 13s 246ms/step - loss: 0.0284 - acc: 0.9980 - val_loss: 0.4595 - val_acc: 0.9586\n",
            "Epoch 17/30\n",
            "51/51 [==============================] - 13s 251ms/step - loss: 7.6536e-04 - acc: 0.9997 - val_loss: 0.4779 - val_acc: 0.9530\n",
            "Epoch 18/30\n",
            "51/51 [==============================] - 13s 249ms/step - loss: 0.0011 - acc: 0.9997 - val_loss: 0.4354 - val_acc: 0.9599\n",
            "Epoch 19/30\n",
            "51/51 [==============================] - 13s 251ms/step - loss: 9.8087e-04 - acc: 0.9997 - val_loss: 0.4619 - val_acc: 0.9586\n",
            "Epoch 20/30\n",
            "51/51 [==============================] - 13s 255ms/step - loss: 0.0012 - acc: 0.9995 - val_loss: 0.4367 - val_acc: 0.9586\n",
            "Epoch 21/30\n",
            "51/51 [==============================] - 13s 257ms/step - loss: 1.7290e-05 - acc: 1.0000 - val_loss: 0.5000 - val_acc: 0.9586\n",
            "Epoch 22/30\n",
            "51/51 [==============================] - 13s 256ms/step - loss: 0.0013 - acc: 0.9997 - val_loss: 0.5031 - val_acc: 0.9586\n",
            "Epoch 23/30\n",
            "51/51 [==============================] - 13s 256ms/step - loss: 4.7564e-04 - acc: 0.9998 - val_loss: 1.1673 - val_acc: 0.9116\n",
            "Epoch 24/30\n",
            "51/51 [==============================] - 13s 258ms/step - loss: 0.0045 - acc: 0.9992 - val_loss: 0.5315 - val_acc: 0.9558\n",
            "Epoch 25/30\n",
            "51/51 [==============================] - 13s 252ms/step - loss: 1.7075e-06 - acc: 1.0000 - val_loss: 0.5242 - val_acc: 0.9558\n",
            "Epoch 26/30\n",
            "51/51 [==============================] - 13s 249ms/step - loss: 3.4807e-04 - acc: 0.9998 - val_loss: 0.5065 - val_acc: 0.9558\n",
            "Epoch 27/30\n",
            "51/51 [==============================] - 13s 255ms/step - loss: 1.4648e-06 - acc: 1.0000 - val_loss: 0.5368 - val_acc: 0.9530\n",
            "Epoch 28/30\n",
            "51/51 [==============================] - 13s 247ms/step - loss: 4.6071e-07 - acc: 1.0000 - val_loss: 0.5882 - val_acc: 0.9599\n",
            "Epoch 29/30\n",
            "51/51 [==============================] - 13s 250ms/step - loss: 0.0229 - acc: 0.9972 - val_loss: 0.5670 - val_acc: 0.9530\n",
            "Epoch 30/30\n",
            "51/51 [==============================] - 13s 252ms/step - loss: 4.2713e-05 - acc: 1.0000 - val_loss: 0.5580 - val_acc: 0.9558\n",
            "97/97 [==============================] - 5s 35ms/step\n",
            "Accuracy: 0.9474363108674622\n",
            "Precision: 0.9397741530740276\n",
            "Recall: 0.9571884984025559\n",
            "F1_score: 0.9484013928458372\n",
            "\n"
          ]
        }
      ],
      "source": [
        "from keras.layers import Dense \n",
        "from keras.layers import LSTM\n",
        "from keras.models import Sequential\n",
        "from keras.layers import Embedding\n",
        "from keras import layers\n",
        "\n",
        "LSTM_model = Sequential()\n",
        "LSTM_model.add(Embedding(max_features, maxlen))\n",
        "LSTM_model.add(layers.Bidirectional(LSTM(32)))\n",
        "LSTM_model.add(Dense(128, activation='relu'))\n",
        "LSTM_model.add(Dense(64, activation='relu'))\n",
        "LSTM_model.add(Dense(32, activation='relu'))\n",
        "LSTM_model.add(Dense(1, activation='sigmoid'))\n",
        "\n",
        "LSTM_model.compile(optimizer='rmsprop', loss='binary_crossentropy', metrics=['acc'])\n",
        "history = LSTM_model.fit(X_train, y_train,\n",
        "                    epochs=30,\n",
        "                    batch_size=128,\n",
        "                    validation_split=0.1)\n",
        "\n",
        "from sklearn.metrics import accuracy_score, precision_score, recall_score, f1_score\n",
        "predictions = LSTM_model.predict(X_test)\n",
        "predictions = [round(prediction[0]) for prediction in predictions]\n",
        "\n",
        "accuracy = accuracy_score(y_test, predictions)\n",
        "precision = precision_score(y_test, predictions)\n",
        "recall = recall_score(y_test, predictions)\n",
        "f1 = f1_score(y_test, predictions)\n",
        "\n",
        "print(f\"Accuracy: {accuracy}\\nPrecision: {precision}\\nRecall: {recall}\\nF1_score: {f1}\\n\")\n",
        "\n",
        "model_name = \"LSTM\"\n",
        "\n",
        "performances.append([model_name, accuracy, precision, recall, f1])\n",
        "\n",
        "with open('/content/drive/MyDrive/Colab Notebooks/performances.pickle', 'wb') as f:\n",
        "  pickle.dump(performances, f)"
      ]
    },
    {
      "cell_type": "markdown",
      "source": [
        "**loading performances**"
      ],
      "metadata": {
        "id": "zykDrlMZ9ZYj"
      }
    },
    {
      "cell_type": "code",
      "source": [
        "# 6\n",
        "# To load performances list\n",
        "performances = []\n",
        "with open('/content/drive/MyDrive/Colab Notebooks/performances.pickle', 'rb') as f:\n",
        "  performances = pickle.load(f)\n",
        "\n",
        "print(performances)"
      ],
      "metadata": {
        "id": "J4YcNremuadQ",
        "colab": {
          "base_uri": "https://localhost:8080/"
        },
        "outputId": "6fe5e03c-5378-4e20-a303-4b4af11bfd7a"
      },
      "execution_count": null,
      "outputs": [
        {
          "output_type": "stream",
          "name": "stdout",
          "text": [
            "[['Simple RNN', 0.8942661756970016, 0.8891191709844559, 0.9012605042016807, 0.8951486697965572], ['Augmentation LSTM Glove with 128', 0.9522734601741374, 0.9498412698412698, 0.9559105431309904, 0.9528662420382166], ['Simple RNN Glove with 128', 0.9355046759109965, 0.952286282306163, 0.9182108626198083, 0.9349381912817176], ['Simple RNN FastText with 128 ', 0.9164785553047404, 0.9359145527369827, 0.8958466453674121, 0.9154423767548155], ['LSTM', 0.9474363108674622, 0.9397741530740276, 0.9571884984025559, 0.9484013928458372]]\n"
          ]
        }
      ]
    },
    {
      "cell_type": "markdown",
      "source": [
        "**Visualization**"
      ],
      "metadata": {
        "id": "uPIc2DRk9dIi"
      }
    },
    {
      "cell_type": "code",
      "source": [
        "import matplotlib.pyplot as plt\n",
        "\n",
        "# summarize history for accuracy\n",
        "plt.plot(history.history['acc'])\n",
        "plt.plot(history.history['val_acc'])\n",
        "plt.title('model accuracy')\n",
        "plt.ylabel('accuracy')\n",
        "plt.xlabel('epoch')\n",
        "plt.legend(['Train', 'Validation'], loc='upper left')\n",
        "plt.show()\n",
        "# summarize history for loss\n",
        "plt.plot(history.history['loss'])\n",
        "plt.plot(history.history['val_loss'])\n",
        "plt.title('model loss')\n",
        "plt.ylabel('loss')\n",
        "plt.xlabel('epoch')\n",
        "plt.legend(['Train', 'Validation'], loc='upper left')\n",
        "plt.show()"
      ],
      "metadata": {
        "colab": {
          "base_uri": "https://localhost:8080/",
          "height": 573
        },
        "id": "bNVFS-OD9EI5",
        "outputId": "f11dddd1-0f6d-4169-f943-199b0e2f2408"
      },
      "execution_count": null,
      "outputs": [
        {
          "output_type": "display_data",
          "data": {
            "text/plain": [
              "<Figure size 432x288 with 1 Axes>"
            ],
            "image/png": "[encoded data removed]"
          },
          "metadata": {
            "needs_background": "light"
          }
        },
        {
          "output_type": "display_data",
          "data": {
            "text/plain": [
              "<Figure size 432x288 with 1 Axes>"
            ],
            "image/png": "[encoded data removed]"
          },
          "metadata": {
            "needs_background": "light"
          }
        }
      ]
    },
    {
      "cell_type": "markdown",
      "source": [
        "**same predict method to detect news**"
      ],
      "metadata": {
        "id": "lRJv-NGx9hzc"
      }
    },
    {
      "cell_type": "code",
      "source": [
        "def predict_news_status(txt, LSTM_model):\n",
        "    txt = preprocess(txt) \n",
        "    txt = text_vectorization(pd.DataFrame([[txt]]))\n",
        "    prob = LSTM_model.predict(txt)[0][0]\n",
        "    print(prob)\n",
        "    return 'Real' if prob >= 0.5 else 'Fake'"
      ],
      "metadata": {
        "id": "d3VMrGID_4oR"
      },
      "execution_count": null,
      "outputs": []
    },
    {
      "cell_type": "code",
      "source": [
        "news_str3 = '''\n",
        "\n",
        "Pushed back on the implications of his approach, the finance minister acknowledged that he agreed with the potential fallout of a breakdown in IMF talks and said that was why he was talking to the body for the country’s sake.\n",
        "\n",
        "“I know how to complete the [IMF] programme,” the finance minister maintained, stressing that the government would complete the current programme as well.\n",
        "\n",
        "Dar said that in his talks with the IMF, he told the Fund that it should strike deals keeping in mind that the government could not further burden the people. Dar said he had told the IMF that it was “behaving abnormally” in regard to dealing with Pakistan.\n",
        "\n",
        "“I have never taken dictation and never will from these institutions, I have to look after Pakistan’s interests,” the finance minister reiterated.\n",
        "\n",
        "Regarding the general level of Pakistan’s foreign reserves and the risk of default, Dar said the government had made arrangements for all its liabilities for the fiscal year and would make all payments.\n",
        "\n",
        "He also said that the government was currently in talks with an allied country for a deposit of $3bn, adding that there was a “positive understanding” present and Pakistan would definitely receive the funds.\n",
        "\n",
        "“This is a matter of two weeks [for the amount to arrive],” he added.\n",
        "\n",
        "Dar also rebuked former finance minister Miftah Ismail for his recent comments about the country’s risk of default and said he should be questioned about his six-month performance and where he left the level of foreign reserves.\n",
        "\n",
        "“He is a nonentity for me on this subject,” Dar said.\n",
        "\n",
        "Govt struggles for $1.18bn tranche\n",
        "Amid time running out, the IMF is still analysing Pakistan’s fiscal position particularly the flood-related expenditures that it viewed had changed the macroeconomic assumptions of the fund programme.\n",
        "\n",
        "The “IMF understands that the floods have changed the macroeconomic assumptions on which the programme was designed; therefore detailed analysis is being conducted by their team using the data provided”, the Ministry of Finance had said in response to a media query on the delay in the ninth review.\n",
        "\n",
        "The two sides had been virtually engaged for more than a month now in attempts to conclude the ninth review in November so that the next tranche of about $1.18 billion could be approved by the IMF’s executive board and disbursed before Christman and new year holidays. The policy level discussions are yet to be finalised although the finance ministry had said the “IMF team is expected to visit Islamabad soon for completion of the 9th review”.\n",
        "\n",
        "Under the normal mechanism, the fund staff mission has to reach an agreement with authorities on programme implementation and then required at least a fortnight for the board members to hold a meeting based on staff agreement. A further delay would mean the unavailability of the IMF executive board until the first week of January.\n",
        "\n",
        "Pakistan’s foreign exchange reserves in the meanwhile are critically low and the central bank authorities have been rationing dollar releases even for essential imports like crude and petroleum products.\n",
        "'''"
      ],
      "metadata": {
        "id": "dKjaTfltAHu6"
      },
      "execution_count": null,
      "outputs": []
    },
    {
      "cell_type": "code",
      "source": [
        "str1 = news_str3\n",
        "# str1 = [str]\n",
        "predict_news_status(str1,LSTM_model)"
      ],
      "metadata": {
        "colab": {
          "base_uri": "https://localhost:8080/",
          "height": 71
        },
        "id": "wofWJDmQBk8d",
        "outputId": "2e63e380-2802-485c-b89f-7f41de1937e8"
      },
      "execution_count": null,
      "outputs": [
        {
          "output_type": "stream",
          "name": "stdout",
          "text": [
            "1/1 [==============================] - 0s 30ms/step\n",
            "1.0\n"
          ]
        },
        {
          "output_type": "execute_result",
          "data": {
            "text/plain": [
              "'Real'"
            ],
            "application/vnd.google.colaboratory.intrinsic+json": {
              "type": "string"
            }
          },
          "metadata": {},
          "execution_count": 105
        }
      ]
    },
    {
      "cell_type": "code",
      "source": [],
      "metadata": {
        "id": "xVKyYvr0AjYF"
      },
      "execution_count": null,
      "outputs": []
    },
    {
      "cell_type": "markdown",
      "source": [
        "**Glove with LSTM**"
      ],
      "metadata": {
        "id": "Wgt_4M8Y9mev"
      }
    },
    {
      "cell_type": "code",
      "source": [
        "path_to_glove_file = \"/content/drive/MyDrive/ML_Assignments/glove.6B.100d.txt\"\n",
        "\n",
        "embeddings_index = {}\n",
        "with open(path_to_glove_file) as f:\n",
        "    for line in f:\n",
        "        word, coefs = line.split(maxsplit=1)\n",
        "        coefs = np.fromstring(coefs, \"f\", sep=\" \")\n",
        "        embeddings_index[word] = coefs\n",
        "\n",
        "print(f\"Found {len(embeddings_index)} word vectors.\")\n",
        "\n"
      ],
      "metadata": {
        "id": "nJa6DKWlsO0r",
        "colab": {
          "base_uri": "https://localhost:8080/"
        },
        "outputId": "8819921c-3f40-4751-f39f-9ef2afd6cd31"
      },
      "execution_count": null,
      "outputs": [
        {
          "output_type": "stream",
          "name": "stdout",
          "text": [
            "Found 400000 word vectors.\n"
          ]
        }
      ]
    },
    {
      "cell_type": "code",
      "source": [
        "\n",
        "embedding_dim = 100\n",
        "\n",
        "\n",
        "word_index = dict(zip(vocabulary, range(len(vocabulary))))\n",
        "\n",
        "embedding_matrix = np.zeros((max_features, embedding_dim))\n",
        "for word, i in word_index.items():\n",
        "    if i < max_features:\n",
        "        embedding_vector = embeddings_index.get(word)\n",
        "    if embedding_vector is not None:\n",
        "        embedding_matrix[i] = embedding_vector"
      ],
      "metadata": {
        "id": "L9og5nDasWVp"
      },
      "execution_count": null,
      "outputs": []
    },
    {
      "cell_type": "code",
      "source": [
        "from keras.layers import Dense, LSTM, Embedding\n",
        "import keras\n",
        "embedding_layer = layers.Embedding(\n",
        "    max_features,\n",
        "    embedding_dim,\n",
        "    embeddings_initializer = keras.initializers.Constant(embedding_matrix),\n",
        "    trainable=False,\n",
        "    mask_zero=True,\n",
        ")"
      ],
      "metadata": {
        "id": "LQ9dxqVAshGF"
      },
      "execution_count": null,
      "outputs": []
    },
    {
      "cell_type": "code",
      "source": [
        "LSTM_glove_model = Sequential()\n",
        "LSTM_glove_model.add(Embedding(max_features, embedding_dim, input_length=maxlen))\n",
        "LSTM_glove_model.add(layers.Bidirectional(LSTM(32)))\n",
        "LSTM_glove_model.add(Dense(128, activation='relu'))\n",
        "LSTM_glove_model.add(Dense(64, activation='relu'))\n",
        "LSTM_glove_model.add(Dense(32, activation='relu'))\n",
        "LSTM_glove_model.add(Dense(1, activation='sigmoid'))\n",
        "\n",
        "LSTM_glove_model.compile(optimizer='rmsprop', loss='binary_crossentropy', metrics=['acc'])\n",
        "history = LSTM_glove_model.fit(X_train, y_train,\n",
        "                    epochs=30,\n",
        "                    batch_size=128,\n",
        "                    validation_split=0.1)\n",
        "\n",
        "from sklearn.metrics import accuracy_score, precision_score, recall_score, f1_score\n",
        "predictions = LSTM_glove_model.predict(X_test)\n",
        "predictions = [round(prediction[0]) for prediction in predictions]\n",
        "\n",
        "accuracy = accuracy_score(y_test, predictions)\n",
        "precision = precision_score(y_test, predictions)\n",
        "recall = recall_score(y_test, predictions)\n",
        "f1 = f1_score(y_test, predictions)\n",
        "\n",
        "print(f\"Accuracy: {accuracy}\\nPrecision: {precision}\\nRecall: {recall}\\nF1_score: {f1}\\n\")\n",
        "\n",
        "model_name = \"LSTM Glove with 128\"\n",
        "\n",
        "performances.append([model_name, accuracy, precision, recall, f1])\n",
        "\n",
        "with open('/content/drive/MyDrive/Colab Notebooks/performances.pickle', 'wb') as f:\n",
        "  pickle.dump(performances, f)\n"
      ],
      "metadata": {
        "id": "Ru9xNOIvsi8B",
        "colab": {
          "base_uri": "https://localhost:8080/"
        },
        "outputId": "f04b523b-8ffd-4a0b-9b9e-87981acf2318"
      },
      "execution_count": null,
      "outputs": [
        {
          "output_type": "stream",
          "name": "stdout",
          "text": [
            "Epoch 1/30\n",
            "51/51 [==============================] - 19s 272ms/step - loss: 0.4083 - acc: 0.8186 - val_loss: 0.2310 - val_acc: 0.9144\n",
            "Epoch 2/30\n",
            "51/51 [==============================] - 13s 247ms/step - loss: 0.1709 - acc: 0.9332 - val_loss: 0.2003 - val_acc: 0.9254\n",
            "Epoch 3/30\n",
            "51/51 [==============================] - 14s 272ms/step - loss: 0.1124 - acc: 0.9601 - val_loss: 0.1999 - val_acc: 0.9378\n",
            "Epoch 4/30\n",
            "51/51 [==============================] - 15s 285ms/step - loss: 0.0839 - acc: 0.9719 - val_loss: 0.1606 - val_acc: 0.9448\n",
            "Epoch 5/30\n",
            "51/51 [==============================] - 13s 250ms/step - loss: 0.0514 - acc: 0.9840 - val_loss: 0.2070 - val_acc: 0.9461\n",
            "Epoch 6/30\n",
            "51/51 [==============================] - 13s 247ms/step - loss: 0.0401 - acc: 0.9873 - val_loss: 0.2017 - val_acc: 0.9503\n",
            "Epoch 7/30\n",
            "51/51 [==============================] - 12s 243ms/step - loss: 0.0153 - acc: 0.9955 - val_loss: 0.2594 - val_acc: 0.9517\n",
            "Epoch 8/30\n",
            "51/51 [==============================] - 13s 246ms/step - loss: 0.0108 - acc: 0.9962 - val_loss: 0.3247 - val_acc: 0.9489\n",
            "Epoch 9/30\n",
            "51/51 [==============================] - 13s 246ms/step - loss: 0.0179 - acc: 0.9951 - val_loss: 0.2503 - val_acc: 0.9586\n",
            "Epoch 10/30\n",
            "51/51 [==============================] - 12s 241ms/step - loss: 0.0077 - acc: 0.9975 - val_loss: 0.2749 - val_acc: 0.9544\n",
            "Epoch 11/30\n",
            "51/51 [==============================] - 12s 244ms/step - loss: 0.0028 - acc: 0.9991 - val_loss: 0.2699 - val_acc: 0.9530\n",
            "Epoch 12/30\n",
            "51/51 [==============================] - 13s 247ms/step - loss: 0.0019 - acc: 0.9992 - val_loss: 0.3463 - val_acc: 0.9544\n",
            "Epoch 13/30\n",
            "51/51 [==============================] - 12s 241ms/step - loss: 0.0022 - acc: 0.9997 - val_loss: 0.4112 - val_acc: 0.9475\n",
            "Epoch 14/30\n",
            "51/51 [==============================] - 12s 241ms/step - loss: 0.0094 - acc: 0.9977 - val_loss: 0.3090 - val_acc: 0.9599\n",
            "Epoch 15/30\n",
            "51/51 [==============================] - 13s 246ms/step - loss: 4.3272e-04 - acc: 0.9998 - val_loss: 0.3470 - val_acc: 0.9599\n",
            "Epoch 16/30\n",
            "51/51 [==============================] - 13s 252ms/step - loss: 0.0017 - acc: 0.9995 - val_loss: 0.3858 - val_acc: 0.9558\n",
            "Epoch 17/30\n",
            "51/51 [==============================] - 13s 248ms/step - loss: 0.0052 - acc: 0.9988 - val_loss: 0.3798 - val_acc: 0.9558\n",
            "Epoch 18/30\n",
            "51/51 [==============================] - 13s 246ms/step - loss: 0.0050 - acc: 0.9986 - val_loss: 0.2758 - val_acc: 0.9627\n",
            "Epoch 19/30\n",
            "51/51 [==============================] - 12s 244ms/step - loss: 8.4598e-04 - acc: 0.9995 - val_loss: 0.3293 - val_acc: 0.9572\n",
            "Epoch 20/30\n",
            "51/51 [==============================] - 12s 243ms/step - loss: 5.1113e-04 - acc: 0.9995 - val_loss: 0.3526 - val_acc: 0.9613\n",
            "Epoch 21/30\n",
            "51/51 [==============================] - 13s 249ms/step - loss: 7.9424e-04 - acc: 0.9998 - val_loss: 0.3871 - val_acc: 0.9613\n",
            "Epoch 22/30\n",
            "51/51 [==============================] - 12s 244ms/step - loss: 4.5556e-04 - acc: 0.9998 - val_loss: 0.4263 - val_acc: 0.9558\n",
            "Epoch 23/30\n",
            "51/51 [==============================] - 16s 312ms/step - loss: 5.3545e-05 - acc: 1.0000 - val_loss: 0.5043 - val_acc: 0.9586\n",
            "Epoch 24/30\n",
            "51/51 [==============================] - 12s 243ms/step - loss: 3.4514e-04 - acc: 0.9998 - val_loss: 0.5103 - val_acc: 0.9558\n",
            "Epoch 25/30\n",
            "51/51 [==============================] - 13s 247ms/step - loss: 0.0081 - acc: 0.9986 - val_loss: 0.4842 - val_acc: 0.9599\n",
            "Epoch 26/30\n",
            "51/51 [==============================] - 13s 246ms/step - loss: 3.2283e-04 - acc: 0.9998 - val_loss: 0.5007 - val_acc: 0.9586\n",
            "Epoch 27/30\n",
            "51/51 [==============================] - 12s 244ms/step - loss: 5.4895e-04 - acc: 0.9998 - val_loss: 0.4754 - val_acc: 0.9586\n",
            "Epoch 28/30\n",
            "51/51 [==============================] - 13s 245ms/step - loss: 4.1585e-06 - acc: 1.0000 - val_loss: 0.5132 - val_acc: 0.9558\n",
            "Epoch 29/30\n",
            "51/51 [==============================] - 12s 244ms/step - loss: 4.7814e-04 - acc: 0.9998 - val_loss: 0.5654 - val_acc: 0.9599\n",
            "Epoch 30/30\n",
            "51/51 [==============================] - 13s 247ms/step - loss: 4.5545e-05 - acc: 1.0000 - val_loss: 0.5540 - val_acc: 0.9627\n",
            "97/97 [==============================] - 3s 21ms/step\n",
            "Accuracy: 0.946146404385682\n",
            "Precision: 0.948076923076923\n",
            "Recall: 0.9450479233226837\n",
            "F1_score: 0.94656\n",
            "\n"
          ]
        }
      ]
    },
    {
      "cell_type": "code",
      "source": [
        "# 6\n",
        "# To load performances list\n",
        "performances = []\n",
        "with open('/content/drive/MyDrive/Colab Notebooks/performances.pickle', 'rb') as f:\n",
        "  performances = pickle.load(f)\n",
        "\n",
        "print(performances)"
      ],
      "metadata": {
        "id": "_t3v2jPnuepI",
        "colab": {
          "base_uri": "https://localhost:8080/"
        },
        "outputId": "edabf02d-068e-4ad5-d04e-c22364b07744"
      },
      "execution_count": null,
      "outputs": [
        {
          "output_type": "stream",
          "name": "stdout",
          "text": [
            "[['Simple RNN', 0.8942661756970016, 0.8891191709844559, 0.9012605042016807, 0.8951486697965572], ['Augmentation LSTM Glove with 128', 0.9522734601741374, 0.9498412698412698, 0.9559105431309904, 0.9528662420382166], ['Simple RNN Glove with 128', 0.9355046759109965, 0.952286282306163, 0.9182108626198083, 0.9349381912817176], ['Simple RNN FastText with 128 ', 0.9164785553047404, 0.9359145527369827, 0.8958466453674121, 0.9154423767548155], ['LSTM', 0.9474363108674622, 0.9397741530740276, 0.9571884984025559, 0.9484013928458372], ['LSTM Glove with 128', 0.946146404385682, 0.948076923076923, 0.9450479233226837, 0.94656]]\n"
          ]
        }
      ]
    },
    {
      "cell_type": "code",
      "source": [
        "import matplotlib.pyplot as plt\n",
        "\n",
        "# summarize history for accuracy\n",
        "plt.plot(history.history['acc'])\n",
        "plt.plot(history.history['val_acc'])\n",
        "plt.title('model accuracy')\n",
        "plt.ylabel('accuracy')\n",
        "plt.xlabel('epoch')\n",
        "plt.legend(['Train', 'Validation'], loc='upper left')\n",
        "plt.show()\n",
        "# summarize history for loss\n",
        "plt.plot(history.history['loss'])\n",
        "plt.plot(history.history['val_loss'])\n",
        "plt.title('model loss')\n",
        "plt.ylabel('loss')\n",
        "plt.xlabel('epoch')\n",
        "plt.legend(['Train', 'Validation'], loc='upper left')\n",
        "plt.show()"
      ],
      "metadata": {
        "colab": {
          "base_uri": "https://localhost:8080/",
          "height": 573
        },
        "id": "ZqF4kY04ELkc",
        "outputId": "63d50b6c-2e7a-414c-9b66-03bedd785a1d"
      },
      "execution_count": null,
      "outputs": [
        {
          "output_type": "display_data",
          "data": {
            "text/plain": [
              "<Figure size 432x288 with 1 Axes>"
            ],
            "image/png": "[encoded data removed]"
          },
          "metadata": {
            "needs_background": "light"
          }
        },
        {
          "output_type": "display_data",
          "data": {
            "text/plain": [
              "<Figure size 432x288 with 1 Axes>"
            ],
            "image/png": "[encoded data removed]"
          },
          "metadata": {
            "needs_background": "light"
          }
        }
      ]
    },
    {
      "cell_type": "markdown",
      "source": [
        "**Fast text with LSTM**"
      ],
      "metadata": {
        "id": "UEAtZy9F9shZ"
      }
    },
    {
      "cell_type": "code",
      "source": [
        "path_to_fastText_file = \"/content/drive/MyDrive/ML_Assignments/wiki-news-300d-1M.vec\"\n",
        "\n",
        "embeddings_index = {}\n",
        "with open(path_to_fastText_file) as f:\n",
        "    for line in f:\n",
        "        word, coefs = line.split(maxsplit=1)\n",
        "        coefs = np.fromstring(coefs, \"f\", sep=\" \")\n",
        "        embeddings_index[word] = coefs\n",
        "\n",
        "print(f\"Found {len(embeddings_index)} word vectors.\")\n",
        "\n"
      ],
      "metadata": {
        "id": "iNaB_1abspVn",
        "colab": {
          "base_uri": "https://localhost:8080/"
        },
        "outputId": "efe3f3f2-d90a-47e5-c773-77310f604617"
      },
      "execution_count": null,
      "outputs": [
        {
          "output_type": "stream",
          "name": "stdout",
          "text": [
            "Found 999995 word vectors.\n"
          ]
        }
      ]
    },
    {
      "cell_type": "code",
      "source": [
        "\n",
        "embedding_dim = 300\n",
        "\n",
        "\n",
        "word_index = dict(zip(vocabulary, range(len(vocabulary))))\n",
        "\n",
        "embedding_matrix = np.zeros((max_features, embedding_dim))\n",
        "for word, i in word_index.items():\n",
        "    if i < max_features:\n",
        "        embedding_vector = embeddings_index.get(word)\n",
        "    if embedding_vector is not None:\n",
        "        embedding_matrix[i] = embedding_vector"
      ],
      "metadata": {
        "id": "GtmZyKhwsxkK"
      },
      "execution_count": null,
      "outputs": []
    },
    {
      "cell_type": "code",
      "source": [
        "from keras.layers import Dense, LSTM, Embedding\n",
        "import keras\n",
        "embedding_layer = layers.Embedding(\n",
        "    max_features,\n",
        "    embedding_dim,\n",
        "    embeddings_initializer = keras.initializers.Constant(embedding_matrix),\n",
        "    trainable=False,\n",
        "    mask_zero=True,\n",
        ")"
      ],
      "metadata": {
        "id": "FqhNr_jis2Uh"
      },
      "execution_count": null,
      "outputs": []
    },
    {
      "cell_type": "code",
      "source": [
        "from keras.models import Sequential\n",
        "\n",
        "LSTM_fastText_model = Sequential()\n",
        "LSTM_fastText_model.add(Embedding(max_features, embedding_dim, input_length=maxlen))\n",
        "LSTM_fastText_model.add(layers.Bidirectional(LSTM(32)))\n",
        "LSTM_fastText_model.add(Dense(128, activation='relu'))\n",
        "LSTM_fastText_model.add(Dense(64, activation='relu'))\n",
        "LSTM_fastText_model.add(Dense(32, activation='relu'))\n",
        "LSTM_fastText_model.add(Dense(1, activation='sigmoid'))\n",
        "\n",
        "LSTM_fastText_model.compile(optimizer='rmsprop', loss='binary_crossentropy', metrics=['acc'])\n",
        "history = LSTM_fastText_model.fit(X_train, y_train,\n",
        "                    epochs=30,\n",
        "                    batch_size=128,\n",
        "                    validation_split=0.1)\n",
        "\n",
        "from sklearn.metrics import accuracy_score, precision_score, recall_score, f1_score\n",
        "predictions = LSTM_fastText_model.predict(X_test)\n",
        "predictions = [round(prediction[0]) for prediction in predictions]\n",
        "\n",
        "accuracy = accuracy_score(y_test, predictions)\n",
        "precision = precision_score(y_test, predictions)\n",
        "recall = recall_score(y_test, predictions)\n",
        "f1 = f1_score(y_test, predictions)\n",
        "\n",
        "print(f\"Accuracy: {accuracy}\\nPrecision: {precision}\\nRecall: {recall}\\nF1_score: {f1}\\n\")\n",
        "\n",
        "model_name = \"LSTM FastText with 128 \"\n",
        "\n",
        "performances.append([model_name, accuracy, precision, recall, f1])\n",
        "\n",
        "with open('/content/drive/MyDrive/Colab Notebooks/performances.pickle', 'wb') as f:\n",
        "  pickle.dump(performances, f)\n"
      ],
      "metadata": {
        "id": "EooDnxW2tLSi",
        "colab": {
          "base_uri": "https://localhost:8080/"
        },
        "outputId": "76dfffdc-015b-44ea-fdb0-447b6e86e82b"
      },
      "execution_count": null,
      "outputs": [
        {
          "output_type": "stream",
          "name": "stdout",
          "text": [
            "Epoch 1/30\n",
            "51/51 [==============================] - 23s 277ms/step - loss: 0.4068 - acc: 0.8175 - val_loss: 0.2192 - val_acc: 0.9102\n",
            "Epoch 2/30\n",
            "51/51 [==============================] - 13s 258ms/step - loss: 0.1715 - acc: 0.9389 - val_loss: 0.2085 - val_acc: 0.9171\n",
            "Epoch 3/30\n",
            "51/51 [==============================] - 13s 252ms/step - loss: 0.1130 - acc: 0.9598 - val_loss: 0.1753 - val_acc: 0.9378\n",
            "Epoch 4/30\n",
            "51/51 [==============================] - 13s 258ms/step - loss: 0.0737 - acc: 0.9765 - val_loss: 0.1867 - val_acc: 0.9434\n",
            "Epoch 5/30\n",
            "51/51 [==============================] - 13s 256ms/step - loss: 0.0469 - acc: 0.9854 - val_loss: 0.4516 - val_acc: 0.8950\n",
            "Epoch 6/30\n",
            "51/51 [==============================] - 13s 254ms/step - loss: 0.0316 - acc: 0.9902 - val_loss: 0.2238 - val_acc: 0.9503\n",
            "Epoch 7/30\n",
            "51/51 [==============================] - 17s 327ms/step - loss: 0.0167 - acc: 0.9955 - val_loss: 0.2970 - val_acc: 0.9420\n",
            "Epoch 8/30\n",
            "51/51 [==============================] - 13s 254ms/step - loss: 0.0146 - acc: 0.9952 - val_loss: 0.2208 - val_acc: 0.9530\n",
            "Epoch 9/30\n",
            "51/51 [==============================] - 13s 260ms/step - loss: 0.0051 - acc: 0.9985 - val_loss: 0.2639 - val_acc: 0.9544\n",
            "Epoch 10/30\n",
            "51/51 [==============================] - 13s 256ms/step - loss: 0.0070 - acc: 0.9978 - val_loss: 0.2830 - val_acc: 0.9599\n",
            "Epoch 11/30\n",
            "51/51 [==============================] - 14s 270ms/step - loss: 0.0059 - acc: 0.9985 - val_loss: 0.3260 - val_acc: 0.9530\n",
            "Epoch 12/30\n",
            "51/51 [==============================] - 14s 268ms/step - loss: 0.0012 - acc: 0.9995 - val_loss: 0.3681 - val_acc: 0.9544\n",
            "Epoch 13/30\n",
            "51/51 [==============================] - 14s 265ms/step - loss: 0.0286 - acc: 0.9965 - val_loss: 0.3485 - val_acc: 0.9572\n",
            "Epoch 14/30\n",
            "51/51 [==============================] - 13s 257ms/step - loss: 8.1902e-04 - acc: 0.9998 - val_loss: 0.3514 - val_acc: 0.9558\n",
            "Epoch 15/30\n",
            "51/51 [==============================] - 13s 251ms/step - loss: 0.0015 - acc: 0.9995 - val_loss: 0.3616 - val_acc: 0.9586\n",
            "Epoch 16/30\n",
            "51/51 [==============================] - 13s 256ms/step - loss: 0.0155 - acc: 0.9974 - val_loss: 0.3839 - val_acc: 0.9572\n",
            "Epoch 17/30\n",
            "51/51 [==============================] - 13s 258ms/step - loss: 7.8061e-04 - acc: 0.9997 - val_loss: 0.3568 - val_acc: 0.9599\n",
            "Epoch 18/30\n",
            "51/51 [==============================] - 14s 272ms/step - loss: 3.0729e-04 - acc: 0.9998 - val_loss: 0.3731 - val_acc: 0.9627\n",
            "Epoch 19/30\n",
            "51/51 [==============================] - 13s 256ms/step - loss: 7.7134e-04 - acc: 0.9998 - val_loss: 0.4694 - val_acc: 0.9599\n",
            "Epoch 20/30\n",
            "51/51 [==============================] - 13s 260ms/step - loss: 0.0114 - acc: 0.9969 - val_loss: 0.3492 - val_acc: 0.9448\n",
            "Epoch 21/30\n",
            "51/51 [==============================] - 14s 265ms/step - loss: 0.0027 - acc: 0.9992 - val_loss: 0.3847 - val_acc: 0.9558\n",
            "Epoch 22/30\n",
            "51/51 [==============================] - 14s 271ms/step - loss: 5.4075e-05 - acc: 1.0000 - val_loss: 0.4031 - val_acc: 0.9558\n",
            "Epoch 23/30\n",
            "51/51 [==============================] - 14s 272ms/step - loss: 4.0331e-04 - acc: 0.9998 - val_loss: 0.4252 - val_acc: 0.9558\n",
            "Epoch 24/30\n",
            "51/51 [==============================] - 13s 254ms/step - loss: 0.0012 - acc: 0.9997 - val_loss: 0.4165 - val_acc: 0.9572\n",
            "Epoch 25/30\n",
            "51/51 [==============================] - 17s 325ms/step - loss: 1.1053e-05 - acc: 1.0000 - val_loss: 0.4625 - val_acc: 0.9558\n",
            "Epoch 26/30\n",
            "51/51 [==============================] - 13s 254ms/step - loss: 4.1066e-06 - acc: 1.0000 - val_loss: 0.4939 - val_acc: 0.9586\n",
            "Epoch 27/30\n",
            "51/51 [==============================] - 13s 264ms/step - loss: 2.6549e-04 - acc: 0.9998 - val_loss: 0.5412 - val_acc: 0.9599\n",
            "Epoch 28/30\n",
            "51/51 [==============================] - 14s 266ms/step - loss: 5.2358e-05 - acc: 1.0000 - val_loss: 0.5024 - val_acc: 0.9627\n",
            "Epoch 29/30\n",
            "51/51 [==============================] - 13s 264ms/step - loss: 0.0010 - acc: 0.9998 - val_loss: 0.5363 - val_acc: 0.9572\n",
            "Epoch 30/30\n",
            "51/51 [==============================] - 13s 261ms/step - loss: 1.1660e-05 - acc: 1.0000 - val_loss: 0.5823 - val_acc: 0.9544\n",
            "97/97 [==============================] - 3s 22ms/step\n",
            "Accuracy: 0.9500161238310223\n",
            "Precision: 0.9462025316455697\n",
            "Recall: 0.9552715654952076\n",
            "F1_score: 0.9507154213036566\n",
            "\n"
          ]
        }
      ]
    },
    {
      "cell_type": "code",
      "source": [
        "# 6\n",
        "# To load performances list\n",
        "performances = []\n",
        "with open('/content/drive/MyDrive/Colab Notebooks/performances.pickle', 'rb') as f:\n",
        "  performances = pickle.load(f)\n",
        "\n",
        "print(performances)"
      ],
      "metadata": {
        "id": "hoRJu8CjuhjF",
        "colab": {
          "base_uri": "https://localhost:8080/"
        },
        "outputId": "0242124d-5afd-498f-bf58-70edca849a44"
      },
      "execution_count": null,
      "outputs": [
        {
          "output_type": "stream",
          "name": "stdout",
          "text": [
            "[['Simple RNN', 0.8942661756970016, 0.8891191709844559, 0.9012605042016807, 0.8951486697965572], ['Augmentation LSTM Glove with 128', 0.9522734601741374, 0.9498412698412698, 0.9559105431309904, 0.9528662420382166], ['Simple RNN Glove with 128', 0.9355046759109965, 0.952286282306163, 0.9182108626198083, 0.9349381912817176], ['Simple RNN FastText with 128 ', 0.9164785553047404, 0.9359145527369827, 0.8958466453674121, 0.9154423767548155], ['LSTM', 0.9474363108674622, 0.9397741530740276, 0.9571884984025559, 0.9484013928458372], ['LSTM Glove with 128', 0.946146404385682, 0.948076923076923, 0.9450479233226837, 0.94656], ['LSTM FastText with 128 ', 0.9500161238310223, 0.9462025316455697, 0.9552715654952076, 0.9507154213036566]]\n"
          ]
        }
      ]
    },
    {
      "cell_type": "code",
      "source": [
        "import matplotlib.pyplot as plt\n",
        "\n",
        "# summarize history for accuracy\n",
        "plt.plot(history.history['acc'])\n",
        "plt.plot(history.history['val_acc'])\n",
        "plt.title('model accuracy')\n",
        "plt.ylabel('accuracy')\n",
        "plt.xlabel('epoch')\n",
        "plt.legend(['Train', 'Validation'], loc='upper left')\n",
        "plt.show()\n",
        "# summarize history for loss\n",
        "plt.plot(history.history['loss'])\n",
        "plt.plot(history.history['val_loss'])\n",
        "plt.title('model loss')\n",
        "plt.ylabel('loss')\n",
        "plt.xlabel('epoch')\n",
        "plt.legend(['Train', 'Validation'], loc='upper left')\n",
        "plt.show()"
      ],
      "metadata": {
        "colab": {
          "base_uri": "https://localhost:8080/",
          "height": 573
        },
        "id": "fJJhAh6gMvxF",
        "outputId": "34652dd4-038b-49e8-d0bb-3882839f3092"
      },
      "execution_count": null,
      "outputs": [
        {
          "output_type": "display_data",
          "data": {
            "text/plain": [
              "<Figure size 432x288 with 1 Axes>"
            ],
            "image/png": "[encoded data removed]"
          },
          "metadata": {
            "needs_background": "light"
          }
        },
        {
          "output_type": "display_data",
          "data": {
            "text/plain": [
              "<Figure size 432x288 with 1 Axes>"
            ],
            "image/png": "[encoded data removed]"
          },
          "metadata": {
            "needs_background": "light"
          }
        }
      ]
    },
    {
      "cell_type": "markdown",
      "source": [
        "**BERT model**"
      ],
      "metadata": {
        "id": "KKCUVOnK920u"
      }
    },
    {
      "cell_type": "code",
      "source": [
        "! pip install transformers"
      ],
      "metadata": {
        "colab": {
          "base_uri": "https://localhost:8080/"
        },
        "id": "oP6gRn6GT0uR",
        "outputId": "41b73a0f-4c4a-4d44-8316-7346701c69c5"
      },
      "execution_count": null,
      "outputs": [
        {
          "output_type": "stream",
          "name": "stdout",
          "text": [
            "Looking in indexes: https://pypi.org/simple, https://us-python.pkg.dev/colab-wheels/public/simple/\n",
            "Collecting transformers\n",
            "  Downloading transformers-4.25.1-py3-none-any.whl (5.8 MB)\n",
            "\u001b[K     |████████████████████████████████| 5.8 MB 5.1 MB/s \n",
            "\u001b[?25hCollecting huggingface-hub<1.0,>=0.10.0\n",
            "  Downloading huggingface_hub-0.11.1-py3-none-any.whl (182 kB)\n",
            "\u001b[K     |████████████████████████████████| 182 kB 54.2 MB/s \n",
            "\u001b[?25hRequirement already satisfied: regex!=2019.12.17 in /usr/local/lib/python3.8/dist-packages (from transformers) (2022.6.2)\n",
            "Collecting tokenizers!=0.11.3,<0.14,>=0.11.1\n",
            "  Downloading tokenizers-0.13.2-cp38-cp38-manylinux_2_17_x86_64.manylinux2014_x86_64.whl (7.6 MB)\n",
            "\u001b[K     |████████████████████████████████| 7.6 MB 35.2 MB/s \n",
            "\u001b[?25hRequirement already satisfied: filelock in /usr/local/lib/python3.8/dist-packages (from transformers) (3.8.0)\n",
            "Requirement already satisfied: numpy>=1.17 in /usr/local/lib/python3.8/dist-packages (from transformers) (1.21.6)\n",
            "Requirement already satisfied: pyyaml>=5.1 in /usr/local/lib/python3.8/dist-packages (from transformers) (6.0)\n",
            "Requirement already satisfied: packaging>=20.0 in /usr/local/lib/python3.8/dist-packages (from transformers) (21.3)\n",
            "Requirement already satisfied: tqdm>=4.27 in /usr/local/lib/python3.8/dist-packages (from transformers) (4.64.1)\n",
            "Requirement already satisfied: requests in /usr/local/lib/python3.8/dist-packages (from transformers) (2.23.0)\n",
            "Requirement already satisfied: typing-extensions>=3.7.4.3 in /usr/local/lib/python3.8/dist-packages (from huggingface-hub<1.0,>=0.10.0->transformers) (4.1.1)\n",
            "Requirement already satisfied: pyparsing!=3.0.5,>=2.0.2 in /usr/local/lib/python3.8/dist-packages (from packaging>=20.0->transformers) (3.0.9)\n",
            "Requirement already satisfied: idna<3,>=2.5 in /usr/local/lib/python3.8/dist-packages (from requests->transformers) (2.10)\n",
            "Requirement already satisfied: urllib3!=1.25.0,!=1.25.1,<1.26,>=1.21.1 in /usr/local/lib/python3.8/dist-packages (from requests->transformers) (1.24.3)\n",
            "Requirement already satisfied: certifi>=2017.4.17 in /usr/local/lib/python3.8/dist-packages (from requests->transformers) (2022.9.24)\n",
            "Requirement already satisfied: chardet<4,>=3.0.2 in /usr/local/lib/python3.8/dist-packages (from requests->transformers) (3.0.4)\n",
            "Installing collected packages: tokenizers, huggingface-hub, transformers\n",
            "Successfully installed huggingface-hub-0.11.1 tokenizers-0.13.2 transformers-4.25.1\n"
          ]
        }
      ]
    },
    {
      "cell_type": "code",
      "source": [
        "Y = dataset1[\"label\"].values\n",
        "X = dataset1[\"text\"]"
      ],
      "metadata": {
        "id": "pno9BigyazMT"
      },
      "execution_count": null,
      "outputs": []
    },
    {
      "cell_type": "code",
      "source": [
        "X_train, X_test, Y_train, Y_test = train_test_split(X, Y, stratify = Y, test_size = 0.3, random_state =1)"
      ],
      "metadata": {
        "id": "AKn3uDOZai1w"
      },
      "execution_count": null,
      "outputs": []
    },
    {
      "cell_type": "code",
      "source": [
        "preprocess = hub.KerasLayer(\"https://tfhub.dev/tensorflow/bert_en_uncased_preprocess/3\")\n",
        "encoder = hub.KerasLayer(\"https://tfhub.dev/tensorflow/bert_en_uncased_L-12_H-768_A-12/4\")\n"
      ],
      "metadata": {
        "id": "yRw6y5xCE2R1"
      },
      "execution_count": null,
      "outputs": []
    },
    {
      "cell_type": "code",
      "source": [
        "text_input = tf.keras.layers.Input(shape=(), dtype=tf.string, name='text-layer')\n",
        "preprocessed_text = preprocess(text_input)\n",
        "outputs = encoder(preprocessed_text)\n",
        "d_layer = tf.keras.layers.Dense(128, name=\"dense-layer1\")(outputs['pooled_output'])\n",
        "d_layer = tf.keras.layers.Dropout(0.2, name=\"dropout-layer1\")(d_layer)\n",
        "d_layer = tf.keras.layers.Dense(64, name=\"dense-layer2\")(d_layer)\n",
        "d_layer = tf.keras.layers.Dropout(0.2, name=\"dropout-layer2\")(d_layer)\n",
        "d_layer = tf.keras.layers.Dense(32, name=\"dense-layer3\")(d_layer)\n",
        "d_layer = tf.keras.layers.Dropout(0.2, name=\"dropout-layer3\")(d_layer)\n",
        "d_layer = tf.keras.layers.Dense(16, name=\"dense-layer4\")(d_layer)\n",
        "d_layer = tf.keras.layers.Dropout(0.2, name=\"dropout-layer4\")(d_layer)\n",
        "d_layer = tf.keras.layers.Dense(1, activation='sigmoid', name=\"output\")(d_layer)\n",
        "Bert_model = tf.keras.Model(inputs=[text_input], outputs = [d_layer])"
      ],
      "metadata": {
        "id": "2WCzO4JcE511"
      },
      "execution_count": null,
      "outputs": []
    },
    {
      "cell_type": "code",
      "source": [
        "Bert_model.summary()"
      ],
      "metadata": {
        "id": "TcP7ciCZE-Oa",
        "colab": {
          "base_uri": "https://localhost:8080/"
        },
        "outputId": "b3ce8b5a-0bd3-42b1-d4de-551b2badab9a"
      },
      "execution_count": null,
      "outputs": [
        {
          "output_type": "stream",
          "name": "stdout",
          "text": [
            "Model: \"model_1\"\n",
            "__________________________________________________________________________________________________\n",
            " Layer (type)                   Output Shape         Param #     Connected to                     \n",
            "==================================================================================================\n",
            " text-layer (InputLayer)        [(None,)]            0           []                               \n",
            "                                                                                                  \n",
            " keras_layer_4 (KerasLayer)     {'input_word_ids':   0           ['text-layer[0][0]']             \n",
            "                                (None, 128),                                                      \n",
            "                                 'input_type_ids':                                                \n",
            "                                (None, 128),                                                      \n",
            "                                 'input_mask': (Non                                               \n",
            "                                e, 128)}                                                          \n",
            "                                                                                                  \n",
            " keras_layer_5 (KerasLayer)     {'pooled_output': (  109482241   ['keras_layer_4[0][0]',          \n",
            "                                None, 768),                       'keras_layer_4[0][1]',          \n",
            "                                 'default': (None,                'keras_layer_4[0][2]']          \n",
            "                                768),                                                             \n",
            "                                 'sequence_output':                                               \n",
            "                                 (None, 128, 768),                                                \n",
            "                                 'encoder_outputs':                                               \n",
            "                                 [(None, 128, 768),                                               \n",
            "                                 (None, 128, 768),                                                \n",
            "                                 (None, 128, 768),                                                \n",
            "                                 (None, 128, 768),                                                \n",
            "                                 (None, 128, 768),                                                \n",
            "                                 (None, 128, 768),                                                \n",
            "                                 (None, 128, 768),                                                \n",
            "                                 (None, 128, 768),                                                \n",
            "                                 (None, 128, 768),                                                \n",
            "                                 (None, 128, 768),                                                \n",
            "                                 (None, 128, 768),                                                \n",
            "                                 (None, 128, 768)]}                                               \n",
            "                                                                                                  \n",
            " dense-layer1 (Dense)           (None, 128)          98432       ['keras_layer_5[0][13]']         \n",
            "                                                                                                  \n",
            " dropout-layer1 (Dropout)       (None, 128)          0           ['dense-layer1[0][0]']           \n",
            "                                                                                                  \n",
            " dense-layer2 (Dense)           (None, 64)           8256        ['dropout-layer1[0][0]']         \n",
            "                                                                                                  \n",
            " dropout-layer2 (Dropout)       (None, 64)           0           ['dense-layer2[0][0]']           \n",
            "                                                                                                  \n",
            " dense-layer3 (Dense)           (None, 32)           2080        ['dropout-layer2[0][0]']         \n",
            "                                                                                                  \n",
            " dropout-layer3 (Dropout)       (None, 32)           0           ['dense-layer3[0][0]']           \n",
            "                                                                                                  \n",
            " dense-layer4 (Dense)           (None, 16)           528         ['dropout-layer3[0][0]']         \n",
            "                                                                                                  \n",
            " dropout-layer4 (Dropout)       (None, 16)           0           ['dense-layer4[0][0]']           \n",
            "                                                                                                  \n",
            " output (Dense)                 (None, 1)            17          ['dropout-layer4[0][0]']         \n",
            "                                                                                                  \n",
            "==================================================================================================\n",
            "Total params: 109,591,554\n",
            "Trainable params: 109,313\n",
            "Non-trainable params: 109,482,241\n",
            "__________________________________________________________________________________________________\n"
          ]
        }
      ]
    },
    {
      "cell_type": "code",
      "source": [
        "\n",
        "Bert_model.compile(optimizer='rmsprop', loss='binary_crossentropy', metrics=['acc'])\n",
        "callback = tf.keras.callbacks.EarlyStopping(monitor='val_loss', mode='max', verbose=1, patience=4,baseline=0.4,min_delta=0.0001,restore_best_weights=False)"
      ],
      "metadata": {
        "id": "ut6IPbyPFCMu"
      },
      "execution_count": null,
      "outputs": []
    },
    {
      "cell_type": "code",
      "source": [
        "history = Bert_model.fit(X_train, y_train, epochs=20, batch_size=800,\n",
        "                    validation_split = 0.1)\n",
        "from sklearn.metrics import accuracy_score, precision_score, recall_score, f1_score\n",
        "predictions = Bert_model.predict(X_test)\n",
        "predictions = [round(prediction[0]) for prediction in predictions]\n",
        "\n",
        "accuracy = accuracy_score(Y_test, predictions)\n",
        "precision = precision_score(Y_test, predictions)\n",
        "recall = recall_score(Y_test, predictions)\n",
        "f1 = f1_score(Y_test, predictions)\n",
        "\n",
        "print(f\"Accuracy: {accuracy}\\nPrecision: {precision}\\nRecall: {recall}\\nF1_score: {f1}\\n\")\n",
        "\n",
        "model_name = \" Bert Model \"\n",
        "\n",
        "performances.append([model_name, accuracy, precision, recall, f1])\n",
        "\n",
        "with open('/content/drive/MyDrive/Colab Notebooks/performances.pickle', 'wb') as f:\n",
        "  pickle.dump(performances, f)\n"
      ],
      "metadata": {
        "colab": {
          "base_uri": "https://localhost:8080/"
        },
        "id": "-w7BXmjmJafm",
        "outputId": "ba396f9d-5de7-4f8a-bcb1-c7b38bf68929"
      },
      "execution_count": null,
      "outputs": [
        {
          "output_type": "stream",
          "name": "stdout",
          "text": [
            "Epoch 1/20\n",
            "5/5 [==============================] - 132s 27s/step - loss: 2.1050 - acc: 0.5058 - val_loss: 0.7410 - val_acc: 0.5541\n",
            "Epoch 2/20\n",
            "5/5 [==============================] - 133s 27s/step - loss: 0.7446 - acc: 0.5805 - val_loss: 0.6429 - val_acc: 0.6441\n",
            "Epoch 3/20\n",
            "5/5 [==============================] - 142s 29s/step - loss: 0.7318 - acc: 0.5584 - val_loss: 0.6933 - val_acc: 0.5541\n",
            "Epoch 4/20\n",
            "5/5 [==============================] - 132s 27s/step - loss: 0.7311 - acc: 0.5727 - val_loss: 0.6435 - val_acc: 0.6419\n",
            "Epoch 5/20\n",
            "5/5 [==============================] - 135s 28s/step - loss: 0.7203 - acc: 0.5727 - val_loss: 0.7697 - val_acc: 0.5270\n",
            "Epoch 6/20\n",
            "5/5 [==============================] - 134s 27s/step - loss: 0.7116 - acc: 0.5892 - val_loss: 0.6280 - val_acc: 0.6509\n",
            "Epoch 7/20\n",
            "5/5 [==============================] - 131s 27s/step - loss: 0.6608 - acc: 0.6113 - val_loss: 0.6307 - val_acc: 0.5901\n",
            "Epoch 8/20\n",
            "5/5 [==============================] - 133s 27s/step - loss: 0.7325 - acc: 0.5669 - val_loss: 0.6402 - val_acc: 0.6284\n",
            "Epoch 9/20\n",
            "5/5 [==============================] - 135s 28s/step - loss: 0.6588 - acc: 0.6180 - val_loss: 0.6286 - val_acc: 0.5923\n",
            "Epoch 10/20\n",
            "5/5 [==============================] - 133s 27s/step - loss: 0.6818 - acc: 0.5955 - val_loss: 0.6037 - val_acc: 0.7005\n",
            "Epoch 11/20\n",
            "5/5 [==============================] - 138s 28s/step - loss: 0.6449 - acc: 0.6371 - val_loss: 0.6360 - val_acc: 0.5766\n",
            "Epoch 12/20\n",
            "5/5 [==============================] - 132s 27s/step - loss: 0.6589 - acc: 0.6258 - val_loss: 0.5942 - val_acc: 0.7095\n",
            "Epoch 13/20\n",
            "5/5 [==============================] - 131s 27s/step - loss: 0.6582 - acc: 0.6241 - val_loss: 0.7985 - val_acc: 0.5180\n",
            "Epoch 14/20\n",
            "5/5 [==============================] - 134s 27s/step - loss: 0.6955 - acc: 0.6233 - val_loss: 0.5736 - val_acc: 0.7387\n",
            "Epoch 15/20\n",
            "5/5 [==============================] - 134s 27s/step - loss: 0.5990 - acc: 0.6777 - val_loss: 0.6867 - val_acc: 0.5473\n",
            "Epoch 16/20\n",
            "5/5 [==============================] - 130s 27s/step - loss: 0.7229 - acc: 0.5825 - val_loss: 0.5712 - val_acc: 0.7410\n",
            "Epoch 17/20\n",
            "5/5 [==============================] - 134s 27s/step - loss: 0.5986 - acc: 0.6802 - val_loss: 0.5519 - val_acc: 0.7185\n",
            "Epoch 18/20\n",
            "5/5 [==============================] - 133s 27s/step - loss: 0.6816 - acc: 0.6115 - val_loss: 0.6150 - val_acc: 0.6329\n",
            "Epoch 19/20\n",
            "5/5 [==============================] - 131s 27s/step - loss: 0.6143 - acc: 0.6541 - val_loss: 0.5571 - val_acc: 0.7117\n",
            "Epoch 20/20\n",
            "5/5 [==============================] - 134s 27s/step - loss: 0.5924 - acc: 0.6857 - val_loss: 0.5934 - val_acc: 0.6869\n",
            "60/60 [==============================] - 22s 366ms/step\n",
            "Accuracy: 0.6870068385060495\n",
            "Precision: 0.8789808917197452\n",
            "Recall: 0.43487394957983194\n",
            "F1_score: 0.5818692902319044\n",
            "\n"
          ]
        }
      ]
    },
    {
      "cell_type": "markdown",
      "source": [
        "**visualize  the bert model**"
      ],
      "metadata": {
        "id": "7sWEe6RM-Bc5"
      }
    },
    {
      "cell_type": "code",
      "source": [
        "acc = history.history['acc']\n",
        "val_acc = history.history['val_acc']\n",
        "loss = history.history['loss']\n",
        "val_loss = history.history['val_loss']\n",
        "\n",
        "epochs = range(len(acc))\n",
        "\n",
        "plt.plot(epochs, acc, 'r', label='Training acc')\n",
        "plt.plot(epochs, val_acc, 'g', label='Validation acc')\n",
        "plt.title('Training and validation accuracy of Experiment #2')\n",
        "plt.legend()\n",
        "\n",
        "plt.figure()\n",
        "plt.show()\n"
      ],
      "metadata": {
        "id": "17ElmFHEFNxQ",
        "colab": {
          "base_uri": "https://localhost:8080/",
          "height": 298
        },
        "outputId": "518d1961-f533-4f91-849a-a7e97d45bc13"
      },
      "execution_count": null,
      "outputs": [
        {
          "output_type": "display_data",
          "data": {
            "text/plain": [
              "<Figure size 432x288 with 1 Axes>"
            ],
            "image/png": "[encoded data removed]"
          },
          "metadata": {
            "needs_background": "light"
          }
        },
        {
          "output_type": "display_data",
          "data": {
            "text/plain": [
              "<Figure size 432x288 with 0 Axes>"
            ]
          },
          "metadata": {}
        }
      ]
    },
    {
      "cell_type": "code",
      "source": [],
      "metadata": {
        "id": "-5gZqtG2BKb9"
      },
      "execution_count": null,
      "outputs": []
    },
    {
      "cell_type": "markdown",
      "source": [
        "**Text Data Augmentation**"
      ],
      "metadata": {
        "id": "CeJKkTRe-GjN"
      }
    },
    {
      "cell_type": "code",
      "source": [
        "df = dataset1.iloc[:, [2,3]]\n",
        "df"
      ],
      "metadata": {
        "colab": {
          "base_uri": "https://localhost:8080/",
          "height": 424
        },
        "id": "MCI0VThI_U6A",
        "outputId": "ad9a9588-75fc-4188-f3cf-158f5d5e6518"
      },
      "execution_count": null,
      "outputs": [
        {
          "output_type": "execute_result",
          "data": {
            "text/plain": [
              "                                                   text  label\n",
              "0     Daniel Greenfield, a Shillman Journalism Fello...      0\n",
              "1     Google Pinterest Digg Linkedin Reddit Stumbleu...      0\n",
              "2     U.S. Secretary of State John F. Kerry said Mon...      1\n",
              "3     — Kaydee King (@KaydeeKing) November 9, 2016 T...      0\n",
              "4     It's primary day in New York and front-runners...      1\n",
              "...                                                 ...    ...\n",
              "6330  The State Department told the Republican Natio...      1\n",
              "6331  The ‘P’ in PBS Should Stand for ‘Plutocratic’ ...      0\n",
              "6332   Anti-Trump Protesters Are Tools of the Oligar...      0\n",
              "6333  ADDIS ABABA, Ethiopia —President Obama convene...      1\n",
              "6334  Jeb Bush Is Suddenly Attacking Trump. Here's W...      1\n",
              "\n",
              "[6335 rows x 2 columns]"
            ],
            "text/html": [
              "\n",
              "  <div id=\"df-fa31cace-6cf4-4b1d-bdc9-e120b3384b17\">\n",
              "    <div class=\"colab-df-container\">\n",
              "      <div>\n",
              "<style scoped>\n",
              "    .dataframe tbody tr th:only-of-type {\n",
              "        vertical-align: middle;\n",
              "    }\n",
              "\n",
              "    .dataframe tbody tr th {\n",
              "        vertical-align: top;\n",
              "    }\n",
              "\n",
              "    .dataframe thead th {\n",
              "        text-align: right;\n",
              "    }\n",
              "</style>\n",
              "<table border=\"1\" class=\"dataframe\">\n",
              "  <thead>\n",
              "    <tr style=\"text-align: right;\">\n",
              "      <th></th>\n",
              "      <th>text</th>\n",
              "      <th>label</th>\n",
              "    </tr>\n",
              "  </thead>\n",
              "  <tbody>\n",
              "    <tr>\n",
              "      <th>0</th>\n",
              "      <td>Daniel Greenfield, a Shillman Journalism Fello...</td>\n",
              "      <td>0</td>\n",
              "    </tr>\n",
              "    <tr>\n",
              "      <th>1</th>\n",
              "      <td>Google Pinterest Digg Linkedin Reddit Stumbleu...</td>\n",
              "      <td>0</td>\n",
              "    </tr>\n",
              "    <tr>\n",
              "      <th>2</th>\n",
              "      <td>U.S. Secretary of State John F. Kerry said Mon...</td>\n",
              "      <td>1</td>\n",
              "    </tr>\n",
              "    <tr>\n",
              "      <th>3</th>\n",
              "      <td>— Kaydee King (@KaydeeKing) November 9, 2016 T...</td>\n",
              "      <td>0</td>\n",
              "    </tr>\n",
              "    <tr>\n",
              "      <th>4</th>\n",
              "      <td>It's primary day in New York and front-runners...</td>\n",
              "      <td>1</td>\n",
              "    </tr>\n",
              "    <tr>\n",
              "      <th>...</th>\n",
              "      <td>...</td>\n",
              "      <td>...</td>\n",
              "    </tr>\n",
              "    <tr>\n",
              "      <th>6330</th>\n",
              "      <td>The State Department told the Republican Natio...</td>\n",
              "      <td>1</td>\n",
              "    </tr>\n",
              "    <tr>\n",
              "      <th>6331</th>\n",
              "      <td>The ‘P’ in PBS Should Stand for ‘Plutocratic’ ...</td>\n",
              "      <td>0</td>\n",
              "    </tr>\n",
              "    <tr>\n",
              "      <th>6332</th>\n",
              "      <td>Anti-Trump Protesters Are Tools of the Oligar...</td>\n",
              "      <td>0</td>\n",
              "    </tr>\n",
              "    <tr>\n",
              "      <th>6333</th>\n",
              "      <td>ADDIS ABABA, Ethiopia —President Obama convene...</td>\n",
              "      <td>1</td>\n",
              "    </tr>\n",
              "    <tr>\n",
              "      <th>6334</th>\n",
              "      <td>Jeb Bush Is Suddenly Attacking Trump. Here's W...</td>\n",
              "      <td>1</td>\n",
              "    </tr>\n",
              "  </tbody>\n",
              "</table>\n",
              "<p>6335 rows × 2 columns</p>\n",
              "</div>\n",
              "      <button class=\"colab-df-convert\" onclick=\"convertToInteractive('df-fa31cace-6cf4-4b1d-bdc9-e120b3384b17')\"\n",
              "              title=\"Convert this dataframe to an interactive table.\"\n",
              "              style=\"display:none;\">\n",
              "        \n",
              "  <svg xmlns=\"http://www.w3.org/2000/svg\" height=\"24px\"viewBox=\"0 0 24 24\"\n",
              "       width=\"24px\">\n",
              "    <path d=\"M0 0h24v24H0V0z\" fill=\"none\"/>\n",
              "    <path d=\"M18.56 5.44l.94 2.06.94-2.06 2.06-.94-2.06-.94-.94-2.06-.94 2.06-2.06.94zm-11 1L8.5 8.5l.94-2.06 2.06-.94-2.06-.94L8.5 2.5l-.94 2.06-2.06.94zm10 10l.94 2.06.94-2.06 2.06-.94-2.06-.94-.94-2.06-.94 2.06-2.06.94z\"/><path d=\"M17.41 7.96l-1.37-1.37c-.4-.4-.92-.59-1.43-.59-.52 0-1.04.2-1.43.59L10.3 9.45l-7.72 7.72c-.78.78-.78 2.05 0 2.83L4 21.41c.39.39.9.59 1.41.59.51 0 1.02-.2 1.41-.59l7.78-7.78 2.81-2.81c.8-.78.8-2.07 0-2.86zM5.41 20L4 18.59l7.72-7.72 1.47 1.35L5.41 20z\"/>\n",
              "  </svg>\n",
              "      </button>\n",
              "      \n",
              "  <style>\n",
              "    .colab-df-container {\n",
              "      display:flex;\n",
              "      flex-wrap:wrap;\n",
              "      gap: 12px;\n",
              "    }\n",
              "\n",
              "    .colab-df-convert {\n",
              "      background-color: #E8F0FE;\n",
              "      border: none;\n",
              "      border-radius: 50%;\n",
              "      cursor: pointer;\n",
              "      display: none;\n",
              "      fill: #1967D2;\n",
              "      height: 32px;\n",
              "      padding: 0 0 0 0;\n",
              "      width: 32px;\n",
              "    }\n",
              "\n",
              "    .colab-df-convert:hover {\n",
              "      background-color: #E2EBFA;\n",
              "      box-shadow: 0px 1px 2px rgba(60, 64, 67, 0.3), 0px 1px 3px 1px rgba(60, 64, 67, 0.15);\n",
              "      fill: #174EA6;\n",
              "    }\n",
              "\n",
              "    [theme=dark] .colab-df-convert {\n",
              "      background-color: #3B4455;\n",
              "      fill: #D2E3FC;\n",
              "    }\n",
              "\n",
              "    [theme=dark] .colab-df-convert:hover {\n",
              "      background-color: #434B5C;\n",
              "      box-shadow: 0px 1px 3px 1px rgba(0, 0, 0, 0.15);\n",
              "      filter: drop-shadow(0px 1px 2px rgba(0, 0, 0, 0.3));\n",
              "      fill: #FFFFFF;\n",
              "    }\n",
              "  </style>\n",
              "\n",
              "      <script>\n",
              "        const buttonEl =\n",
              "          document.querySelector('#df-fa31cace-6cf4-4b1d-bdc9-e120b3384b17 button.colab-df-convert');\n",
              "        buttonEl.style.display =\n",
              "          google.colab.kernel.accessAllowed ? 'block' : 'none';\n",
              "\n",
              "        async function convertToInteractive(key) {\n",
              "          const element = document.querySelector('#df-fa31cace-6cf4-4b1d-bdc9-e120b3384b17');\n",
              "          const dataTable =\n",
              "            await google.colab.kernel.invokeFunction('convertToInteractive',\n",
              "                                                     [key], {});\n",
              "          if (!dataTable) return;\n",
              "\n",
              "          const docLinkHtml = 'Like what you see? Visit the ' +\n",
              "            '<a target=\"_blank\" href=https://colab.research.google.com/notebooks/data_table.ipynb>data table notebook</a>'\n",
              "            + ' to learn more about interactive tables.';\n",
              "          element.innerHTML = '';\n",
              "          dataTable['output_type'] = 'display_data';\n",
              "          await google.colab.output.renderOutput(dataTable, element);\n",
              "          const docLink = document.createElement('div');\n",
              "          docLink.innerHTML = docLinkHtml;\n",
              "          element.appendChild(docLink);\n",
              "        }\n",
              "      </script>\n",
              "    </div>\n",
              "  </div>\n",
              "  "
            ]
          },
          "metadata": {},
          "execution_count": 21
        }
      ]
    },
    {
      "cell_type": "code",
      "source": [
        "! pip install nlpaug"
      ],
      "metadata": {
        "colab": {
          "base_uri": "https://localhost:8080/"
        },
        "id": "2l34GEVU_VW0",
        "outputId": "6a87fcf6-9a98-4501-8bce-f919dc26e1a0"
      },
      "execution_count": null,
      "outputs": [
        {
          "output_type": "stream",
          "name": "stdout",
          "text": [
            "Looking in indexes: https://pypi.org/simple, https://us-python.pkg.dev/colab-wheels/public/simple/\n",
            "Collecting nlpaug\n",
            "  Downloading nlpaug-1.1.11-py3-none-any.whl (410 kB)\n",
            "\u001b[K     |████████████████████████████████| 410 kB 5.0 MB/s \n",
            "\u001b[?25hRequirement already satisfied: numpy>=1.16.2 in /usr/local/lib/python3.8/dist-packages (from nlpaug) (1.21.6)\n",
            "Requirement already satisfied: pandas>=1.2.0 in /usr/local/lib/python3.8/dist-packages (from nlpaug) (1.3.5)\n",
            "Requirement already satisfied: requests>=2.22.0 in /usr/local/lib/python3.8/dist-packages (from nlpaug) (2.23.0)\n",
            "Requirement already satisfied: gdown>=4.0.0 in /usr/local/lib/python3.8/dist-packages (from nlpaug) (4.4.0)\n",
            "Requirement already satisfied: beautifulsoup4 in /usr/local/lib/python3.8/dist-packages (from gdown>=4.0.0->nlpaug) (4.6.3)\n",
            "Requirement already satisfied: six in /usr/local/lib/python3.8/dist-packages (from gdown>=4.0.0->nlpaug) (1.15.0)\n",
            "Requirement already satisfied: filelock in /usr/local/lib/python3.8/dist-packages (from gdown>=4.0.0->nlpaug) (3.8.0)\n",
            "Requirement already satisfied: tqdm in /usr/local/lib/python3.8/dist-packages (from gdown>=4.0.0->nlpaug) (4.64.1)\n",
            "Requirement already satisfied: pytz>=2017.3 in /usr/local/lib/python3.8/dist-packages (from pandas>=1.2.0->nlpaug) (2022.6)\n",
            "Requirement already satisfied: python-dateutil>=2.7.3 in /usr/local/lib/python3.8/dist-packages (from pandas>=1.2.0->nlpaug) (2.8.2)\n",
            "Requirement already satisfied: urllib3!=1.25.0,!=1.25.1,<1.26,>=1.21.1 in /usr/local/lib/python3.8/dist-packages (from requests>=2.22.0->nlpaug) (1.24.3)\n",
            "Requirement already satisfied: certifi>=2017.4.17 in /usr/local/lib/python3.8/dist-packages (from requests>=2.22.0->nlpaug) (2022.9.24)\n",
            "Requirement already satisfied: chardet<4,>=3.0.2 in /usr/local/lib/python3.8/dist-packages (from requests>=2.22.0->nlpaug) (3.0.4)\n",
            "Requirement already satisfied: idna<3,>=2.5 in /usr/local/lib/python3.8/dist-packages (from requests>=2.22.0->nlpaug) (2.10)\n",
            "Requirement already satisfied: PySocks!=1.5.7,>=1.5.6 in /usr/local/lib/python3.8/dist-packages (from requests>=2.22.0->nlpaug) (1.7.1)\n",
            "Installing collected packages: nlpaug\n",
            "Successfully installed nlpaug-1.1.11\n"
          ]
        }
      ]
    },
    {
      "cell_type": "code",
      "source": [
        "import nlpaug.augmenter.word as naw\n",
        "import tqdm\n",
        "#import shuffle\n",
        "import random\n"
      ],
      "metadata": {
        "id": "vfwXxc8gB4Mu"
      },
      "execution_count": null,
      "outputs": []
    },
    {
      "cell_type": "markdown",
      "source": [
        "**augmentation on simple text fro model bert**"
      ],
      "metadata": {
        "id": "jXxOYtTm-Ogn"
      }
    },
    {
      "cell_type": "code",
      "source": [
        "aug = naw.ContextualWordEmbsAug(\n",
        "    model_path='bert-base-uncased', action=\"insert\")\n",
        "augmented_text = aug.augment(\"The quick brown fox jumps over the lazy dog\")"
      ],
      "metadata": {
        "id": "ltpn098rC__s",
        "colab": {
          "base_uri": "https://localhost:8080/",
          "height": 177,
          "referenced_widgets": [
            "20350f2e39b84b028255c5206e7fc61a",
            "8b512dfd634246be897e53e096d956e2",
            "1b9fe07e4ced46f098311a7e2a6e5bec",
            "bc0c024e7c5340c6955d8b90b28078ce",
            "c6e423db65d247f1ba4a6950ab57e16e",
            "01806cdd1907486aad021820a9e8b6ad",
            "0978ec06949f4c8d86ab8552c3e94588",
            "a27608fd66eb491b8a1bec89ba08b550",
            "6ec2ad51f56443ba8316ce5e76ab1ad6",
            "51ac3632c01447fba610e143f664a0c4",
            "3b8cbd19ac1b4a53b858402360b8c057",
            "cadeb408cfd748e392246994712f6713",
            "12382c1158a54a49adb385f86d9017fc",
            "1d1204aaa43643b4b99aea1e71d268bb",
            "48d38eba1b7e4ea6b2e0af1ccd7bf33c",
            "dabafd2126f54bf6962eb1ad9cec4340",
            "0b7d83c8cdf44bceb89a4237468266d5",
            "0f3ce5725f3d44a3a824fc46441f2700",
            "3748cf5e31494ae8b6e39456af5b1ff8",
            "dd439e20d2414269b406e6316f63c2aa",
            "1f002d9aee4c4924950cab51d401bdfb",
            "6329395c3fe34a94854a889d619616c9",
            "70eaf0976c144b0ab6400df8dd34d5d5",
            "6857d631b3c54befabd65d6fdd484055",
            "ea6ba41796b8484f81b2be9d8f6e4ab0",
            "c83b58ce40da4397a619f276188bcde8",
            "85dff0fac184480489a04c2ba4a68a87",
            "e368cb90a5204cd6afaefe5489888d2a",
            "b2bf4623e8764118b04481f81f987bee",
            "a955106db52a4995a1f86b38b8616bdb",
            "54bb26a522e144c9a216ffc216cbd052",
            "b21d09c5411d4330b871d7d4053687c2",
            "5132224374e24dcf988890df5af9b3e7",
            "fc734f6646734019bc72ed0b96c1a90a",
            "77e153dc7a134642ae3e80deabdeedfe",
            "ef36236380d54b03bf47dae68f144d18",
            "742e20bbb9e5471a9c76f98fbb9eb83e",
            "32a111fb12cd4dcca0ce05a2bda45337",
            "e4784b6381d24bffbd255815f755775c",
            "92181503ca19465e9b521b4007c93712",
            "7f4cb07673c345d1bcba0243126fb4f7",
            "b551f9f5ff5c4825857a4ff9a0c42723",
            "5f6f86a2144f4756b5dfa98de95eb540",
            "e1ae9bfd3f884172a1c11af295c072f4",
            "594818b7a09a4610baa8840474dc1e0c",
            "f9e9e7088fb64f269969e0cda34cee7e",
            "852d8cc7e8a44766a2e95b7d456da1c2",
            "15e23261672c46db9fce06f4f9bbebf1",
            "cf7a1d03f504473cba03b47e482065d5",
            "9d931ac5b6de41b2985f731291de56da",
            "dad605c9fb494e8f90f2589b89d0082f",
            "1219e1cfb50f49a6b6783c082c4d9e0b",
            "943db075275143c5a384d9415f98948c",
            "040322bb074149c4b523b1718a3bde67",
            "f1c8b00f80d441b0862317df48c7b4e3"
          ]
        },
        "outputId": "c0bcea67-6621-411a-bc6c-8830d5e8704d"
      },
      "execution_count": null,
      "outputs": [
        {
          "output_type": "display_data",
          "data": {
            "text/plain": [
              "Downloading:   0%|          | 0.00/28.0 [00:00<?, ?B/s]"
            ],
            "application/vnd.jupyter.widget-view+json": {
              "version_major": 2,
              "version_minor": 0,
              "model_id": "20350f2e39b84b028255c5206e7fc61a"
            }
          },
          "metadata": {}
        },
        {
          "output_type": "display_data",
          "data": {
            "text/plain": [
              "Downloading:   0%|          | 0.00/570 [00:00<?, ?B/s]"
            ],
            "application/vnd.jupyter.widget-view+json": {
              "version_major": 2,
              "version_minor": 0,
              "model_id": "cadeb408cfd748e392246994712f6713"
            }
          },
          "metadata": {}
        },
        {
          "output_type": "display_data",
          "data": {
            "text/plain": [
              "Downloading:   0%|          | 0.00/232k [00:00<?, ?B/s]"
            ],
            "application/vnd.jupyter.widget-view+json": {
              "version_major": 2,
              "version_minor": 0,
              "model_id": "70eaf0976c144b0ab6400df8dd34d5d5"
            }
          },
          "metadata": {}
        },
        {
          "output_type": "display_data",
          "data": {
            "text/plain": [
              "Downloading:   0%|          | 0.00/466k [00:00<?, ?B/s]"
            ],
            "application/vnd.jupyter.widget-view+json": {
              "version_major": 2,
              "version_minor": 0,
              "model_id": "fc734f6646734019bc72ed0b96c1a90a"
            }
          },
          "metadata": {}
        },
        {
          "output_type": "display_data",
          "data": {
            "text/plain": [
              "Downloading:   0%|          | 0.00/440M [00:00<?, ?B/s]"
            ],
            "application/vnd.jupyter.widget-view+json": {
              "version_major": 2,
              "version_minor": 0,
              "model_id": "594818b7a09a4610baa8840474dc1e0c"
            }
          },
          "metadata": {}
        }
      ]
    },
    {
      "cell_type": "code",
      "source": [
        "augmented_text"
      ],
      "metadata": {
        "colab": {
          "base_uri": "https://localhost:8080/"
        },
        "id": "nzklKM99DDNA",
        "outputId": "9178276b-1f18-4ff1-de94-0af765f21e59"
      },
      "execution_count": null,
      "outputs": [
        {
          "output_type": "execute_result",
          "data": {
            "text/plain": [
              "['the greedy quick female brown fox jumps over the lazy male dog']"
            ]
          },
          "metadata": {},
          "execution_count": 18
        }
      ]
    },
    {
      "cell_type": "markdown",
      "source": [
        "**augmentation on simple text with glove **"
      ],
      "metadata": {
        "id": "g4Y3VUJQ-Vsh"
      }
    },
    {
      "cell_type": "code",
      "source": [
        "aug = naw.SynonymAug(aug_src='wordnet', model_path='/content/drive/MyDrive/ML_Assignments/glove.6B.100d.txt', name='Synonym_Aug', aug_min=1, aug_max=10, aug_p=0.3, lang='eng', \n",
        "                     stopwords=None, tokenizer=None, reverse_tokenizer=None, stopwords_regex=None, force_reload=False, \n",
        "                     verbose=0)\n",
        " \n",
        "test_sentence_aug = aug.augment(\"All residents asked to 'shelter in place' are being notified by officers. No other evacuation or shelter in place orders are expected\")\n",
        "print(test_sentence_aug)"
      ],
      "metadata": {
        "colab": {
          "base_uri": "https://localhost:8080/"
        },
        "id": "PFxX4C6wDHsP",
        "outputId": "a6e9cefd-d1a7-4a64-bf60-ef2ffe708c33"
      },
      "execution_count": null,
      "outputs": [
        {
          "output_type": "stream",
          "name": "stderr",
          "text": [
            "[nltk_data] Downloading package wordnet to /root/nltk_data...\n",
            "[nltk_data] Downloading package omw-1.4 to /root/nltk_data...\n",
            "[nltk_data] Downloading package averaged_perceptron_tagger to\n",
            "[nltk_data]     /root/nltk_data...\n",
            "[nltk_data]   Unzipping taggers/averaged_perceptron_tagger.zip.\n"
          ]
        },
        {
          "output_type": "stream",
          "name": "stdout",
          "text": [
            "[\"All residents ask to ' tax shelter in place ' are being advise by officers. No other evacuation operating room shelter in position order are expected\"]\n"
          ]
        }
      ]
    },
    {
      "cell_type": "markdown",
      "source": [
        "**Applying Text Augmentation on given dataset 4000 samples**"
      ],
      "metadata": {
        "id": "S-rZK8Ok-b29"
      }
    },
    {
      "cell_type": "code",
      "source": [
        "\n",
        "def augment_text1(dataset1 , samples = 4000 ):\n",
        "    \n",
        "    new_text=[]\n",
        "    new_label = []\n",
        "\n",
        "    ##selecting the minority class samples\n",
        "    \n",
        "\n",
        "    ## data augmentation loop\n",
        "    for i in (np.random.randint(0, 6000 , samples )):\n",
        "            text = dataset1.iloc[i]['text']\n",
        "            label = dataset1.iloc[i]['label']\n",
        "            augmented_text = aug.augment(text)\n",
        "            new_text += augmented_text\n",
        "            new_label.append(label)\n",
        "\n",
        "    ## dataframe\n",
        "    new=pd.DataFrame({'text':new_text,'label':new_label})\n",
        "    #df=shuffle(df.append(new).reset_index(drop=True))\n",
        "    return new\n",
        "\n",
        "df1 = augment_text1(df)"
      ],
      "metadata": {
        "id": "9fDXo-XLDZke"
      },
      "execution_count": null,
      "outputs": []
    },
    {
      "cell_type": "code",
      "source": [
        "df1[\"label\"].value_counts()"
      ],
      "metadata": {
        "colab": {
          "base_uri": "https://localhost:8080/"
        },
        "id": "8IbqI3jmFH54",
        "outputId": "11113334-f51d-4cd6-9eb8-192d75ea2990"
      },
      "execution_count": null,
      "outputs": [
        {
          "output_type": "execute_result",
          "data": {
            "text/plain": [
              "1    2005\n",
              "0    1995\n",
              "Name: label, dtype: int64"
            ]
          },
          "metadata": {},
          "execution_count": 23
        }
      ]
    },
    {
      "cell_type": "code",
      "source": [
        "df1.info()"
      ],
      "metadata": {
        "colab": {
          "base_uri": "https://localhost:8080/"
        },
        "id": "k0PWgVFtFNBZ",
        "outputId": "7b156a6d-955b-405e-821e-48b78c392d06"
      },
      "execution_count": null,
      "outputs": [
        {
          "output_type": "stream",
          "name": "stdout",
          "text": [
            "<class 'pandas.core.frame.DataFrame'>\n",
            "RangeIndex: 4000 entries, 0 to 3999\n",
            "Data columns (total 2 columns):\n",
            " #   Column  Non-Null Count  Dtype \n",
            "---  ------  --------------  ----- \n",
            " 0   text    4000 non-null   object\n",
            " 1   label   4000 non-null   int64 \n",
            "dtypes: int64(1), object(1)\n",
            "memory usage: 62.6+ KB\n"
          ]
        }
      ]
    },
    {
      "cell_type": "markdown",
      "source": [
        "**Augmentated daataframe **"
      ],
      "metadata": {
        "id": "gXUguB8e-ors"
      }
    },
    {
      "cell_type": "code",
      "source": [
        "df1\n"
      ],
      "metadata": {
        "colab": {
          "base_uri": "https://localhost:8080/",
          "height": 424
        },
        "id": "qDlA3q24FUs4",
        "outputId": "b059a537-0283-4e7c-b11e-4d784fb56b17"
      },
      "execution_count": null,
      "outputs": [
        {
          "output_type": "execute_result",
          "data": {
            "text/plain": [
              "                                                   text  label\n",
              "0     Email Ever wonder what ’ s on the mind of toda...      0\n",
              "1     « on: Today at 08: 36: 35 PM » AIG Quadruples ...      0\n",
              "2     This post was originally published on this sit...      0\n",
              "3     EU UN Secretary - General Ban Ki - moon (C) me...      0\n",
              "4     Share This Abdul Barati, a 43 - yera - old Afg...      0\n",
              "...                                                 ...    ...\n",
              "3995  Obama ' s immigration initiative could protect...      1\n",
              "3996  More Iranian troops have arrived in Syria for ...      1\n",
              "3997  Email It is especially painful for me, as an e...      0\n",
              "3998  The crowd gathered in the streets outside the ...      1\n",
              "3999  \" I should not importune on nailing [Trump] in...      1\n",
              "\n",
              "[4000 rows x 2 columns]"
            ],
            "text/html": [
              "\n",
              "  <div id=\"df-391a5480-4c5c-4694-9ae7-cce7eeb3a5b7\">\n",
              "    <div class=\"colab-df-container\">\n",
              "      <div>\n",
              "<style scoped>\n",
              "    .dataframe tbody tr th:only-of-type {\n",
              "        vertical-align: middle;\n",
              "    }\n",
              "\n",
              "    .dataframe tbody tr th {\n",
              "        vertical-align: top;\n",
              "    }\n",
              "\n",
              "    .dataframe thead th {\n",
              "        text-align: right;\n",
              "    }\n",
              "</style>\n",
              "<table border=\"1\" class=\"dataframe\">\n",
              "  <thead>\n",
              "    <tr style=\"text-align: right;\">\n",
              "      <th></th>\n",
              "      <th>text</th>\n",
              "      <th>label</th>\n",
              "    </tr>\n",
              "  </thead>\n",
              "  <tbody>\n",
              "    <tr>\n",
              "      <th>0</th>\n",
              "      <td>Email Ever wonder what ’ s on the mind of toda...</td>\n",
              "      <td>0</td>\n",
              "    </tr>\n",
              "    <tr>\n",
              "      <th>1</th>\n",
              "      <td>« on: Today at 08: 36: 35 PM » AIG Quadruples ...</td>\n",
              "      <td>0</td>\n",
              "    </tr>\n",
              "    <tr>\n",
              "      <th>2</th>\n",
              "      <td>This post was originally published on this sit...</td>\n",
              "      <td>0</td>\n",
              "    </tr>\n",
              "    <tr>\n",
              "      <th>3</th>\n",
              "      <td>EU UN Secretary - General Ban Ki - moon (C) me...</td>\n",
              "      <td>0</td>\n",
              "    </tr>\n",
              "    <tr>\n",
              "      <th>4</th>\n",
              "      <td>Share This Abdul Barati, a 43 - yera - old Afg...</td>\n",
              "      <td>0</td>\n",
              "    </tr>\n",
              "    <tr>\n",
              "      <th>...</th>\n",
              "      <td>...</td>\n",
              "      <td>...</td>\n",
              "    </tr>\n",
              "    <tr>\n",
              "      <th>3995</th>\n",
              "      <td>Obama ' s immigration initiative could protect...</td>\n",
              "      <td>1</td>\n",
              "    </tr>\n",
              "    <tr>\n",
              "      <th>3996</th>\n",
              "      <td>More Iranian troops have arrived in Syria for ...</td>\n",
              "      <td>1</td>\n",
              "    </tr>\n",
              "    <tr>\n",
              "      <th>3997</th>\n",
              "      <td>Email It is especially painful for me, as an e...</td>\n",
              "      <td>0</td>\n",
              "    </tr>\n",
              "    <tr>\n",
              "      <th>3998</th>\n",
              "      <td>The crowd gathered in the streets outside the ...</td>\n",
              "      <td>1</td>\n",
              "    </tr>\n",
              "    <tr>\n",
              "      <th>3999</th>\n",
              "      <td>\" I should not importune on nailing [Trump] in...</td>\n",
              "      <td>1</td>\n",
              "    </tr>\n",
              "  </tbody>\n",
              "</table>\n",
              "<p>4000 rows × 2 columns</p>\n",
              "</div>\n",
              "      <button class=\"colab-df-convert\" onclick=\"convertToInteractive('df-391a5480-4c5c-4694-9ae7-cce7eeb3a5b7')\"\n",
              "              title=\"Convert this dataframe to an interactive table.\"\n",
              "              style=\"display:none;\">\n",
              "        \n",
              "  <svg xmlns=\"http://www.w3.org/2000/svg\" height=\"24px\"viewBox=\"0 0 24 24\"\n",
              "       width=\"24px\">\n",
              "    <path d=\"M0 0h24v24H0V0z\" fill=\"none\"/>\n",
              "    <path d=\"M18.56 5.44l.94 2.06.94-2.06 2.06-.94-2.06-.94-.94-2.06-.94 2.06-2.06.94zm-11 1L8.5 8.5l.94-2.06 2.06-.94-2.06-.94L8.5 2.5l-.94 2.06-2.06.94zm10 10l.94 2.06.94-2.06 2.06-.94-2.06-.94-.94-2.06-.94 2.06-2.06.94z\"/><path d=\"M17.41 7.96l-1.37-1.37c-.4-.4-.92-.59-1.43-.59-.52 0-1.04.2-1.43.59L10.3 9.45l-7.72 7.72c-.78.78-.78 2.05 0 2.83L4 21.41c.39.39.9.59 1.41.59.51 0 1.02-.2 1.41-.59l7.78-7.78 2.81-2.81c.8-.78.8-2.07 0-2.86zM5.41 20L4 18.59l7.72-7.72 1.47 1.35L5.41 20z\"/>\n",
              "  </svg>\n",
              "      </button>\n",
              "      \n",
              "  <style>\n",
              "    .colab-df-container {\n",
              "      display:flex;\n",
              "      flex-wrap:wrap;\n",
              "      gap: 12px;\n",
              "    }\n",
              "\n",
              "    .colab-df-convert {\n",
              "      background-color: #E8F0FE;\n",
              "      border: none;\n",
              "      border-radius: 50%;\n",
              "      cursor: pointer;\n",
              "      display: none;\n",
              "      fill: #1967D2;\n",
              "      height: 32px;\n",
              "      padding: 0 0 0 0;\n",
              "      width: 32px;\n",
              "    }\n",
              "\n",
              "    .colab-df-convert:hover {\n",
              "      background-color: #E2EBFA;\n",
              "      box-shadow: 0px 1px 2px rgba(60, 64, 67, 0.3), 0px 1px 3px 1px rgba(60, 64, 67, 0.15);\n",
              "      fill: #174EA6;\n",
              "    }\n",
              "\n",
              "    [theme=dark] .colab-df-convert {\n",
              "      background-color: #3B4455;\n",
              "      fill: #D2E3FC;\n",
              "    }\n",
              "\n",
              "    [theme=dark] .colab-df-convert:hover {\n",
              "      background-color: #434B5C;\n",
              "      box-shadow: 0px 1px 3px 1px rgba(0, 0, 0, 0.15);\n",
              "      filter: drop-shadow(0px 1px 2px rgba(0, 0, 0, 0.3));\n",
              "      fill: #FFFFFF;\n",
              "    }\n",
              "  </style>\n",
              "\n",
              "      <script>\n",
              "        const buttonEl =\n",
              "          document.querySelector('#df-391a5480-4c5c-4694-9ae7-cce7eeb3a5b7 button.colab-df-convert');\n",
              "        buttonEl.style.display =\n",
              "          google.colab.kernel.accessAllowed ? 'block' : 'none';\n",
              "\n",
              "        async function convertToInteractive(key) {\n",
              "          const element = document.querySelector('#df-391a5480-4c5c-4694-9ae7-cce7eeb3a5b7');\n",
              "          const dataTable =\n",
              "            await google.colab.kernel.invokeFunction('convertToInteractive',\n",
              "                                                     [key], {});\n",
              "          if (!dataTable) return;\n",
              "\n",
              "          const docLinkHtml = 'Like what you see? Visit the ' +\n",
              "            '<a target=\"_blank\" href=https://colab.research.google.com/notebooks/data_table.ipynb>data table notebook</a>'\n",
              "            + ' to learn more about interactive tables.';\n",
              "          element.innerHTML = '';\n",
              "          dataTable['output_type'] = 'display_data';\n",
              "          await google.colab.output.renderOutput(dataTable, element);\n",
              "          const docLink = document.createElement('div');\n",
              "          docLink.innerHTML = docLinkHtml;\n",
              "          element.appendChild(docLink);\n",
              "        }\n",
              "      </script>\n",
              "    </div>\n",
              "  </div>\n",
              "  "
            ]
          },
          "metadata": {},
          "execution_count": 25
        }
      ]
    },
    {
      "cell_type": "markdown",
      "source": [
        "**Merge augmented and given dataset**"
      ],
      "metadata": {
        "id": "jPPSwY3r-ttZ"
      }
    },
    {
      "cell_type": "code",
      "source": [
        "df3 = pd.concat([df,df1], axis = 0)\n",
        "df3"
      ],
      "metadata": {
        "colab": {
          "base_uri": "https://localhost:8080/",
          "height": 424
        },
        "id": "iMrzJ3bEQ9YT",
        "outputId": "69a4f3e2-52d4-48e8-9a34-6e70e00a8888"
      },
      "execution_count": null,
      "outputs": [
        {
          "output_type": "execute_result",
          "data": {
            "text/plain": [
              "                                                   text  label\n",
              "0     Daniel Greenfield, a Shillman Journalism Fello...      0\n",
              "1     Google Pinterest Digg Linkedin Reddit Stumbleu...      0\n",
              "2     U.S. Secretary of State John F. Kerry said Mon...      1\n",
              "3     — Kaydee King (@KaydeeKing) November 9, 2016 T...      0\n",
              "4     It's primary day in New York and front-runners...      1\n",
              "...                                                 ...    ...\n",
              "3995  Obama ' s immigration initiative could protect...      1\n",
              "3996  More Iranian troops have arrived in Syria for ...      1\n",
              "3997  Email It is especially painful for me, as an e...      0\n",
              "3998  The crowd gathered in the streets outside the ...      1\n",
              "3999  \" I should not importune on nailing [Trump] in...      1\n",
              "\n",
              "[10335 rows x 2 columns]"
            ],
            "text/html": [
              "\n",
              "  <div id=\"df-3c9893d2-8ac7-404d-9d34-42249a5ee601\">\n",
              "    <div class=\"colab-df-container\">\n",
              "      <div>\n",
              "<style scoped>\n",
              "    .dataframe tbody tr th:only-of-type {\n",
              "        vertical-align: middle;\n",
              "    }\n",
              "\n",
              "    .dataframe tbody tr th {\n",
              "        vertical-align: top;\n",
              "    }\n",
              "\n",
              "    .dataframe thead th {\n",
              "        text-align: right;\n",
              "    }\n",
              "</style>\n",
              "<table border=\"1\" class=\"dataframe\">\n",
              "  <thead>\n",
              "    <tr style=\"text-align: right;\">\n",
              "      <th></th>\n",
              "      <th>text</th>\n",
              "      <th>label</th>\n",
              "    </tr>\n",
              "  </thead>\n",
              "  <tbody>\n",
              "    <tr>\n",
              "      <th>0</th>\n",
              "      <td>Daniel Greenfield, a Shillman Journalism Fello...</td>\n",
              "      <td>0</td>\n",
              "    </tr>\n",
              "    <tr>\n",
              "      <th>1</th>\n",
              "      <td>Google Pinterest Digg Linkedin Reddit Stumbleu...</td>\n",
              "      <td>0</td>\n",
              "    </tr>\n",
              "    <tr>\n",
              "      <th>2</th>\n",
              "      <td>U.S. Secretary of State John F. Kerry said Mon...</td>\n",
              "      <td>1</td>\n",
              "    </tr>\n",
              "    <tr>\n",
              "      <th>3</th>\n",
              "      <td>— Kaydee King (@KaydeeKing) November 9, 2016 T...</td>\n",
              "      <td>0</td>\n",
              "    </tr>\n",
              "    <tr>\n",
              "      <th>4</th>\n",
              "      <td>It's primary day in New York and front-runners...</td>\n",
              "      <td>1</td>\n",
              "    </tr>\n",
              "    <tr>\n",
              "      <th>...</th>\n",
              "      <td>...</td>\n",
              "      <td>...</td>\n",
              "    </tr>\n",
              "    <tr>\n",
              "      <th>3995</th>\n",
              "      <td>Obama ' s immigration initiative could protect...</td>\n",
              "      <td>1</td>\n",
              "    </tr>\n",
              "    <tr>\n",
              "      <th>3996</th>\n",
              "      <td>More Iranian troops have arrived in Syria for ...</td>\n",
              "      <td>1</td>\n",
              "    </tr>\n",
              "    <tr>\n",
              "      <th>3997</th>\n",
              "      <td>Email It is especially painful for me, as an e...</td>\n",
              "      <td>0</td>\n",
              "    </tr>\n",
              "    <tr>\n",
              "      <th>3998</th>\n",
              "      <td>The crowd gathered in the streets outside the ...</td>\n",
              "      <td>1</td>\n",
              "    </tr>\n",
              "    <tr>\n",
              "      <th>3999</th>\n",
              "      <td>\" I should not importune on nailing [Trump] in...</td>\n",
              "      <td>1</td>\n",
              "    </tr>\n",
              "  </tbody>\n",
              "</table>\n",
              "<p>10335 rows × 2 columns</p>\n",
              "</div>\n",
              "      <button class=\"colab-df-convert\" onclick=\"convertToInteractive('df-3c9893d2-8ac7-404d-9d34-42249a5ee601')\"\n",
              "              title=\"Convert this dataframe to an interactive table.\"\n",
              "              style=\"display:none;\">\n",
              "        \n",
              "  <svg xmlns=\"http://www.w3.org/2000/svg\" height=\"24px\"viewBox=\"0 0 24 24\"\n",
              "       width=\"24px\">\n",
              "    <path d=\"M0 0h24v24H0V0z\" fill=\"none\"/>\n",
              "    <path d=\"M18.56 5.44l.94 2.06.94-2.06 2.06-.94-2.06-.94-.94-2.06-.94 2.06-2.06.94zm-11 1L8.5 8.5l.94-2.06 2.06-.94-2.06-.94L8.5 2.5l-.94 2.06-2.06.94zm10 10l.94 2.06.94-2.06 2.06-.94-2.06-.94-.94-2.06-.94 2.06-2.06.94z\"/><path d=\"M17.41 7.96l-1.37-1.37c-.4-.4-.92-.59-1.43-.59-.52 0-1.04.2-1.43.59L10.3 9.45l-7.72 7.72c-.78.78-.78 2.05 0 2.83L4 21.41c.39.39.9.59 1.41.59.51 0 1.02-.2 1.41-.59l7.78-7.78 2.81-2.81c.8-.78.8-2.07 0-2.86zM5.41 20L4 18.59l7.72-7.72 1.47 1.35L5.41 20z\"/>\n",
              "  </svg>\n",
              "      </button>\n",
              "      \n",
              "  <style>\n",
              "    .colab-df-container {\n",
              "      display:flex;\n",
              "      flex-wrap:wrap;\n",
              "      gap: 12px;\n",
              "    }\n",
              "\n",
              "    .colab-df-convert {\n",
              "      background-color: #E8F0FE;\n",
              "      border: none;\n",
              "      border-radius: 50%;\n",
              "      cursor: pointer;\n",
              "      display: none;\n",
              "      fill: #1967D2;\n",
              "      height: 32px;\n",
              "      padding: 0 0 0 0;\n",
              "      width: 32px;\n",
              "    }\n",
              "\n",
              "    .colab-df-convert:hover {\n",
              "      background-color: #E2EBFA;\n",
              "      box-shadow: 0px 1px 2px rgba(60, 64, 67, 0.3), 0px 1px 3px 1px rgba(60, 64, 67, 0.15);\n",
              "      fill: #174EA6;\n",
              "    }\n",
              "\n",
              "    [theme=dark] .colab-df-convert {\n",
              "      background-color: #3B4455;\n",
              "      fill: #D2E3FC;\n",
              "    }\n",
              "\n",
              "    [theme=dark] .colab-df-convert:hover {\n",
              "      background-color: #434B5C;\n",
              "      box-shadow: 0px 1px 3px 1px rgba(0, 0, 0, 0.15);\n",
              "      filter: drop-shadow(0px 1px 2px rgba(0, 0, 0, 0.3));\n",
              "      fill: #FFFFFF;\n",
              "    }\n",
              "  </style>\n",
              "\n",
              "      <script>\n",
              "        const buttonEl =\n",
              "          document.querySelector('#df-3c9893d2-8ac7-404d-9d34-42249a5ee601 button.colab-df-convert');\n",
              "        buttonEl.style.display =\n",
              "          google.colab.kernel.accessAllowed ? 'block' : 'none';\n",
              "\n",
              "        async function convertToInteractive(key) {\n",
              "          const element = document.querySelector('#df-3c9893d2-8ac7-404d-9d34-42249a5ee601');\n",
              "          const dataTable =\n",
              "            await google.colab.kernel.invokeFunction('convertToInteractive',\n",
              "                                                     [key], {});\n",
              "          if (!dataTable) return;\n",
              "\n",
              "          const docLinkHtml = 'Like what you see? Visit the ' +\n",
              "            '<a target=\"_blank\" href=https://colab.research.google.com/notebooks/data_table.ipynb>data table notebook</a>'\n",
              "            + ' to learn more about interactive tables.';\n",
              "          element.innerHTML = '';\n",
              "          dataTable['output_type'] = 'display_data';\n",
              "          await google.colab.output.renderOutput(dataTable, element);\n",
              "          const docLink = document.createElement('div');\n",
              "          docLink.innerHTML = docLinkHtml;\n",
              "          element.appendChild(docLink);\n",
              "        }\n",
              "      </script>\n",
              "    </div>\n",
              "  </div>\n",
              "  "
            ]
          },
          "metadata": {},
          "execution_count": 26
        }
      ]
    },
    {
      "cell_type": "code",
      "source": [
        "df3"
      ],
      "metadata": {
        "colab": {
          "base_uri": "https://localhost:8080/",
          "height": 424
        },
        "id": "ovbjVyKZbFsZ",
        "outputId": "35a399dd-a41e-403f-f36a-190e71dedaf0"
      },
      "execution_count": null,
      "outputs": [
        {
          "output_type": "execute_result",
          "data": {
            "text/plain": [
              "                                                   text  label\n",
              "0     Daniel Greenfield, a Shillman Journalism Fello...      0\n",
              "1     Google Pinterest Digg Linkedin Reddit Stumbleu...      0\n",
              "2     U.S. Secretary of State John F. Kerry said Mon...      1\n",
              "3     — Kaydee King (@KaydeeKing) November 9, 2016 T...      0\n",
              "4     It's primary day in New York and front-runners...      1\n",
              "...                                                 ...    ...\n",
              "3995  Obama ' s immigration initiative could protect...      1\n",
              "3996  More Iranian troops have arrived in Syria for ...      1\n",
              "3997  Email It is especially painful for me, as an e...      0\n",
              "3998  The crowd gathered in the streets outside the ...      1\n",
              "3999  \" I should not importune on nailing [Trump] in...      1\n",
              "\n",
              "[10335 rows x 2 columns]"
            ],
            "text/html": [
              "\n",
              "  <div id=\"df-3600f531-4858-4a4c-8499-980d8e1f5c13\">\n",
              "    <div class=\"colab-df-container\">\n",
              "      <div>\n",
              "<style scoped>\n",
              "    .dataframe tbody tr th:only-of-type {\n",
              "        vertical-align: middle;\n",
              "    }\n",
              "\n",
              "    .dataframe tbody tr th {\n",
              "        vertical-align: top;\n",
              "    }\n",
              "\n",
              "    .dataframe thead th {\n",
              "        text-align: right;\n",
              "    }\n",
              "</style>\n",
              "<table border=\"1\" class=\"dataframe\">\n",
              "  <thead>\n",
              "    <tr style=\"text-align: right;\">\n",
              "      <th></th>\n",
              "      <th>text</th>\n",
              "      <th>label</th>\n",
              "    </tr>\n",
              "  </thead>\n",
              "  <tbody>\n",
              "    <tr>\n",
              "      <th>0</th>\n",
              "      <td>Daniel Greenfield, a Shillman Journalism Fello...</td>\n",
              "      <td>0</td>\n",
              "    </tr>\n",
              "    <tr>\n",
              "      <th>1</th>\n",
              "      <td>Google Pinterest Digg Linkedin Reddit Stumbleu...</td>\n",
              "      <td>0</td>\n",
              "    </tr>\n",
              "    <tr>\n",
              "      <th>2</th>\n",
              "      <td>U.S. Secretary of State John F. Kerry said Mon...</td>\n",
              "      <td>1</td>\n",
              "    </tr>\n",
              "    <tr>\n",
              "      <th>3</th>\n",
              "      <td>— Kaydee King (@KaydeeKing) November 9, 2016 T...</td>\n",
              "      <td>0</td>\n",
              "    </tr>\n",
              "    <tr>\n",
              "      <th>4</th>\n",
              "      <td>It's primary day in New York and front-runners...</td>\n",
              "      <td>1</td>\n",
              "    </tr>\n",
              "    <tr>\n",
              "      <th>...</th>\n",
              "      <td>...</td>\n",
              "      <td>...</td>\n",
              "    </tr>\n",
              "    <tr>\n",
              "      <th>3995</th>\n",
              "      <td>Obama ' s immigration initiative could protect...</td>\n",
              "      <td>1</td>\n",
              "    </tr>\n",
              "    <tr>\n",
              "      <th>3996</th>\n",
              "      <td>More Iranian troops have arrived in Syria for ...</td>\n",
              "      <td>1</td>\n",
              "    </tr>\n",
              "    <tr>\n",
              "      <th>3997</th>\n",
              "      <td>Email It is especially painful for me, as an e...</td>\n",
              "      <td>0</td>\n",
              "    </tr>\n",
              "    <tr>\n",
              "      <th>3998</th>\n",
              "      <td>The crowd gathered in the streets outside the ...</td>\n",
              "      <td>1</td>\n",
              "    </tr>\n",
              "    <tr>\n",
              "      <th>3999</th>\n",
              "      <td>\" I should not importune on nailing [Trump] in...</td>\n",
              "      <td>1</td>\n",
              "    </tr>\n",
              "  </tbody>\n",
              "</table>\n",
              "<p>10335 rows × 2 columns</p>\n",
              "</div>\n",
              "      <button class=\"colab-df-convert\" onclick=\"convertToInteractive('df-3600f531-4858-4a4c-8499-980d8e1f5c13')\"\n",
              "              title=\"Convert this dataframe to an interactive table.\"\n",
              "              style=\"display:none;\">\n",
              "        \n",
              "  <svg xmlns=\"http://www.w3.org/2000/svg\" height=\"24px\"viewBox=\"0 0 24 24\"\n",
              "       width=\"24px\">\n",
              "    <path d=\"M0 0h24v24H0V0z\" fill=\"none\"/>\n",
              "    <path d=\"M18.56 5.44l.94 2.06.94-2.06 2.06-.94-2.06-.94-.94-2.06-.94 2.06-2.06.94zm-11 1L8.5 8.5l.94-2.06 2.06-.94-2.06-.94L8.5 2.5l-.94 2.06-2.06.94zm10 10l.94 2.06.94-2.06 2.06-.94-2.06-.94-.94-2.06-.94 2.06-2.06.94z\"/><path d=\"M17.41 7.96l-1.37-1.37c-.4-.4-.92-.59-1.43-.59-.52 0-1.04.2-1.43.59L10.3 9.45l-7.72 7.72c-.78.78-.78 2.05 0 2.83L4 21.41c.39.39.9.59 1.41.59.51 0 1.02-.2 1.41-.59l7.78-7.78 2.81-2.81c.8-.78.8-2.07 0-2.86zM5.41 20L4 18.59l7.72-7.72 1.47 1.35L5.41 20z\"/>\n",
              "  </svg>\n",
              "      </button>\n",
              "      \n",
              "  <style>\n",
              "    .colab-df-container {\n",
              "      display:flex;\n",
              "      flex-wrap:wrap;\n",
              "      gap: 12px;\n",
              "    }\n",
              "\n",
              "    .colab-df-convert {\n",
              "      background-color: #E8F0FE;\n",
              "      border: none;\n",
              "      border-radius: 50%;\n",
              "      cursor: pointer;\n",
              "      display: none;\n",
              "      fill: #1967D2;\n",
              "      height: 32px;\n",
              "      padding: 0 0 0 0;\n",
              "      width: 32px;\n",
              "    }\n",
              "\n",
              "    .colab-df-convert:hover {\n",
              "      background-color: #E2EBFA;\n",
              "      box-shadow: 0px 1px 2px rgba(60, 64, 67, 0.3), 0px 1px 3px 1px rgba(60, 64, 67, 0.15);\n",
              "      fill: #174EA6;\n",
              "    }\n",
              "\n",
              "    [theme=dark] .colab-df-convert {\n",
              "      background-color: #3B4455;\n",
              "      fill: #D2E3FC;\n",
              "    }\n",
              "\n",
              "    [theme=dark] .colab-df-convert:hover {\n",
              "      background-color: #434B5C;\n",
              "      box-shadow: 0px 1px 3px 1px rgba(0, 0, 0, 0.15);\n",
              "      filter: drop-shadow(0px 1px 2px rgba(0, 0, 0, 0.3));\n",
              "      fill: #FFFFFF;\n",
              "    }\n",
              "  </style>\n",
              "\n",
              "      <script>\n",
              "        const buttonEl =\n",
              "          document.querySelector('#df-3600f531-4858-4a4c-8499-980d8e1f5c13 button.colab-df-convert');\n",
              "        buttonEl.style.display =\n",
              "          google.colab.kernel.accessAllowed ? 'block' : 'none';\n",
              "\n",
              "        async function convertToInteractive(key) {\n",
              "          const element = document.querySelector('#df-3600f531-4858-4a4c-8499-980d8e1f5c13');\n",
              "          const dataTable =\n",
              "            await google.colab.kernel.invokeFunction('convertToInteractive',\n",
              "                                                     [key], {});\n",
              "          if (!dataTable) return;\n",
              "\n",
              "          const docLinkHtml = 'Like what you see? Visit the ' +\n",
              "            '<a target=\"_blank\" href=https://colab.research.google.com/notebooks/data_table.ipynb>data table notebook</a>'\n",
              "            + ' to learn more about interactive tables.';\n",
              "          element.innerHTML = '';\n",
              "          dataTable['output_type'] = 'display_data';\n",
              "          await google.colab.output.renderOutput(dataTable, element);\n",
              "          const docLink = document.createElement('div');\n",
              "          docLink.innerHTML = docLinkHtml;\n",
              "          element.appendChild(docLink);\n",
              "        }\n",
              "      </script>\n",
              "    </div>\n",
              "  </div>\n",
              "  "
            ]
          },
          "metadata": {},
          "execution_count": 27
        }
      ]
    },
    {
      "cell_type": "code",
      "source": [
        "df3['text'] = df3['text'].apply(preprocess)"
      ],
      "metadata": {
        "id": "Eqm1qJvOUK8C"
      },
      "execution_count": null,
      "outputs": []
    },
    {
      "cell_type": "code",
      "source": [
        "label = df3[\"label\"].values\n",
        "txt = df3[\"text\"]"
      ],
      "metadata": {
        "id": "rRYN81UpWlgd"
      },
      "execution_count": null,
      "outputs": []
    },
    {
      "cell_type": "code",
      "source": [
        "df3.shape"
      ],
      "metadata": {
        "colab": {
          "base_uri": "https://localhost:8080/"
        },
        "id": "eDZkjG5rZjMg",
        "outputId": "68d40cf8-fa76-4747-d169-6b8e86963cf8"
      },
      "execution_count": null,
      "outputs": [
        {
          "output_type": "execute_result",
          "data": {
            "text/plain": [
              "(10335, 2)"
            ]
          },
          "metadata": {},
          "execution_count": 34
        }
      ]
    },
    {
      "cell_type": "code",
      "source": [
        "# 3.2\n",
        "max_features = 2000\n",
        "maxlen = 100"
      ],
      "metadata": {
        "id": "j3k49L-WaAXp"
      },
      "execution_count": null,
      "outputs": []
    },
    {
      "cell_type": "code",
      "source": [
        "from sklearn.model_selection import train_test_split\n",
        "X_train, X_test, y_train, y_test = train_test_split(txt, label, test_size=0.3, random_state=1, stratify=label)"
      ],
      "metadata": {
        "id": "FJpIO6-yaCDd"
      },
      "execution_count": null,
      "outputs": []
    },
    {
      "cell_type": "code",
      "source": [
        "from tensorflow.keras import layers\n",
        "text_vectorization = layers.TextVectorization (max_tokens=max_features, output_mode=\"int\", output_sequence_length=maxlen)\n",
        "text_vectorization.adapt(txt)\n",
        "X_train = text_vectorization(X_train)\n",
        "X_test = text_vectorization(X_test)"
      ],
      "metadata": {
        "id": "LxBQjmaOaXyB"
      },
      "execution_count": null,
      "outputs": []
    },
    {
      "cell_type": "code",
      "source": [
        "print(len(X_train))\n",
        "print(len(X_test))\n",
        "print(y_train)\n",
        "print(y_test)"
      ],
      "metadata": {
        "colab": {
          "base_uri": "https://localhost:8080/"
        },
        "id": "vSqyjBPXZZt6",
        "outputId": "f2449356-6fa1-480d-9841-fd4481b76531"
      },
      "execution_count": null,
      "outputs": [
        {
          "output_type": "stream",
          "name": "stdout",
          "text": [
            "7234\n",
            "3101\n",
            "[0 1 0 ... 1 0 0]\n",
            "[1 0 1 ... 0 1 0]\n"
          ]
        }
      ]
    },
    {
      "cell_type": "markdown",
      "source": [
        "**Augmented LSTM**"
      ],
      "metadata": {
        "id": "z_XgCIqZ-1EY"
      }
    },
    {
      "cell_type": "code",
      "source": [
        "from keras.layers import Dense \n",
        "from keras.layers import LSTM\n",
        "from keras.models import Sequential\n",
        "from keras.layers import Embedding\n",
        "from keras import layers\n",
        "\n",
        "Aug_LSTM_model = Sequential()\n",
        "Aug_LSTM_model.add(Embedding(max_features, maxlen))\n",
        "Aug_LSTM_model.add(layers.Bidirectional(LSTM(32)))\n",
        "Aug_LSTM_model.add(Dense(128, activation='relu'))\n",
        "Aug_LSTM_model.add(Dense(64, activation='relu'))\n",
        "Aug_LSTM_model.add(Dense(32, activation='relu'))\n",
        "Aug_LSTM_model.add(Dense(1, activation='sigmoid'))\n",
        "\n",
        "Aug_LSTM_model.compile(optimizer='rmsprop', loss='binary_crossentropy', metrics=['acc'])\n",
        "history = Aug_LSTM_model.fit(X_train, y_train,\n",
        "                    epochs=30,\n",
        "                    batch_size=128,\n",
        "                    validation_split=0.1)\n",
        "\n",
        "from sklearn.metrics import accuracy_score, precision_score, recall_score, f1_score\n",
        "predictions = Aug_LSTM_model.predict(X_test)\n",
        "predictions = [round(prediction[0]) for prediction in predictions]\n",
        "\n",
        "accuracy = accuracy_score(y_test, predictions)\n",
        "precision = precision_score(y_test, predictions)\n",
        "recall = recall_score(y_test, predictions)\n",
        "f1 = f1_score(y_test, predictions)\n",
        "\n",
        "print(f\"Accuracy: {accuracy}\\nPrecision: {precision}\\nRecall: {recall}\\nF1_score: {f1}\\n\")\n",
        "\n",
        "model_name = \" Augmented LSTM\"\n",
        "\n",
        "performances.append([model_name, accuracy, precision, recall, f1])\n",
        "\n",
        "with open('/content/drive/MyDrive/Colab Notebooks/performances.pickle', 'wb') as f:\n",
        "  pickle.dump(performances, f)"
      ],
      "metadata": {
        "colab": {
          "base_uri": "https://localhost:8080/"
        },
        "id": "rNH6NirXe9s3",
        "outputId": "da82c8ef-db2e-4bd6-8985-e034f2171003"
      },
      "execution_count": null,
      "outputs": [
        {
          "output_type": "stream",
          "name": "stdout",
          "text": [
            "Epoch 1/30\n",
            "51/51 [==============================] - 25s 412ms/step - loss: 0.4007 - acc: 0.8241 - val_loss: 0.2330 - val_acc: 0.9199\n",
            "Epoch 2/30\n",
            "51/51 [==============================] - 24s 465ms/step - loss: 0.1664 - acc: 0.9390 - val_loss: 0.1707 - val_acc: 0.9365\n",
            "Epoch 3/30\n",
            "51/51 [==============================] - 21s 406ms/step - loss: 0.1086 - acc: 0.9624 - val_loss: 0.1789 - val_acc: 0.9337\n",
            "Epoch 4/30\n",
            "51/51 [==============================] - 14s 266ms/step - loss: 0.0711 - acc: 0.9750 - val_loss: 0.1908 - val_acc: 0.9337\n",
            "Epoch 5/30\n",
            "51/51 [==============================] - 11s 223ms/step - loss: 0.0413 - acc: 0.9846 - val_loss: 0.1531 - val_acc: 0.9530\n",
            "Epoch 6/30\n",
            "51/51 [==============================] - 11s 222ms/step - loss: 0.0213 - acc: 0.9932 - val_loss: 0.1842 - val_acc: 0.9517\n",
            "Epoch 7/30\n",
            "51/51 [==============================] - 11s 223ms/step - loss: 0.0120 - acc: 0.9962 - val_loss: 0.2011 - val_acc: 0.9558\n",
            "Epoch 8/30\n",
            "51/51 [==============================] - 11s 224ms/step - loss: 0.0066 - acc: 0.9985 - val_loss: 0.2607 - val_acc: 0.9530\n",
            "Epoch 9/30\n",
            "51/51 [==============================] - 13s 246ms/step - loss: 0.0049 - acc: 0.9986 - val_loss: 0.2775 - val_acc: 0.9517\n",
            "Epoch 10/30\n",
            "51/51 [==============================] - 11s 224ms/step - loss: 0.0082 - acc: 0.9982 - val_loss: 0.2815 - val_acc: 0.9489\n",
            "Epoch 11/30\n",
            "51/51 [==============================] - 11s 226ms/step - loss: 0.0096 - acc: 0.9975 - val_loss: 0.3130 - val_acc: 0.9461\n",
            "Epoch 12/30\n",
            "51/51 [==============================] - 11s 225ms/step - loss: 8.4899e-04 - acc: 0.9998 - val_loss: 0.3487 - val_acc: 0.9517\n",
            "Epoch 13/30\n",
            "51/51 [==============================] - 12s 227ms/step - loss: 0.0028 - acc: 0.9992 - val_loss: 0.3611 - val_acc: 0.9448\n",
            "Epoch 14/30\n",
            "51/51 [==============================] - 11s 224ms/step - loss: 0.0014 - acc: 0.9995 - val_loss: 0.3893 - val_acc: 0.9461\n",
            "Epoch 15/30\n",
            "51/51 [==============================] - 11s 224ms/step - loss: 1.6889e-04 - acc: 1.0000 - val_loss: 0.4292 - val_acc: 0.9475\n",
            "Epoch 16/30\n",
            "51/51 [==============================] - 11s 220ms/step - loss: 0.0012 - acc: 0.9998 - val_loss: 0.4681 - val_acc: 0.9475\n",
            "Epoch 17/30\n",
            "51/51 [==============================] - 11s 221ms/step - loss: 1.2416e-05 - acc: 1.0000 - val_loss: 0.5227 - val_acc: 0.9517\n",
            "Epoch 18/30\n",
            "51/51 [==============================] - 12s 246ms/step - loss: 8.0947e-04 - acc: 0.9998 - val_loss: 0.5352 - val_acc: 0.9503\n",
            "Epoch 19/30\n",
            "51/51 [==============================] - 11s 225ms/step - loss: 3.2743e-06 - acc: 1.0000 - val_loss: 0.5882 - val_acc: 0.9517\n",
            "Epoch 20/30\n",
            "51/51 [==============================] - 13s 266ms/step - loss: 1.0292e-06 - acc: 1.0000 - val_loss: 0.6272 - val_acc: 0.9475\n",
            "Epoch 21/30\n",
            "51/51 [==============================] - 12s 240ms/step - loss: 5.0910e-07 - acc: 1.0000 - val_loss: 0.6995 - val_acc: 0.9475\n",
            "Epoch 22/30\n",
            "51/51 [==============================] - 11s 225ms/step - loss: 3.5527e-04 - acc: 0.9998 - val_loss: 0.6853 - val_acc: 0.9448\n",
            "Epoch 23/30\n",
            "51/51 [==============================] - 11s 224ms/step - loss: 1.3411e-08 - acc: 1.0000 - val_loss: 0.6889 - val_acc: 0.9517\n",
            "Epoch 24/30\n",
            "51/51 [==============================] - 11s 225ms/step - loss: 2.5378e-08 - acc: 1.0000 - val_loss: 0.7041 - val_acc: 0.9530\n",
            "Epoch 25/30\n",
            "51/51 [==============================] - 11s 225ms/step - loss: 9.2788e-09 - acc: 1.0000 - val_loss: 0.7890 - val_acc: 0.9517\n",
            "Epoch 26/30\n",
            "51/51 [==============================] - 11s 225ms/step - loss: 0.0276 - acc: 0.9972 - val_loss: 0.7093 - val_acc: 0.9434\n",
            "Epoch 27/30\n",
            "51/51 [==============================] - 13s 250ms/step - loss: 7.2098e-08 - acc: 1.0000 - val_loss: 0.7055 - val_acc: 0.9461\n",
            "Epoch 28/30\n",
            "51/51 [==============================] - 11s 225ms/step - loss: 4.0641e-08 - acc: 1.0000 - val_loss: 0.7047 - val_acc: 0.9475\n",
            "Epoch 29/30\n",
            "51/51 [==============================] - 12s 232ms/step - loss: 2.4319e-08 - acc: 1.0000 - val_loss: 0.7077 - val_acc: 0.9475\n",
            "Epoch 30/30\n",
            "51/51 [==============================] - 13s 246ms/step - loss: 1.1123e-08 - acc: 1.0000 - val_loss: 0.7109 - val_acc: 0.9503\n",
            "97/97 [==============================] - 3s 22ms/step\n",
            "Accuracy: 0.9532408900354724\n",
            "Precision: 0.9512820512820512\n",
            "Recall: 0.9555698647778493\n",
            "F1_score: 0.9534211371667203\n",
            "\n"
          ]
        }
      ]
    },
    {
      "cell_type": "code",
      "source": [
        "# 6\n",
        "# To load performances list\n",
        "performances = []\n",
        "with open('/content/drive/MyDrive/Colab Notebooks/performances.pickle', 'rb') as f:\n",
        "  performances = pickle.load(f)\n",
        "\n",
        "print(performances)"
      ],
      "metadata": {
        "colab": {
          "base_uri": "https://localhost:8080/"
        },
        "id": "Z8BvETzhffH4",
        "outputId": "b7a1f6bd-59a9-4150-9418-846fa11f6584"
      },
      "execution_count": null,
      "outputs": [
        {
          "output_type": "stream",
          "name": "stdout",
          "text": [
            "[['Augmentation Bert ', 0.7381489841986456, 0.831304347826087, 0.6073697585768743, 0.7019089574155652], [' Bert Model ', 0.6870068385060495, 0.8789808917197452, 0.43487394957983194, 0.5818692902319044], ['Augmentation LSTM Fast txt with 128', 0.945501451144792, 0.936064556176288, 0.9580686149936467, 0.9469387755102041], [' Augmented LSTM', 0.9496936472105773, 0.9420199501246883, 0.9599745870393901, 0.9509125235997483]]\n"
          ]
        }
      ]
    },
    {
      "cell_type": "code",
      "source": [
        "import matplotlib.pyplot as plt\n",
        "\n",
        "# summarize history for accuracy\n",
        "plt.plot(history.history['acc'])\n",
        "plt.plot(history.history['val_acc'])\n",
        "plt.title('model accuracy')\n",
        "plt.ylabel('accuracy')\n",
        "plt.xlabel('epoch')\n",
        "plt.legend(['Train', 'Validation'], loc='upper left')\n",
        "plt.show()\n",
        "# summarize history for loss\n",
        "plt.plot(history.history['loss'])\n",
        "plt.plot(history.history['val_loss'])\n",
        "plt.title('model loss')\n",
        "plt.ylabel('loss')\n",
        "plt.xlabel('epoch')\n",
        "plt.legend(['Train', 'Validation'], loc='upper left')\n",
        "plt.show()"
      ],
      "metadata": {
        "colab": {
          "base_uri": "https://localhost:8080/",
          "height": 573
        },
        "id": "huD0otODfpb1",
        "outputId": "feaa81e0-1f28-48b7-bbfd-2747deeebf51"
      },
      "execution_count": null,
      "outputs": [
        {
          "output_type": "display_data",
          "data": {
            "text/plain": [
              "<Figure size 432x288 with 1 Axes>"
            ],
            "image/png": "[encoded data removed]"
          },
          "metadata": {
            "needs_background": "light"
          }
        },
        {
          "output_type": "display_data",
          "data": {
            "text/plain": [
              "<Figure size 432x288 with 1 Axes>"
            ],
            "image/png": "[encoded data removed]"
          },
          "metadata": {
            "needs_background": "light"
          }
        }
      ]
    },
    {
      "cell_type": "code",
      "source": [],
      "metadata": {
        "id": "ur6xcirjaT7M"
      },
      "execution_count": null,
      "outputs": []
    },
    {
      "cell_type": "markdown",
      "source": [
        "**Augmented LSTM with Fast Text**"
      ],
      "metadata": {
        "id": "aAV6H0yy--Tv"
      }
    },
    {
      "cell_type": "code",
      "source": [
        "path_to_fastTxt_file = \"/content/drive/MyDrive/ML_Assignments/wiki-news-300d-1M.vec\"\n",
        "\n",
        "embeddings_index = {}\n",
        "with open(path_to_glove_file) as f:\n",
        "    for line in f:\n",
        "        word, coefs = line.split(maxsplit=1)\n",
        "        coefs = np.fromstring(coefs, \"f\", sep=\" \")\n",
        "        embeddings_index[word] = coefs\n",
        "\n",
        "print(f\"Found {len(embeddings_index)} word vectors.\")\n",
        "\n"
      ],
      "metadata": {
        "colab": {
          "base_uri": "https://localhost:8080/"
        },
        "id": "z3uZ99rvcjZm",
        "outputId": "11e90e03-cdaa-4c83-d997-2329979f9ccb"
      },
      "execution_count": null,
      "outputs": [
        {
          "output_type": "stream",
          "name": "stdout",
          "text": [
            "Found 999995 word vectors.\n"
          ]
        }
      ]
    },
    {
      "cell_type": "code",
      "source": [
        "\n",
        "embedding_dim = 300\n",
        "word_index = dict(zip(vocabulary, range(len(vocabulary))))\n",
        "\n",
        "embedding_matrix = np.zeros((max_features, embedding_dim))\n",
        "for word, i in word_index.items():\n",
        "    if i < max_features:\n",
        "        embedding_vector = embeddings_index.get(word)\n",
        "    if embedding_vector is not None:\n",
        "        embedding_matrix[i] = embedding_vector"
      ],
      "metadata": {
        "id": "d0IPmvHkdBpA"
      },
      "execution_count": null,
      "outputs": []
    },
    {
      "cell_type": "code",
      "source": [
        "Aug_LSTM_fastTxt_model = Sequential()\n",
        "Aug_LSTM_fastTxt_model.add(Embedding(max_features, embedding_dim, input_length=maxlen))\n",
        "Aug_LSTM_fastTxt_model.add(layers.Bidirectional(LSTM(32)))\n",
        "Aug_LSTM_fastTxt_model.add(Dense(128, activation='relu'))\n",
        "Aug_LSTM_fastTxt_model.add(Dense(64, activation='relu'))\n",
        "Aug_LSTM_fastTxt_model.add(Dense(32, activation='relu'))\n",
        "Aug_LSTM_fastTxt_model.add(Dense(1, activation='sigmoid'))\n",
        "\n",
        "Aug_LSTM_fastTxt_model.compile(optimizer='rmsprop', loss='binary_crossentropy', metrics=['acc'])\n",
        "history = Aug_LSTM_fastTxt_model.fit(X_train, y_train,\n",
        "                    epochs=30,\n",
        "                    batch_size=128,\n",
        "                    validation_split=0.1)\n",
        "\n",
        "from sklearn.metrics import accuracy_score, precision_score, recall_score, f1_score\n",
        "predictions = Aug_LSTM_fastTxt_model.predict(X_test)\n",
        "predictions = [round(prediction[0]) for prediction in predictions]\n",
        "\n",
        "accuracy = accuracy_score(y_test, predictions)\n",
        "precision = precision_score(y_test, predictions)\n",
        "recall = recall_score(y_test, predictions)\n",
        "f1 = f1_score(y_test, predictions)\n",
        "\n",
        "print(f\"Accuracy: {accuracy}\\nPrecision: {precision}\\nRecall: {recall}\\nF1_score: {f1}\\n\")\n",
        "\n",
        "model_name = \"Augmentation LSTM Fast txt with 128\"\n",
        "\n",
        "performances.append([model_name, accuracy, precision, recall, f1])\n",
        "\n",
        "with open('/content/drive/MyDrive/Colab Notebooks/performances.pickle', 'wb') as f:\n",
        "  pickle.dump(performances, f)\n"
      ],
      "metadata": {
        "colab": {
          "base_uri": "https://localhost:8080/"
        },
        "id": "K4cw6qjJdI8H",
        "outputId": "629b1d44-90af-4024-8782-cdeaa2f1b1d4"
      },
      "execution_count": null,
      "outputs": [
        {
          "output_type": "stream",
          "name": "stdout",
          "text": [
            "Epoch 1/30\n",
            "51/51 [==============================] - 14s 137ms/step - loss: 0.6014 - acc: 0.6831 - val_loss: 0.3749 - val_acc: 0.8564\n",
            "Epoch 2/30\n",
            "51/51 [==============================] - 3s 60ms/step - loss: 0.2551 - acc: 0.8978 - val_loss: 0.2040 - val_acc: 0.9296\n",
            "Epoch 3/30\n",
            "51/51 [==============================] - 3s 68ms/step - loss: 0.1522 - acc: 0.9450 - val_loss: 0.1695 - val_acc: 0.9365\n",
            "Epoch 4/30\n",
            "51/51 [==============================] - 2s 39ms/step - loss: 0.0980 - acc: 0.9668 - val_loss: 0.1842 - val_acc: 0.9392\n",
            "Epoch 5/30\n",
            "51/51 [==============================] - 2s 49ms/step - loss: 0.0669 - acc: 0.9767 - val_loss: 0.1400 - val_acc: 0.9517\n",
            "Epoch 6/30\n",
            "51/51 [==============================] - 2s 31ms/step - loss: 0.0427 - acc: 0.9859 - val_loss: 0.1339 - val_acc: 0.9475\n",
            "Epoch 7/30\n",
            "51/51 [==============================] - 1s 27ms/step - loss: 0.0209 - acc: 0.9931 - val_loss: 0.1496 - val_acc: 0.9544\n",
            "Epoch 8/30\n",
            "51/51 [==============================] - 2s 31ms/step - loss: 0.0136 - acc: 0.9960 - val_loss: 0.1939 - val_acc: 0.9448\n",
            "Epoch 9/30\n",
            "51/51 [==============================] - 1s 25ms/step - loss: 0.0086 - acc: 0.9983 - val_loss: 0.1797 - val_acc: 0.9503\n",
            "Epoch 10/30\n",
            "51/51 [==============================] - 2s 31ms/step - loss: 0.0093 - acc: 0.9978 - val_loss: 0.1852 - val_acc: 0.9586\n",
            "Epoch 11/30\n",
            "51/51 [==============================] - 1s 21ms/step - loss: 0.0056 - acc: 0.9983 - val_loss: 0.1725 - val_acc: 0.9572\n",
            "Epoch 12/30\n",
            "51/51 [==============================] - 1s 22ms/step - loss: 0.0103 - acc: 0.9971 - val_loss: 0.1723 - val_acc: 0.9641\n",
            "Epoch 13/30\n",
            "51/51 [==============================] - 1s 18ms/step - loss: 0.0043 - acc: 0.9985 - val_loss: 0.1897 - val_acc: 0.9641\n",
            "Epoch 14/30\n",
            "51/51 [==============================] - 1s 22ms/step - loss: 0.0047 - acc: 0.9983 - val_loss: 0.2151 - val_acc: 0.9544\n",
            "Epoch 15/30\n",
            "51/51 [==============================] - 1s 21ms/step - loss: 0.0026 - acc: 0.9986 - val_loss: 0.2224 - val_acc: 0.9613\n",
            "Epoch 16/30\n",
            "51/51 [==============================] - 1s 18ms/step - loss: 0.0018 - acc: 0.9991 - val_loss: 0.2238 - val_acc: 0.9641\n",
            "Epoch 17/30\n",
            "51/51 [==============================] - 1s 19ms/step - loss: 4.9712e-04 - acc: 0.9998 - val_loss: 0.2505 - val_acc: 0.9586\n",
            "Epoch 18/30\n",
            "51/51 [==============================] - 1s 18ms/step - loss: 0.0035 - acc: 0.9989 - val_loss: 0.2475 - val_acc: 0.9599\n",
            "Epoch 19/30\n",
            "51/51 [==============================] - 1s 24ms/step - loss: 6.3753e-05 - acc: 1.0000 - val_loss: 0.2518 - val_acc: 0.9627\n",
            "Epoch 20/30\n",
            "51/51 [==============================] - 2s 35ms/step - loss: 4.9296e-05 - acc: 1.0000 - val_loss: 0.3380 - val_acc: 0.9475\n",
            "Epoch 21/30\n",
            "51/51 [==============================] - 1s 15ms/step - loss: 0.0014 - acc: 0.9995 - val_loss: 0.2762 - val_acc: 0.9627\n",
            "Epoch 22/30\n",
            "51/51 [==============================] - 1s 18ms/step - loss: 5.3586e-04 - acc: 0.9997 - val_loss: 0.2872 - val_acc: 0.9558\n",
            "Epoch 23/30\n",
            "51/51 [==============================] - 1s 19ms/step - loss: 0.0152 - acc: 0.9972 - val_loss: 0.2639 - val_acc: 0.9613\n",
            "Epoch 24/30\n",
            "51/51 [==============================] - 1s 22ms/step - loss: 3.2026e-05 - acc: 1.0000 - val_loss: 0.2763 - val_acc: 0.9586\n",
            "Epoch 25/30\n",
            "51/51 [==============================] - 1s 18ms/step - loss: 0.0028 - acc: 0.9989 - val_loss: 0.2990 - val_acc: 0.9544\n",
            "Epoch 26/30\n",
            "51/51 [==============================] - 1s 19ms/step - loss: 3.3638e-04 - acc: 0.9998 - val_loss: 0.2909 - val_acc: 0.9599\n",
            "Epoch 27/30\n",
            "51/51 [==============================] - 1s 15ms/step - loss: 1.5871e-05 - acc: 1.0000 - val_loss: 0.2956 - val_acc: 0.9627\n",
            "Epoch 28/30\n",
            "51/51 [==============================] - 1s 19ms/step - loss: 1.1067e-05 - acc: 1.0000 - val_loss: 0.3138 - val_acc: 0.9627\n",
            "Epoch 29/30\n",
            "51/51 [==============================] - 1s 21ms/step - loss: 7.3009e-06 - acc: 1.0000 - val_loss: 0.3076 - val_acc: 0.9641\n",
            "Epoch 30/30\n",
            "51/51 [==============================] - 1s 16ms/step - loss: 4.8786e-06 - acc: 1.0000 - val_loss: 0.3110 - val_acc: 0.9641\n",
            "97/97 [==============================] - 1s 6ms/step\n",
            "Accuracy: 0.945501451144792\n",
            "Precision: 0.936064556176288\n",
            "Recall: 0.9580686149936467\n",
            "F1_score: 0.9469387755102041\n",
            "\n"
          ]
        }
      ]
    },
    {
      "cell_type": "code",
      "source": [
        "# 6\n",
        "# To load performances list\n",
        "performances = []\n",
        "with open('/content/drive/MyDrive/Colab Notebooks/performances.pickle', 'rb') as f:\n",
        "  performances = pickle.load(f)\n",
        "\n",
        "print(performances)"
      ],
      "metadata": {
        "colab": {
          "base_uri": "https://localhost:8080/"
        },
        "id": "v1nNn8SRdx1P",
        "outputId": "f702d2bd-e4ff-4761-dba0-108e2825d267"
      },
      "execution_count": null,
      "outputs": [
        {
          "output_type": "stream",
          "name": "stdout",
          "text": [
            "[['Augmentation Bert ', 0.7381489841986456, 0.831304347826087, 0.6073697585768743, 0.7019089574155652], [' Bert Model ', 0.6870068385060495, 0.8789808917197452, 0.43487394957983194, 0.5818692902319044], ['Augmentation LSTM Fast txt with 128', 0.945501451144792, 0.936064556176288, 0.9580686149936467, 0.9469387755102041]]\n"
          ]
        }
      ]
    },
    {
      "cell_type": "code",
      "source": [
        "import matplotlib.pyplot as plt\n",
        "\n",
        "# summarize history for accuracy\n",
        "plt.plot(history.history['acc'])\n",
        "plt.plot(history.history['val_acc'])\n",
        "plt.title('model accuracy')\n",
        "plt.ylabel('accuracy')\n",
        "plt.xlabel('epoch')\n",
        "plt.legend(['Train', 'Validation'], loc='upper left')\n",
        "plt.show()\n",
        "# summarize history for loss\n",
        "plt.plot(history.history['loss'])\n",
        "plt.plot(history.history['val_loss'])\n",
        "plt.title('model loss')\n",
        "plt.ylabel('loss')\n",
        "plt.xlabel('epoch')\n",
        "plt.legend(['Train', 'Validation'], loc='upper left')\n",
        "plt.show()"
      ],
      "metadata": {
        "colab": {
          "base_uri": "https://localhost:8080/",
          "height": 573
        },
        "id": "MsAGcd_WeVSp",
        "outputId": "9d730b0a-8268-44eb-f743-357033025230"
      },
      "execution_count": null,
      "outputs": [
        {
          "output_type": "display_data",
          "data": {
            "text/plain": [
              "<Figure size 432x288 with 1 Axes>"
            ],
            "image/png": "[encoded data removed]"
          },
          "metadata": {
            "needs_background": "light"
          }
        },
        {
          "output_type": "display_data",
          "data": {
            "text/plain": [
              "<Figure size 432x288 with 1 Axes>"
            ],
            "image/png": "[encoded data removed]"
          },
          "metadata": {
            "needs_background": "light"
          }
        }
      ]
    },
    {
      "cell_type": "code",
      "source": [],
      "metadata": {
        "id": "Y3OleFDodJwk"
      },
      "execution_count": null,
      "outputs": []
    },
    {
      "cell_type": "markdown",
      "source": [
        "**Augmentation  with LSTM_glove**"
      ],
      "metadata": {
        "id": "Yi3icZDCbTh7"
      }
    },
    {
      "cell_type": "code",
      "execution_count": null,
      "metadata": {
        "id": "ZDcj12z1Xt_2",
        "colab": {
          "base_uri": "https://localhost:8080/"
        },
        "outputId": "a3965083-fbdb-4dd7-f4c8-f8158a126c7a"
      },
      "outputs": [
        {
          "output_type": "stream",
          "name": "stdout",
          "text": [
            "Found 400000 word vectors.\n"
          ]
        }
      ],
      "source": [
        "path_to_glove_file = \"/content/drive/MyDrive/ML_Assignments/glove.6B.100d.txt\"\n",
        "\n",
        "embeddings_index = {}\n",
        "with open(path_to_glove_file) as f:\n",
        "    for line in f:\n",
        "        word, coefs = line.split(maxsplit=1)\n",
        "        coefs = np.fromstring(coefs, \"f\", sep=\" \")\n",
        "        embeddings_index[word] = coefs\n",
        "\n",
        "print(f\"Found {len(embeddings_index)} word vectors.\")\n",
        "\n"
      ]
    },
    {
      "cell_type": "code",
      "source": [
        "\n",
        "embedding_dim = 100\n",
        "word_index = dict(zip(vocabulary, range(len(vocabulary))))\n",
        "\n",
        "embedding_matrix = np.zeros((max_features, embedding_dim))\n",
        "for word, i in word_index.items():\n",
        "    if i < max_features:\n",
        "        embedding_vector = embeddings_index.get(word)\n",
        "    if embedding_vector is not None:\n",
        "        embedding_matrix[i] = embedding_vector"
      ],
      "metadata": {
        "id": "v57gn70UXwZy"
      },
      "execution_count": null,
      "outputs": []
    },
    {
      "cell_type": "code",
      "source": [
        "from keras.layers import Dense, LSTM, Embedding\n",
        "import keras\n",
        "embedding_layer = layers.Embedding(\n",
        "    max_features,\n",
        "    embedding_dim,\n",
        "    embeddings_initializer = keras.initializers.Constant(embedding_matrix),\n",
        "    trainable=False,\n",
        "    mask_zero=True,\n",
        ")"
      ],
      "metadata": {
        "id": "JM7K_e-DYGHF"
      },
      "execution_count": null,
      "outputs": []
    },
    {
      "cell_type": "code",
      "source": [
        "Aug_LSTM_glove_model = Sequential()\n",
        "Aug_LSTM_glove_model.add(Embedding(max_features, embedding_dim, input_length=maxlen))\n",
        "Aug_LSTM_glove_model.add(layers.Bidirectional(LSTM(32)))\n",
        "Aug_LSTM_glove_model.add(Dense(128, activation='relu'))\n",
        "Aug_LSTM_glove_model.add(Dense(64, activation='relu'))\n",
        "Aug_LSTM_glove_model.add(Dense(32, activation='relu'))\n",
        "Aug_LSTM_glove_model.add(Dense(1, activation='sigmoid'))\n",
        "\n",
        "Aug_LSTM_glove_model.compile(optimizer='rmsprop', loss='binary_crossentropy', metrics=['acc'])\n",
        "history = Aug_LSTM_glove_model.fit(X_train, y_train,\n",
        "                    epochs=30,\n",
        "                    batch_size=128,\n",
        "                    validation_split=0.1)\n",
        "\n",
        "Aug_LSTM_glove_model.save_weights(\"/content/drive/MyDrive/Colab Notebooks/aug_model.hdf5\")\n",
        "from sklearn.metrics import accuracy_score, precision_score, recall_score, f1_score\n",
        "predictions = Aug_LSTM_glove_model.predict(X_test)\n",
        "predictions = [round(prediction[0]) for prediction in predictions]\n",
        "\n",
        "accuracy = accuracy_score(y_test, predictions)\n",
        "precision = precision_score(y_test, predictions)\n",
        "recall = recall_score(y_test, predictions)\n",
        "f1 = f1_score(y_test, predictions)\n",
        "\n",
        "print(f\"Accuracy: {accuracy}\\nPrecision: {precision}\\nRecall: {recall}\\nF1_score: {f1}\\n\")\n",
        "\n",
        "model_name = \"Augmentation LSTM Glove with 128\"\n",
        "\n",
        "performances.append([model_name, accuracy, precision, recall, f1])\n",
        "\n",
        "with open('/content/drive/MyDrive/Colab Notebooks/performances.pickle', 'wb') as f:\n",
        "  pickle.dump(performances, f)\n"
      ],
      "metadata": {
        "id": "nSyX8W7pglvy",
        "colab": {
          "base_uri": "https://localhost:8080/"
        },
        "outputId": "32de338b-2367-4e72-b717-1ca28951f736"
      },
      "execution_count": null,
      "outputs": [
        {
          "output_type": "stream",
          "name": "stdout",
          "text": [
            "Epoch 1/30\n",
            "51/51 [==============================] - 17s 240ms/step - loss: 0.4075 - acc: 0.8184 - val_loss: 0.2378 - val_acc: 0.9144\n",
            "Epoch 2/30\n",
            "51/51 [==============================] - 11s 220ms/step - loss: 0.1740 - acc: 0.9375 - val_loss: 0.2020 - val_acc: 0.9213\n",
            "Epoch 3/30\n",
            "51/51 [==============================] - 11s 220ms/step - loss: 0.1250 - acc: 0.9575 - val_loss: 0.2276 - val_acc: 0.9102\n",
            "Epoch 4/30\n",
            "51/51 [==============================] - 11s 221ms/step - loss: 0.0888 - acc: 0.9696 - val_loss: 0.1695 - val_acc: 0.9392\n",
            "Epoch 5/30\n",
            "51/51 [==============================] - 11s 217ms/step - loss: 0.0588 - acc: 0.9800 - val_loss: 0.1675 - val_acc: 0.9489\n",
            "Epoch 6/30\n",
            "51/51 [==============================] - 11s 221ms/step - loss: 0.0376 - acc: 0.9860 - val_loss: 0.1804 - val_acc: 0.9448\n",
            "Epoch 7/30\n",
            "51/51 [==============================] - 11s 220ms/step - loss: 0.0234 - acc: 0.9923 - val_loss: 0.2361 - val_acc: 0.9448\n",
            "Epoch 8/30\n",
            "51/51 [==============================] - 11s 220ms/step - loss: 0.0134 - acc: 0.9960 - val_loss: 0.2107 - val_acc: 0.9517\n",
            "Epoch 9/30\n",
            "51/51 [==============================] - 11s 220ms/step - loss: 0.0105 - acc: 0.9968 - val_loss: 0.2559 - val_acc: 0.9530\n",
            "Epoch 10/30\n",
            "51/51 [==============================] - 11s 220ms/step - loss: 0.0070 - acc: 0.9974 - val_loss: 0.2650 - val_acc: 0.9558\n",
            "Epoch 11/30\n",
            "51/51 [==============================] - 11s 220ms/step - loss: 0.0073 - acc: 0.9968 - val_loss: 0.2804 - val_acc: 0.9517\n",
            "Epoch 12/30\n",
            "51/51 [==============================] - 11s 224ms/step - loss: 8.6461e-04 - acc: 0.9997 - val_loss: 0.3737 - val_acc: 0.9544\n",
            "Epoch 13/30\n",
            "51/51 [==============================] - 11s 219ms/step - loss: 0.0012 - acc: 0.9995 - val_loss: 0.4820 - val_acc: 0.9323\n",
            "Epoch 14/30\n",
            "51/51 [==============================] - 11s 220ms/step - loss: 0.0085 - acc: 0.9972 - val_loss: 0.4442 - val_acc: 0.9544\n",
            "Epoch 15/30\n",
            "51/51 [==============================] - 14s 275ms/step - loss: 6.4093e-04 - acc: 0.9997 - val_loss: 0.4494 - val_acc: 0.9503\n",
            "Epoch 16/30\n",
            "51/51 [==============================] - 11s 221ms/step - loss: 6.4321e-04 - acc: 0.9997 - val_loss: 0.4822 - val_acc: 0.9489\n",
            "Epoch 17/30\n",
            "51/51 [==============================] - 11s 220ms/step - loss: 0.0160 - acc: 0.9977 - val_loss: 0.4718 - val_acc: 0.9503\n",
            "Epoch 18/30\n",
            "51/51 [==============================] - 11s 218ms/step - loss: 7.7224e-04 - acc: 0.9998 - val_loss: 0.4649 - val_acc: 0.9503\n",
            "Epoch 19/30\n",
            "51/51 [==============================] - 11s 221ms/step - loss: 6.6931e-04 - acc: 0.9997 - val_loss: 0.4768 - val_acc: 0.9517\n",
            "Epoch 20/30\n",
            "51/51 [==============================] - 11s 220ms/step - loss: 9.5304e-06 - acc: 1.0000 - val_loss: 0.5457 - val_acc: 0.9517\n",
            "Epoch 21/30\n",
            "51/51 [==============================] - 11s 219ms/step - loss: 3.9726e-05 - acc: 1.0000 - val_loss: 0.6191 - val_acc: 0.9517\n",
            "Epoch 22/30\n",
            "51/51 [==============================] - 11s 219ms/step - loss: 9.7335e-04 - acc: 0.9998 - val_loss: 0.6123 - val_acc: 0.9475\n",
            "Epoch 23/30\n",
            "51/51 [==============================] - 11s 219ms/step - loss: 7.8405e-06 - acc: 1.0000 - val_loss: 0.6600 - val_acc: 0.9503\n",
            "Epoch 24/30\n",
            "51/51 [==============================] - 11s 220ms/step - loss: 4.1807e-07 - acc: 1.0000 - val_loss: 0.6837 - val_acc: 0.9489\n",
            "Epoch 25/30\n",
            "51/51 [==============================] - 11s 220ms/step - loss: 1.9793e-07 - acc: 1.0000 - val_loss: 1.1350 - val_acc: 0.9365\n",
            "Epoch 26/30\n",
            "51/51 [==============================] - 12s 227ms/step - loss: 0.0115 - acc: 0.9986 - val_loss: 0.6705 - val_acc: 0.9503\n",
            "Epoch 27/30\n",
            "51/51 [==============================] - 11s 220ms/step - loss: 3.1718e-07 - acc: 1.0000 - val_loss: 0.6708 - val_acc: 0.9503\n",
            "Epoch 28/30\n",
            "51/51 [==============================] - 12s 229ms/step - loss: 1.6826e-07 - acc: 1.0000 - val_loss: 0.6733 - val_acc: 0.9503\n",
            "Epoch 29/30\n",
            "51/51 [==============================] - 11s 222ms/step - loss: 4.8859e-08 - acc: 1.0000 - val_loss: 0.7049 - val_acc: 0.9489\n",
            "Epoch 30/30\n",
            "51/51 [==============================] - 11s 221ms/step - loss: 1.7904e-08 - acc: 1.0000 - val_loss: 0.7740 - val_acc: 0.9503\n",
            "97/97 [==============================] - 3s 20ms/step\n",
            "Accuracy: 0.9542083198968074\n",
            "Precision: 0.9513755598208573\n",
            "Recall: 0.9575016097875081\n",
            "F1_score: 0.9544287548138639\n",
            "\n"
          ]
        }
      ]
    },
    {
      "cell_type": "code",
      "source": [
        "# 6\n",
        "# To load performances list\n",
        "performances = []\n",
        "with open('/content/drive/MyDrive/Colab Notebooks/performances.pickle', 'rb') as f:\n",
        "  performances = pickle.load(f)\n",
        "\n",
        "print(performances)"
      ],
      "metadata": {
        "id": "iWL86YW9iCeV",
        "colab": {
          "base_uri": "https://localhost:8080/"
        },
        "outputId": "f1a06d9b-ccd4-4352-f5d8-11c056fab248"
      },
      "execution_count": null,
      "outputs": [
        {
          "output_type": "stream",
          "name": "stdout",
          "text": [
            "[['Augmentation LSTM Glove with 128', 0.9542083198968074, 0.9513755598208573, 0.9575016097875081, 0.9544287548138639]]\n"
          ]
        }
      ]
    },
    {
      "cell_type": "code",
      "source": [
        "import matplotlib.pyplot as plt\n",
        "\n",
        "# summarize history for accuracy\n",
        "plt.plot(history.history['acc'])\n",
        "plt.plot(history.history['val_acc'])\n",
        "plt.title('model accuracy')\n",
        "plt.ylabel('accuracy')\n",
        "plt.xlabel('epoch')\n",
        "plt.legend(['Train', 'Validation'], loc='upper left')\n",
        "plt.show()\n",
        "# summarize history for loss\n",
        "plt.plot(history.history['loss'])\n",
        "plt.plot(history.history['val_loss'])\n",
        "plt.title('model loss')\n",
        "plt.ylabel('loss')\n",
        "plt.xlabel('epoch')\n",
        "plt.legend(['Train', 'Validation'], loc='upper left')\n",
        "plt.show()"
      ],
      "metadata": {
        "colab": {
          "base_uri": "https://localhost:8080/",
          "height": 573
        },
        "id": "HL4nxVRamnI-",
        "outputId": "26237e85-33a3-48e5-e209-c801f0da2a82"
      },
      "execution_count": null,
      "outputs": [
        {
          "output_type": "display_data",
          "data": {
            "text/plain": [
              "<Figure size 432x288 with 1 Axes>"
            ],
            "image/png": "[encoded data removed]"
          },
          "metadata": {
            "needs_background": "light"
          }
        },
        {
          "output_type": "display_data",
          "data": {
            "text/plain": [
              "<Figure size 432x288 with 1 Axes>"
            ],
            "image/png": "[encoded data removed]"
          },
          "metadata": {
            "needs_background": "light"
          }
        }
      ]
    },
    {
      "cell_type": "code",
      "source": [],
      "metadata": {
        "id": "vS5lUheYmnpv"
      },
      "execution_count": null,
      "outputs": []
    },
    {
      "cell_type": "code",
      "source": [
        "def predict_news_status(txt, Aug_LSTM_glove_model):\n",
        "    txt = preprocess(txt) \n",
        "    txt = text_vectorization(pd.DataFrame([[txt]]))\n",
        "    prob = Aug_LSTM_glove_model.predict(txt)[0][0]\n",
        "    print(prob)\n",
        "    return 'Real' if prob >= 0.5 else 'Fake'"
      ],
      "metadata": {
        "id": "_HeHspYdXYaj"
      },
      "execution_count": null,
      "outputs": []
    },
    {
      "cell_type": "code",
      "source": [
        "news_st = '''\n",
        "\n",
        "Pushed back on the implications of his approach, the finance minister acknowledged that he agreed with the potential fallout of a breakdown in IMF talks and said that was why he was talking to the body for the country’s sake.\n",
        "\n",
        "“I know how to complete the [IMF] programme,” the finance minister maintained, stressing that the government would complete the current programme as well.\n",
        "\n",
        "Dar said that in his talks with the IMF, he told the Fund that it should strike deals keeping in mind that the government could not further burden the people. Dar said he had told the IMF that it was “behaving abnormally” in regard to dealing with Pakistan.\n",
        "\n",
        "“I have never taken dictation and never will from these institutions, I have to look after Pakistan’s interests,” the finance minister reiterated.\n",
        "\n",
        "Regarding the general level of Pakistan’s foreign reserves and the risk of default, Dar said the government had made arrangements for all its liabilities for the fiscal year and would make all payments.\n",
        "\n",
        "He also said that the government was currently in talks with an allied country for a deposit of $3bn, adding that there was a “positive understanding” present and Pakistan would definitely receive the funds.\n",
        "\n",
        "“This is a matter of two weeks [for the amount to arrive],” he added.\n",
        "\n",
        "Dar also rebuked former finance minister Miftah Ismail for his recent comments about the country’s risk of default and said he should be questioned about his six-month performance and where he left the level of foreign reserves.\n",
        "\n",
        "“He is a nonentity for me on this subject,” Dar said.\n",
        "\n",
        "Govt struggles for $1.18bn tranche\n",
        "Amid time running out, the IMF is still analysing Pakistan’s fiscal position particularly the flood-related expenditures that it viewed had changed the macroeconomic assumptions of the fund programme.\n",
        "\n",
        "The “IMF understands that the floods have changed the macroeconomic assumptions on which the programme was designed; therefore detailed analysis is being conducted by their team using the data provided”, the Ministry of Finance had said in response to a media query on the delay in the ninth review.\n",
        "\n",
        "The two sides had been virtually engaged for more than a month now in attempts to conclude the ninth review in November so that the next tranche of about $1.18 billion could be approved by the IMF’s executive board and disbursed before Christman and new year holidays. The policy level discussions are yet to be finalised although the finance ministry had said the “IMF team is expected to visit Islamabad soon for completion of the 9th review”.\n",
        "\n",
        "Under the normal mechanism, the fund staff mission has to reach an agreement with authorities on programme implementation and then required at least a fortnight for the board members to hold a meeting based on staff agreement. A further delay would mean the unavailability of the IMF executive board until the first week of January.\n",
        "\n",
        "Pakistan’s foreign exchange reserves in the meanwhile are critically low and the central bank authorities have been rationing dollar releases even for essential imports like crude and petroleum products.\n",
        "'''"
      ],
      "metadata": {
        "id": "H-WggwrdXYak"
      },
      "execution_count": null,
      "outputs": []
    },
    {
      "cell_type": "code",
      "source": [
        "str4 = news_st\n",
        "# str1 = [str]\n",
        "predict_news_status(str4, Aug_LSTM_glove_model)"
      ],
      "metadata": {
        "id": "9N03DSYlWOie",
        "colab": {
          "base_uri": "https://localhost:8080/",
          "height": 71
        },
        "outputId": "ae740819-7a69-4cc5-9fd8-ef3ca4ccad60"
      },
      "execution_count": null,
      "outputs": [
        {
          "output_type": "stream",
          "name": "stdout",
          "text": [
            "1/1 [==============================] - 0s 25ms/step\n",
            "1.0\n"
          ]
        },
        {
          "output_type": "execute_result",
          "data": {
            "text/plain": [
              "'Real'"
            ],
            "application/vnd.google.colaboratory.intrinsic+json": {
              "type": "string"
            }
          },
          "metadata": {},
          "execution_count": 154
        }
      ]
    },
    {
      "cell_type": "markdown",
      "source": [
        "**Augmented RNN**"
      ],
      "metadata": {
        "id": "4y_l-semh7Q3"
      }
    },
    {
      "cell_type": "code",
      "execution_count": null,
      "metadata": {
        "id": "FcwwPMFNgOyc",
        "colab": {
          "base_uri": "https://localhost:8080/"
        },
        "outputId": "e5c8c521-6242-4388-ef68-a6a958d00272"
      },
      "outputs": [
        {
          "output_type": "stream",
          "name": "stdout",
          "text": [
            "Epoch 1/30\n",
            "51/51 [==============================] - 9s 100ms/step - loss: 0.5239 - acc: 0.7485 - val_loss: 0.2425 - val_acc: 0.9075\n",
            "Epoch 2/30\n",
            "51/51 [==============================] - 3s 53ms/step - loss: 0.2212 - acc: 0.9158 - val_loss: 0.1786 - val_acc: 0.9199\n",
            "Epoch 3/30\n",
            "51/51 [==============================] - 2s 38ms/step - loss: 0.1457 - acc: 0.9484 - val_loss: 0.1494 - val_acc: 0.9392\n",
            "Epoch 4/30\n",
            "51/51 [==============================] - 2s 32ms/step - loss: 0.1022 - acc: 0.9657 - val_loss: 0.1723 - val_acc: 0.9378\n",
            "Epoch 5/30\n",
            "51/51 [==============================] - 1s 26ms/step - loss: 0.0708 - acc: 0.9771 - val_loss: 0.1499 - val_acc: 0.9448\n",
            "Epoch 6/30\n",
            "51/51 [==============================] - 1s 25ms/step - loss: 0.0442 - acc: 0.9873 - val_loss: 0.1958 - val_acc: 0.9282\n",
            "Epoch 7/30\n",
            "51/51 [==============================] - 1s 21ms/step - loss: 0.0387 - acc: 0.9877 - val_loss: 0.1308 - val_acc: 0.9530\n",
            "Epoch 8/30\n",
            "51/51 [==============================] - 1s 26ms/step - loss: 0.0234 - acc: 0.9943 - val_loss: 0.1194 - val_acc: 0.9710\n",
            "Epoch 9/30\n",
            "51/51 [==============================] - 1s 18ms/step - loss: 0.0140 - acc: 0.9952 - val_loss: 0.1340 - val_acc: 0.9655\n",
            "Epoch 10/30\n",
            "51/51 [==============================] - 1s 26ms/step - loss: 0.0136 - acc: 0.9949 - val_loss: 0.1480 - val_acc: 0.9586\n",
            "Epoch 11/30\n",
            "51/51 [==============================] - 1s 23ms/step - loss: 0.0093 - acc: 0.9975 - val_loss: 0.1776 - val_acc: 0.9572\n",
            "Epoch 12/30\n",
            "51/51 [==============================] - 1s 22ms/step - loss: 0.0063 - acc: 0.9977 - val_loss: 0.2237 - val_acc: 0.9461\n",
            "Epoch 13/30\n",
            "51/51 [==============================] - 1s 24ms/step - loss: 0.0040 - acc: 0.9983 - val_loss: 0.1809 - val_acc: 0.9599\n",
            "Epoch 14/30\n",
            "51/51 [==============================] - 1s 21ms/step - loss: 0.0054 - acc: 0.9982 - val_loss: 0.1851 - val_acc: 0.9558\n",
            "Epoch 15/30\n",
            "51/51 [==============================] - 1s 18ms/step - loss: 0.0054 - acc: 0.9977 - val_loss: 0.1945 - val_acc: 0.9586\n",
            "Epoch 16/30\n",
            "51/51 [==============================] - 1s 22ms/step - loss: 0.0039 - acc: 0.9986 - val_loss: 0.2086 - val_acc: 0.9558\n",
            "Epoch 17/30\n",
            "51/51 [==============================] - 1s 21ms/step - loss: 4.0454e-04 - acc: 0.9998 - val_loss: 0.2088 - val_acc: 0.9586\n",
            "Epoch 18/30\n",
            "51/51 [==============================] - 1s 19ms/step - loss: 0.0017 - acc: 0.9995 - val_loss: 0.1913 - val_acc: 0.9613\n",
            "Epoch 19/30\n",
            "51/51 [==============================] - 1s 18ms/step - loss: 0.0025 - acc: 0.9994 - val_loss: 0.2074 - val_acc: 0.9572\n",
            "Epoch 20/30\n",
            "51/51 [==============================] - 1s 16ms/step - loss: 0.0023 - acc: 0.9992 - val_loss: 0.2634 - val_acc: 0.9558\n",
            "Epoch 21/30\n",
            "51/51 [==============================] - 1s 19ms/step - loss: 1.7667e-04 - acc: 1.0000 - val_loss: 0.2204 - val_acc: 0.9599\n",
            "Epoch 22/30\n",
            "51/51 [==============================] - 1s 17ms/step - loss: 8.4309e-04 - acc: 0.9997 - val_loss: 0.2525 - val_acc: 0.9641\n",
            "Epoch 23/30\n",
            "51/51 [==============================] - 1s 18ms/step - loss: 0.0014 - acc: 0.9994 - val_loss: 0.2290 - val_acc: 0.9627\n",
            "Epoch 24/30\n",
            "51/51 [==============================] - 1s 19ms/step - loss: 6.7004e-05 - acc: 1.0000 - val_loss: 0.2222 - val_acc: 0.9572\n",
            "Epoch 25/30\n",
            "51/51 [==============================] - 1s 18ms/step - loss: 0.0024 - acc: 0.9994 - val_loss: 0.2398 - val_acc: 0.9696\n",
            "Epoch 26/30\n",
            "51/51 [==============================] - 1s 20ms/step - loss: 1.9427e-05 - acc: 1.0000 - val_loss: 0.2337 - val_acc: 0.9682\n",
            "Epoch 27/30\n",
            "51/51 [==============================] - 1s 19ms/step - loss: 3.3127e-05 - acc: 1.0000 - val_loss: 0.2325 - val_acc: 0.9669\n",
            "Epoch 28/30\n",
            "51/51 [==============================] - 1s 17ms/step - loss: 1.0473e-05 - acc: 1.0000 - val_loss: 0.3603 - val_acc: 0.9503\n",
            "Epoch 29/30\n",
            "51/51 [==============================] - 1s 19ms/step - loss: 0.0027 - acc: 0.9994 - val_loss: 0.2649 - val_acc: 0.9558\n",
            "Epoch 30/30\n",
            "51/51 [==============================] - 1s 19ms/step - loss: 7.0130e-04 - acc: 0.9998 - val_loss: 0.3010 - val_acc: 0.9544\n",
            "97/97 [==============================] - 1s 5ms/step\n",
            "Accuracy: 0.9471138342470171\n",
            "Precision: 0.9422835633626098\n",
            "Recall: 0.9542566709021602\n",
            "F1_score: 0.9482323232323233\n",
            "\n"
          ]
        }
      ],
      "source": [
        "from keras.layers import Dense \n",
        "from keras.layers import SimpleRNN\n",
        "from keras.models import Sequential\n",
        "from keras.layers import Embedding\n",
        "from keras import layers\n",
        "\n",
        "Aug_RNN_model = Sequential()\n",
        "Aug_RNN_model.add(Embedding(max_features, maxlen))\n",
        "Aug_RNN_model.add(layers.Bidirectional(RNN(32)))\n",
        "Aug_RNN_model.add(Dense(128, activation='relu'))\n",
        "Aug_RNN_model.add(Dense(64, activation='relu'))\n",
        "Aug_RNN_model.add(Dense(32, activation='relu'))\n",
        "Aug_RNN_model.add(Dense(1, activation='sigmoid'))\n",
        "\n",
        "Aug_RNN_model.compile(optimizer='rmsprop', loss='binary_crossentropy', metrics=['acc'])\n",
        "history = Aug_RNN_model.fit(X_train, y_train,\n",
        "                    epochs=30,\n",
        "                    batch_size=128,\n",
        "                    validation_split=0.1)\n",
        "\n",
        "from sklearn.metrics import accuracy_score, precision_score, recall_score, f1_score\n",
        "predictions = Aug_RNN_model.predict(X_test)\n",
        "predictions = [round(prediction[0]) for prediction in predictions]\n",
        "\n",
        "accuracy = accuracy_score(y_test, predictions)\n",
        "precision = precision_score(y_test, predictions)\n",
        "recall = recall_score(y_test, predictions)\n",
        "f1 = f1_score(y_test, predictions)\n",
        "\n",
        "print(f\"Accuracy: {accuracy}\\nPrecision: {precision}\\nRecall: {recall}\\nF1_score: {f1}\\n\")\n",
        "\n",
        "model_name = \" Augmented RNN\"\n",
        "\n",
        "performances.append([model_name, accuracy, precision, recall, f1])\n",
        "\n",
        "with open('/content/drive/MyDrive/Colab Notebooks/performances.pickle', 'wb') as f:\n",
        "  pickle.dump(performances, f)"
      ]
    },
    {
      "cell_type": "code",
      "source": [
        "# 6\n",
        "# To load performances list\n",
        "performances = []\n",
        "with open('/content/drive/MyDrive/Colab Notebooks/performances.pickle', 'rb') as f:\n",
        "  performances = pickle.load(f)\n",
        "\n",
        "print(performances)"
      ],
      "metadata": {
        "id": "X5c8vwtPgumP",
        "colab": {
          "base_uri": "https://localhost:8080/"
        },
        "outputId": "86dc8dbf-c993-4d4d-ceb1-2867c9719f31"
      },
      "execution_count": null,
      "outputs": [
        {
          "output_type": "stream",
          "name": "stdout",
          "text": [
            "[['Augmentation Bert ', 0.7381489841986456, 0.831304347826087, 0.6073697585768743, 0.7019089574155652], [' Bert Model ', 0.6870068385060495, 0.8789808917197452, 0.43487394957983194, 0.5818692902319044], ['Augmentation LSTM Fast txt with 128', 0.945501451144792, 0.936064556176288, 0.9580686149936467, 0.9469387755102041], [' Augmented LSTM', 0.9496936472105773, 0.9420199501246883, 0.9599745870393901, 0.9509125235997483], [' Augmented RNN', 0.9471138342470171, 0.9422835633626098, 0.9542566709021602, 0.9482323232323233]]\n"
          ]
        }
      ]
    },
    {
      "cell_type": "code",
      "source": [
        "import matplotlib.pyplot as plt\n",
        "\n",
        "# summarize history for accuracy\n",
        "plt.plot(history.history['acc'])\n",
        "plt.plot(history.history['val_acc'])\n",
        "plt.title('model accuracy')\n",
        "plt.ylabel('accuracy')\n",
        "plt.xlabel('epoch')\n",
        "plt.legend(['Train', 'Validation'], loc='upper left')\n",
        "plt.show()\n",
        "# summarize history for loss\n",
        "plt.plot(history.history['loss'])\n",
        "plt.plot(history.history['val_loss'])\n",
        "plt.title('model loss')\n",
        "plt.ylabel('loss')\n",
        "plt.xlabel('epoch')\n",
        "plt.legend(['Train', 'Validation'], loc='upper left')\n",
        "plt.show()"
      ],
      "metadata": {
        "id": "PCm5ggLWgvhZ",
        "colab": {
          "base_uri": "https://localhost:8080/",
          "height": 573
        },
        "outputId": "1eb6ff23-93b6-4c7e-9e30-3d5ee4ef6781"
      },
      "execution_count": null,
      "outputs": [
        {
          "output_type": "display_data",
          "data": {
            "text/plain": [
              "<Figure size 432x288 with 1 Axes>"
            ],
            "image/png": "[encoded data removed]"
          },
          "metadata": {
            "needs_background": "light"
          }
        },
        {
          "output_type": "display_data",
          "data": {
            "text/plain": [
              "<Figure size 432x288 with 1 Axes>"
            ],
            "image/png": "[encoded data removed]"
          },
          "metadata": {
            "needs_background": "light"
          }
        }
      ]
    },
    {
      "cell_type": "code",
      "source": [],
      "metadata": {
        "id": "TAGBJbQCg1ql"
      },
      "execution_count": null,
      "outputs": []
    },
    {
      "cell_type": "markdown",
      "source": [
        "**Augmented RNN With Fast Text**"
      ],
      "metadata": {
        "id": "hU0Cemyh_VeL"
      }
    },
    {
      "cell_type": "code",
      "source": [
        "path_to_fastTxt_file = \"/content/drive/MyDrive/ML_Assignments/wiki-news-300d-1M.vec\"\n",
        "\n",
        "embeddings_index = {}\n",
        "with open(path_to_glove_file) as f:\n",
        "    for line in f:\n",
        "        word, coefs = line.split(maxsplit=1)\n",
        "        coefs = np.fromstring(coefs, \"f\", sep=\" \")\n",
        "        embeddings_index[word] = coefs\n",
        "\n",
        "print(f\"Found {len(embeddings_index)} word vectors.\")\n",
        "\n"
      ],
      "metadata": {
        "id": "1ZWSI_r8g2Dx",
        "colab": {
          "base_uri": "https://localhost:8080/"
        },
        "outputId": "eea0f7f4-50a7-4532-a50d-acc908b5c1f2"
      },
      "execution_count": null,
      "outputs": [
        {
          "output_type": "stream",
          "name": "stdout",
          "text": [
            "Found 999995 word vectors.\n"
          ]
        }
      ]
    },
    {
      "cell_type": "code",
      "source": [
        "\n",
        "embedding_dim = 300\n",
        "word_index = dict(zip(vocabulary, range(len(vocabulary))))\n",
        "\n",
        "embedding_matrix = np.zeros((max_features, embedding_dim))\n",
        "for word, i in word_index.items():\n",
        "    if i < max_features:\n",
        "        embedding_vector = embeddings_index.get(word)\n",
        "    if embedding_vector is not None:\n",
        "        embedding_matrix[i] = embedding_vector"
      ],
      "metadata": {
        "id": "z9_iJb15g2-w"
      },
      "execution_count": null,
      "outputs": []
    },
    {
      "cell_type": "code",
      "source": [
        "Aug_RNN_fastTxt_model = Sequential()\n",
        "Aug_RNN_fastTxt_model.add(Embedding(max_features, embedding_dim, input_length=maxlen))\n",
        "Aug_RNN_fastTxt_model.add(layers.Bidirectional(SimpleRNN(32)))\n",
        "Aug_RNN_fastTxt_model.add(Dense(128, activation='relu'))\n",
        "Aug_RNN_fastTxt_model.add(Dense(64, activation='relu'))\n",
        "Aug_RNN_fastTxt_model.add(Dense(32, activation='relu'))\n",
        "Aug_RNN_fastTxt_model.add(Dense(1, activation='sigmoid'))\n",
        "\n",
        "Aug_RNN_fastTxt_model.compile(optimizer='rmsprop', loss='binary_crossentropy', metrics=['acc'])\n",
        "history = Aug_RNN_fastTxt_model.fit(X_train, y_train,\n",
        "                    epochs=30,\n",
        "                    batch_size=128,\n",
        "                    validation_split=0.1)\n",
        "\n",
        "from sklearn.metrics import accuracy_score, precision_score, recall_score, f1_score\n",
        "predictions = Aug_RNN_fastTxt_model.predict(X_test)\n",
        "predictions = [round(prediction[0]) for prediction in predictions]\n",
        "\n",
        "accuracy = accuracy_score(y_test, predictions)\n",
        "precision = precision_score(y_test, predictions)\n",
        "recall = recall_score(y_test, predictions)\n",
        "f1 = f1_score(y_test, predictions)\n",
        "\n",
        "print(f\"Accuracy: {accuracy}\\nPrecision: {precision}\\nRecall: {recall}\\nF1_score: {f1}\\n\")\n",
        "\n",
        "model_name = \"Augmentation RNN Fast txt with 128\"\n",
        "\n",
        "performances.append([model_name, accuracy, precision, recall, f1])\n",
        "\n",
        "with open('/content/drive/MyDrive/Colab Notebooks/performances.pickle', 'wb') as f:\n",
        "  pickle.dump(performances, f)\n"
      ],
      "metadata": {
        "id": "FbZAmQ6Jg6uM",
        "colab": {
          "base_uri": "https://localhost:8080/"
        },
        "outputId": "5a2ccbd8-dae1-4cc0-c358-6a7074e40780"
      },
      "execution_count": null,
      "outputs": [
        {
          "output_type": "stream",
          "name": "stdout",
          "text": [
            "Epoch 1/30\n",
            "51/51 [==============================] - 9s 101ms/step - loss: 0.5320 - acc: 0.7347 - val_loss: 0.2638 - val_acc: 0.8964\n",
            "Epoch 2/30\n",
            "51/51 [==============================] - 3s 59ms/step - loss: 0.2373 - acc: 0.9101 - val_loss: 0.1850 - val_acc: 0.9254\n",
            "Epoch 3/30\n",
            "51/51 [==============================] - 2s 44ms/step - loss: 0.1399 - acc: 0.9485 - val_loss: 0.1718 - val_acc: 0.9323\n",
            "Epoch 4/30\n",
            "51/51 [==============================] - 1s 24ms/step - loss: 0.1066 - acc: 0.9618 - val_loss: 0.1825 - val_acc: 0.9365\n",
            "Epoch 5/30\n",
            "51/51 [==============================] - 1s 21ms/step - loss: 0.0698 - acc: 0.9751 - val_loss: 0.1508 - val_acc: 0.9448\n",
            "Epoch 6/30\n",
            "51/51 [==============================] - 1s 27ms/step - loss: 0.0471 - acc: 0.9826 - val_loss: 0.1432 - val_acc: 0.9475\n",
            "Epoch 7/30\n",
            "51/51 [==============================] - 1s 23ms/step - loss: 0.0288 - acc: 0.9914 - val_loss: 0.1671 - val_acc: 0.9461\n",
            "Epoch 8/30\n",
            "51/51 [==============================] - 1s 25ms/step - loss: 0.0173 - acc: 0.9948 - val_loss: 0.1661 - val_acc: 0.9572\n",
            "Epoch 9/30\n",
            "51/51 [==============================] - 1s 18ms/step - loss: 0.0118 - acc: 0.9955 - val_loss: 0.1639 - val_acc: 0.9586\n",
            "Epoch 10/30\n",
            "51/51 [==============================] - 1s 22ms/step - loss: 0.0054 - acc: 0.9980 - val_loss: 0.2591 - val_acc: 0.9475\n",
            "Epoch 11/30\n",
            "51/51 [==============================] - 1s 22ms/step - loss: 0.0084 - acc: 0.9972 - val_loss: 0.2438 - val_acc: 0.9489\n",
            "Epoch 12/30\n",
            "51/51 [==============================] - 1s 24ms/step - loss: 0.0061 - acc: 0.9985 - val_loss: 0.2391 - val_acc: 0.9461\n",
            "Epoch 13/30\n",
            "51/51 [==============================] - 1s 18ms/step - loss: 0.0067 - acc: 0.9983 - val_loss: 0.2567 - val_acc: 0.9517\n",
            "Epoch 14/30\n",
            "51/51 [==============================] - 1s 16ms/step - loss: 0.0022 - acc: 0.9992 - val_loss: 0.2451 - val_acc: 0.9572\n",
            "Epoch 15/30\n",
            "51/51 [==============================] - 1s 24ms/step - loss: 0.0049 - acc: 0.9986 - val_loss: 0.2603 - val_acc: 0.9530\n",
            "Epoch 16/30\n",
            "51/51 [==============================] - 1s 17ms/step - loss: 3.3630e-04 - acc: 1.0000 - val_loss: 0.2939 - val_acc: 0.9517\n",
            "Epoch 17/30\n",
            "51/51 [==============================] - 1s 17ms/step - loss: 0.0046 - acc: 0.9985 - val_loss: 0.2771 - val_acc: 0.9503\n",
            "Epoch 18/30\n",
            "51/51 [==============================] - 1s 15ms/step - loss: 0.0058 - acc: 0.9977 - val_loss: 0.2710 - val_acc: 0.9544\n",
            "Epoch 19/30\n",
            "51/51 [==============================] - 1s 19ms/step - loss: 7.6347e-04 - acc: 0.9998 - val_loss: 0.2946 - val_acc: 0.9544\n",
            "Epoch 20/30\n",
            "51/51 [==============================] - 1s 17ms/step - loss: 5.5436e-05 - acc: 1.0000 - val_loss: 0.2952 - val_acc: 0.9613\n",
            "Epoch 21/30\n",
            "51/51 [==============================] - 1s 21ms/step - loss: 0.0038 - acc: 0.9985 - val_loss: 0.2875 - val_acc: 0.9599\n",
            "Epoch 22/30\n",
            "51/51 [==============================] - 1s 16ms/step - loss: 5.1917e-04 - acc: 0.9997 - val_loss: 0.3144 - val_acc: 0.9572\n",
            "Epoch 23/30\n",
            "51/51 [==============================] - 1s 17ms/step - loss: 0.0043 - acc: 0.9986 - val_loss: 0.2921 - val_acc: 0.9586\n",
            "Epoch 24/30\n",
            "51/51 [==============================] - 1s 19ms/step - loss: 0.0076 - acc: 0.9988 - val_loss: 0.2592 - val_acc: 0.9586\n",
            "Epoch 25/30\n",
            "51/51 [==============================] - 1s 17ms/step - loss: 0.0033 - acc: 0.9989 - val_loss: 0.2696 - val_acc: 0.9489\n",
            "Epoch 26/30\n",
            "51/51 [==============================] - 1s 19ms/step - loss: 1.6354e-04 - acc: 1.0000 - val_loss: 0.2736 - val_acc: 0.9530\n",
            "Epoch 27/30\n",
            "51/51 [==============================] - 1s 20ms/step - loss: 2.8191e-05 - acc: 1.0000 - val_loss: 0.2916 - val_acc: 0.9544\n",
            "Epoch 28/30\n",
            "51/51 [==============================] - 1s 18ms/step - loss: 0.0011 - acc: 0.9995 - val_loss: 0.2922 - val_acc: 0.9517\n",
            "Epoch 29/30\n",
            "51/51 [==============================] - 1s 18ms/step - loss: 2.1112e-05 - acc: 1.0000 - val_loss: 0.2864 - val_acc: 0.9572\n",
            "Epoch 30/30\n",
            "51/51 [==============================] - 1s 21ms/step - loss: 1.4067e-05 - acc: 1.0000 - val_loss: 0.2929 - val_acc: 0.9558\n",
            "97/97 [==============================] - 1s 6ms/step\n",
            "Accuracy: 0.946468881006127\n",
            "Precision: 0.9351050679851669\n",
            "Recall: 0.9612452350698857\n",
            "F1_score: 0.9479949874686717\n",
            "\n"
          ]
        }
      ]
    },
    {
      "cell_type": "code",
      "source": [
        "# 6\n",
        "# To load performances list\n",
        "performances = []\n",
        "with open('/content/drive/MyDrive/Colab Notebooks/performances.pickle', 'rb') as f:\n",
        "  performances = pickle.load(f)\n",
        "\n",
        "print(performances)"
      ],
      "metadata": {
        "id": "x0aff732hJVa",
        "colab": {
          "base_uri": "https://localhost:8080/"
        },
        "outputId": "d7aa6faa-f479-4df4-d943-a3c49ae40135"
      },
      "execution_count": null,
      "outputs": [
        {
          "output_type": "stream",
          "name": "stdout",
          "text": [
            "[['Augmentation Bert ', 0.7381489841986456, 0.831304347826087, 0.6073697585768743, 0.7019089574155652], [' Bert Model ', 0.6870068385060495, 0.8789808917197452, 0.43487394957983194, 0.5818692902319044], ['Augmentation LSTM Fast txt with 128', 0.945501451144792, 0.936064556176288, 0.9580686149936467, 0.9469387755102041], [' Augmented LSTM', 0.9496936472105773, 0.9420199501246883, 0.9599745870393901, 0.9509125235997483], [' Augmented RNN', 0.9471138342470171, 0.9422835633626098, 0.9542566709021602, 0.9482323232323233], ['Augmentation RNN Fast txt with 128', 0.946468881006127, 0.9351050679851669, 0.9612452350698857, 0.9479949874686717]]\n"
          ]
        }
      ]
    },
    {
      "cell_type": "code",
      "source": [
        "import matplotlib.pyplot as plt\n",
        "\n",
        "# summarize history for accuracy\n",
        "plt.plot(history.history['acc'])\n",
        "plt.plot(history.history['val_acc'])\n",
        "plt.title('model accuracy')\n",
        "plt.ylabel('accuracy')\n",
        "plt.xlabel('epoch')\n",
        "plt.legend(['Train', 'Validation'], loc='upper left')\n",
        "plt.show()\n",
        "# summarize history for loss\n",
        "plt.plot(history.history['loss'])\n",
        "plt.plot(history.history['val_loss'])\n",
        "plt.title('model loss')\n",
        "plt.ylabel('loss')\n",
        "plt.xlabel('epoch')\n",
        "plt.legend(['Train', 'Validation'], loc='upper left')\n",
        "plt.show()"
      ],
      "metadata": {
        "id": "Zxh3VLZUhOJA",
        "colab": {
          "base_uri": "https://localhost:8080/",
          "height": 573
        },
        "outputId": "b18859ea-1cdb-42ca-9470-2492f3a2b2fc"
      },
      "execution_count": null,
      "outputs": [
        {
          "output_type": "display_data",
          "data": {
            "text/plain": [
              "<Figure size 432x288 with 1 Axes>"
            ],
            "image/png": "[encoded data removed]"
          },
          "metadata": {
            "needs_background": "light"
          }
        },
        {
          "output_type": "display_data",
          "data": {
            "text/plain": [
              "<Figure size 432x288 with 1 Axes>"
            ],
            "image/png": "[encoded data removed]"
          },
          "metadata": {
            "needs_background": "light"
          }
        }
      ]
    },
    {
      "cell_type": "code",
      "source": [],
      "metadata": {
        "id": "y7nLR5a9hUdf"
      },
      "execution_count": null,
      "outputs": []
    },
    {
      "cell_type": "markdown",
      "source": [
        "**Augmented RNN with Glove**"
      ],
      "metadata": {
        "id": "5R6hYbqQ_cJn"
      }
    },
    {
      "cell_type": "code",
      "source": [
        "path_to_glove_file = \"/content/drive/MyDrive/ML_Assignments/glove.6B.100d.txt\"\n",
        "\n",
        "embeddings_index = {}\n",
        "with open(path_to_glove_file) as f:\n",
        "    for line in f:\n",
        "        word, coefs = line.split(maxsplit=1)\n",
        "        coefs = np.fromstring(coefs, \"f\", sep=\" \")\n",
        "        embeddings_index[word] = coefs\n",
        "\n",
        "print(f\"Found {len(embeddings_index)} word vectors.\")\n",
        "\n"
      ],
      "metadata": {
        "id": "rLD3Vve5hU80",
        "colab": {
          "base_uri": "https://localhost:8080/"
        },
        "outputId": "3da706a8-5d22-4892-b9f5-8b89df5ecb3f"
      },
      "execution_count": null,
      "outputs": [
        {
          "output_type": "stream",
          "name": "stdout",
          "text": [
            "Found 400000 word vectors.\n"
          ]
        }
      ]
    },
    {
      "cell_type": "code",
      "source": [
        "\n",
        "embedding_dim = 100\n",
        "word_index = dict(zip(vocabulary, range(len(vocabulary))))\n",
        "\n",
        "embedding_matrix = np.zeros((max_features, embedding_dim))\n",
        "for word, i in word_index.items():\n",
        "    if i < max_features:\n",
        "        embedding_vector = embeddings_index.get(word)\n",
        "    if embedding_vector is not None:\n",
        "        embedding_matrix[i] = embedding_vector"
      ],
      "metadata": {
        "id": "thZkUVDlhWRh"
      },
      "execution_count": null,
      "outputs": []
    },
    {
      "cell_type": "code",
      "source": [
        "Aug_RNN_glove_model = Sequential()\n",
        "Aug_RNN_glove_model.add(Embedding(max_features, embedding_dim, input_length=maxlen))\n",
        "Aug_RNN_glove_model.add(layers.Bidirectional(SimpleRNN(32)))\n",
        "Aug_RNN_glove_model.add(Dense(128, activation='relu'))\n",
        "Aug_RNN_glove_model.add(Dense(64, activation='relu'))\n",
        "Aug_RNN_glove_model.add(Dense(32, activation='relu'))\n",
        "Aug_RNN_glove_model.add(Dense(1, activation='sigmoid'))\n",
        "\n",
        "Aug_RNN_glove_model.compile(optimizer='rmsprop', loss='binary_crossentropy', metrics=['acc'])\n",
        "history = Aug_RNN_glove_model.fit(X_train, y_train,\n",
        "                    epochs=30,\n",
        "                    batch_size=128,\n",
        "                    validation_split=0.1)\n",
        "\n",
        "from sklearn.metrics import accuracy_score, precision_score, recall_score, f1_score\n",
        "predictions = Aug_RNN_glove_model.predict(X_test)\n",
        "predictions = [round(prediction[0]) for prediction in predictions]\n",
        "\n",
        "accuracy = accuracy_score(y_test, predictions)\n",
        "precision = precision_score(y_test, predictions)\n",
        "recall = recall_score(y_test, predictions)\n",
        "f1 = f1_score(y_test, predictions)\n",
        "\n",
        "print(f\"Accuracy: {accuracy}\\nPrecision: {precision}\\nRecall: {recall}\\nF1_score: {f1}\\n\")\n",
        "\n",
        "model_name = \"Augmentation RNN Glove with 128\"\n",
        "\n",
        "performances.append([model_name, accuracy, precision, recall, f1])\n",
        "\n",
        "with open('/content/drive/MyDrive/Colab Notebooks/performances.pickle', 'wb') as f:\n",
        "  pickle.dump(performances, f)\n"
      ],
      "metadata": {
        "id": "Fp_5M9bphdtQ",
        "colab": {
          "base_uri": "https://localhost:8080/"
        },
        "outputId": "de8be5d9-3531-46ad-9840-76137cb97f71"
      },
      "execution_count": null,
      "outputs": [
        {
          "output_type": "stream",
          "name": "stdout",
          "text": [
            "Epoch 1/30\n",
            "51/51 [==============================] - 9s 102ms/step - loss: 0.5159 - acc: 0.7558 - val_loss: 0.2571 - val_acc: 0.9075\n",
            "Epoch 2/30\n",
            "51/51 [==============================] - 3s 62ms/step - loss: 0.2099 - acc: 0.9210 - val_loss: 0.1989 - val_acc: 0.9157\n",
            "Epoch 3/30\n",
            "51/51 [==============================] - 1s 27ms/step - loss: 0.1333 - acc: 0.9515 - val_loss: 0.1320 - val_acc: 0.9503\n",
            "Epoch 4/30\n",
            "51/51 [==============================] - 2s 30ms/step - loss: 0.0923 - acc: 0.9670 - val_loss: 0.2333 - val_acc: 0.9144\n",
            "Epoch 5/30\n",
            "51/51 [==============================] - 1s 25ms/step - loss: 0.0581 - acc: 0.9803 - val_loss: 0.1122 - val_acc: 0.9530\n",
            "Epoch 6/30\n",
            "51/51 [==============================] - 1s 28ms/step - loss: 0.0315 - acc: 0.9897 - val_loss: 0.8441 - val_acc: 0.8715\n",
            "Epoch 7/30\n",
            "51/51 [==============================] - 1s 19ms/step - loss: 0.0255 - acc: 0.9949 - val_loss: 0.1191 - val_acc: 0.9613\n",
            "Epoch 8/30\n",
            "51/51 [==============================] - 1s 25ms/step - loss: 0.0179 - acc: 0.9945 - val_loss: 0.1201 - val_acc: 0.9641\n",
            "Epoch 9/30\n",
            "51/51 [==============================] - 1s 20ms/step - loss: 0.0039 - acc: 0.9995 - val_loss: 0.1362 - val_acc: 0.9627\n",
            "Epoch 10/30\n",
            "51/51 [==============================] - 1s 26ms/step - loss: 0.0086 - acc: 0.9980 - val_loss: 0.1715 - val_acc: 0.9530\n",
            "Epoch 11/30\n",
            "51/51 [==============================] - 1s 22ms/step - loss: 0.0053 - acc: 0.9977 - val_loss: 0.1533 - val_acc: 0.9613\n",
            "Epoch 12/30\n",
            "51/51 [==============================] - 1s 18ms/step - loss: 0.0045 - acc: 0.9982 - val_loss: 0.1508 - val_acc: 0.9655\n",
            "Epoch 13/30\n",
            "51/51 [==============================] - 1s 19ms/step - loss: 0.0053 - acc: 0.9985 - val_loss: 0.1537 - val_acc: 0.9641\n",
            "Epoch 14/30\n",
            "51/51 [==============================] - 1s 16ms/step - loss: 0.0022 - acc: 0.9991 - val_loss: 0.1497 - val_acc: 0.9724\n",
            "Epoch 15/30\n",
            "51/51 [==============================] - 1s 17ms/step - loss: 0.0041 - acc: 0.9988 - val_loss: 0.1366 - val_acc: 0.9710\n",
            "Epoch 16/30\n",
            "51/51 [==============================] - 1s 27ms/step - loss: 0.0052 - acc: 0.9983 - val_loss: 0.1526 - val_acc: 0.9696\n",
            "Epoch 17/30\n",
            "51/51 [==============================] - 1s 28ms/step - loss: 0.0041 - acc: 0.9988 - val_loss: 0.1696 - val_acc: 0.9696\n",
            "Epoch 18/30\n",
            "51/51 [==============================] - 1s 24ms/step - loss: 0.0021 - acc: 0.9995 - val_loss: 0.1557 - val_acc: 0.9682\n",
            "Epoch 19/30\n",
            "51/51 [==============================] - 1s 21ms/step - loss: 0.0026 - acc: 0.9992 - val_loss: 0.1943 - val_acc: 0.9655\n",
            "Epoch 20/30\n",
            "51/51 [==============================] - 1s 26ms/step - loss: 1.8092e-04 - acc: 1.0000 - val_loss: 0.1999 - val_acc: 0.9599\n",
            "Epoch 21/30\n",
            "51/51 [==============================] - 1s 18ms/step - loss: 0.0020 - acc: 0.9997 - val_loss: 0.1756 - val_acc: 0.9613\n",
            "Epoch 22/30\n",
            "51/51 [==============================] - 1s 17ms/step - loss: 7.4686e-04 - acc: 0.9998 - val_loss: 0.1986 - val_acc: 0.9710\n",
            "Epoch 23/30\n",
            "51/51 [==============================] - 1s 19ms/step - loss: 2.9514e-05 - acc: 1.0000 - val_loss: 0.2642 - val_acc: 0.9613\n",
            "Epoch 24/30\n",
            "51/51 [==============================] - 1s 18ms/step - loss: 0.0059 - acc: 0.9985 - val_loss: 0.2431 - val_acc: 0.9558\n",
            "Epoch 25/30\n",
            "51/51 [==============================] - 1s 16ms/step - loss: 8.2787e-04 - acc: 0.9997 - val_loss: 0.1988 - val_acc: 0.9655\n",
            "Epoch 26/30\n",
            "51/51 [==============================] - 1s 17ms/step - loss: 2.2331e-05 - acc: 1.0000 - val_loss: 0.2065 - val_acc: 0.9655\n",
            "Epoch 27/30\n",
            "51/51 [==============================] - 1s 18ms/step - loss: 1.6675e-05 - acc: 1.0000 - val_loss: 0.2127 - val_acc: 0.9682\n",
            "Epoch 28/30\n",
            "51/51 [==============================] - 1s 19ms/step - loss: 5.3712e-04 - acc: 0.9997 - val_loss: 0.5000 - val_acc: 0.9323\n",
            "Epoch 29/30\n",
            "51/51 [==============================] - 1s 19ms/step - loss: 0.0034 - acc: 0.9991 - val_loss: 0.2194 - val_acc: 0.9710\n",
            "Epoch 30/30\n",
            "51/51 [==============================] - 1s 17ms/step - loss: 1.0600e-05 - acc: 1.0000 - val_loss: 0.2179 - val_acc: 0.9724\n",
            "97/97 [==============================] - 1s 5ms/step\n",
            "Accuracy: 0.9487262173492422\n",
            "Precision: 0.9419113054341037\n",
            "Recall: 0.9580686149936467\n",
            "F1_score: 0.9499212598425196\n",
            "\n"
          ]
        }
      ]
    },
    {
      "cell_type": "code",
      "source": [
        "# 6\n",
        "# To load performances list\n",
        "performances = []\n",
        "with open('/content/drive/MyDrive/Colab Notebooks/performances.pickle', 'rb') as f:\n",
        "  performances = pickle.load(f)\n",
        "\n",
        "print(performances)"
      ],
      "metadata": {
        "id": "uiieBQfahybU",
        "colab": {
          "base_uri": "https://localhost:8080/"
        },
        "outputId": "ff3f22d6-243e-45a6-ea11-300187bcf765"
      },
      "execution_count": null,
      "outputs": [
        {
          "output_type": "stream",
          "name": "stdout",
          "text": [
            "[['Augmentation Bert ', 0.7381489841986456, 0.831304347826087, 0.6073697585768743, 0.7019089574155652], [' Bert Model ', 0.6870068385060495, 0.8789808917197452, 0.43487394957983194, 0.5818692902319044], ['Augmentation LSTM Fast txt with 128', 0.945501451144792, 0.936064556176288, 0.9580686149936467, 0.9469387755102041], [' Augmented LSTM', 0.9496936472105773, 0.9420199501246883, 0.9599745870393901, 0.9509125235997483], [' Augmented RNN', 0.9471138342470171, 0.9422835633626098, 0.9542566709021602, 0.9482323232323233], ['Augmentation RNN Fast txt with 128', 0.946468881006127, 0.9351050679851669, 0.9612452350698857, 0.9479949874686717], ['Augmentation RNN Glove with 128', 0.9487262173492422, 0.9419113054341037, 0.9580686149936467, 0.9499212598425196]]\n"
          ]
        }
      ]
    },
    {
      "cell_type": "code",
      "source": [
        "import matplotlib.pyplot as plt\n",
        "\n",
        "# summarize history for accuracy\n",
        "plt.plot(history.history['acc'])\n",
        "plt.plot(history.history['val_acc'])\n",
        "plt.title('model accuracy')\n",
        "plt.ylabel('accuracy')\n",
        "plt.xlabel('epoch')\n",
        "plt.legend(['Train', 'Validation'], loc='upper left')\n",
        "plt.show()\n",
        "# summarize history for loss\n",
        "plt.plot(history.history['loss'])\n",
        "plt.plot(history.history['val_loss'])\n",
        "plt.title('model loss')\n",
        "plt.ylabel('loss')\n",
        "plt.xlabel('epoch')\n",
        "plt.legend(['Train', 'Validation'], loc='upper left')\n",
        "plt.show()"
      ],
      "metadata": {
        "id": "iLAHQylzhzZ4",
        "colab": {
          "base_uri": "https://localhost:8080/",
          "height": 573
        },
        "outputId": "5b1aa9ff-81c0-4626-e12c-89c7545b0475"
      },
      "execution_count": null,
      "outputs": [
        {
          "output_type": "display_data",
          "data": {
            "text/plain": [
              "<Figure size 432x288 with 1 Axes>"
            ],
            "image/png": "[encoded data removed]"
          },
          "metadata": {
            "needs_background": "light"
          }
        },
        {
          "output_type": "display_data",
          "data": {
            "text/plain": [
              "<Figure size 432x288 with 1 Axes>"
            ],
            "image/png": "[encoded data removed]"
          },
          "metadata": {
            "needs_background": "light"
          }
        }
      ]
    },
    {
      "cell_type": "code",
      "source": [],
      "metadata": {
        "id": "TpJjWBkToqgE"
      },
      "execution_count": null,
      "outputs": []
    },
    {
      "cell_type": "markdown",
      "source": [],
      "metadata": {
        "id": "q-8oFNH8iAtt"
      }
    },
    {
      "cell_type": "markdown",
      "source": [
        "**Augmentation with Bert**"
      ],
      "metadata": {
        "id": "ip1oKGWI_r77"
      }
    },
    {
      "cell_type": "code",
      "source": [
        "Y_new = df3[\"label\"].values\n",
        "X_new = df3[\"text\"]"
      ],
      "metadata": {
        "id": "Xh82MjKQnbS2"
      },
      "execution_count": null,
      "outputs": []
    },
    {
      "cell_type": "code",
      "source": [
        "X_train, X_test, Y_train, Y_test = train_test_split(X_new, Y_new, stratify = Y_new, test_size = 0.3, random_state =1)"
      ],
      "metadata": {
        "id": "nRzUp9H7nhpg"
      },
      "execution_count": null,
      "outputs": []
    },
    {
      "cell_type": "code",
      "execution_count": null,
      "metadata": {
        "colab": {
          "base_uri": "https://localhost:8080/"
        },
        "id": "8qACnfXyLC_L",
        "outputId": "2be339cb-a23b-4b83-ad79-8f578e6d81e5"
      },
      "outputs": [
        {
          "output_type": "stream",
          "name": "stderr",
          "text": [
            "[nltk_data] Downloading package stopwords to /root/nltk_data...\n",
            "[nltk_data]   Package stopwords is already up-to-date!\n",
            "[nltk_data] Downloading package omw-1.4 to /root/nltk_data...\n",
            "[nltk_data]   Package omw-1.4 is already up-to-date!\n"
          ]
        },
        {
          "output_type": "execute_result",
          "data": {
            "text/plain": [
              "True"
            ]
          },
          "metadata": {},
          "execution_count": 36
        }
      ],
      "source": [
        "\n",
        "import keras\n",
        "import numpy as np\n",
        "import pandas as pd\n",
        "import nltk\n",
        "from nltk.corpus import stopwords\n",
        "import pickle\n",
        "from sklearn.metrics import accuracy_score\n",
        "from sklearn.metrics import precision_score\n",
        "from sklearn.metrics import recall_score\n",
        "from sklearn.metrics import f1_score\n",
        "import re\n",
        "from sklearn.model_selection import train_test_split\n",
        "from tensorflow.keras.layers import TextVectorization\n",
        "from keras.models import Sequential\n",
        "from keras.layers import Embedding, SimpleRNN\n",
        "from keras.layers import Dense\n",
        "import matplotlib.pyplot as plt\n",
        "from keras.layers import LSTM\n",
        "from tensorflow.keras.layers import Bidirectional\n",
        "from nltk.stem import WordNetLemmatizer \n",
        "import string\n",
        "import nltk\n",
        "nltk.download('stopwords')\n",
        "nltk.download('omw-1.4')\n",
        "\n"
      ]
    },
    {
      "cell_type": "code",
      "execution_count": null,
      "metadata": {
        "colab": {
          "base_uri": "https://localhost:8080/",
          "height": 1000
        },
        "id": "bpgM-3R5N6vt",
        "outputId": "a2db572a-7f38-4003-d98a-f5af74cf5f33"
      },
      "outputs": [
        {
          "output_type": "stream",
          "name": "stdout",
          "text": [
            "Looking in indexes: https://pypi.org/simple, https://us-python.pkg.dev/colab-wheels/public/simple/\n",
            "Collecting tensorflow-text\n",
            "  Downloading tensorflow_text-2.11.0-cp38-cp38-manylinux_2_17_x86_64.manylinux2014_x86_64.whl (5.8 MB)\n",
            "\u001b[K     |████████████████████████████████| 5.8 MB 32.2 MB/s \n",
            "\u001b[?25hRequirement already satisfied: tensorflow-hub>=0.8.0 in /usr/local/lib/python3.8/dist-packages (from tensorflow-text) (0.12.0)\n",
            "Collecting tensorflow<2.12,>=2.11.0\n",
            "  Downloading tensorflow-2.11.0-cp38-cp38-manylinux_2_17_x86_64.manylinux2014_x86_64.whl (588.3 MB)\n",
            "\u001b[K     |████████████████████████████████| 588.3 MB 21 kB/s \n",
            "\u001b[?25hCollecting tensorflow-estimator<2.12,>=2.11.0\n",
            "  Downloading tensorflow_estimator-2.11.0-py2.py3-none-any.whl (439 kB)\n",
            "\u001b[K     |████████████████████████████████| 439 kB 76.4 MB/s \n",
            "\u001b[?25hRequirement already satisfied: libclang>=13.0.0 in /usr/local/lib/python3.8/dist-packages (from tensorflow<2.12,>=2.11.0->tensorflow-text) (14.0.6)\n",
            "Collecting keras<2.12,>=2.11.0\n",
            "  Downloading keras-2.11.0-py2.py3-none-any.whl (1.7 MB)\n",
            "\u001b[K     |████████████████████████████████| 1.7 MB 59.9 MB/s \n",
            "\u001b[?25hRequirement already satisfied: google-pasta>=0.1.1 in /usr/local/lib/python3.8/dist-packages (from tensorflow<2.12,>=2.11.0->tensorflow-text) (0.2.0)\n",
            "Requirement already satisfied: typing-extensions>=3.6.6 in /usr/local/lib/python3.8/dist-packages (from tensorflow<2.12,>=2.11.0->tensorflow-text) (4.1.1)\n",
            "Requirement already satisfied: tensorflow-io-gcs-filesystem>=0.23.1 in /usr/local/lib/python3.8/dist-packages (from tensorflow<2.12,>=2.11.0->tensorflow-text) (0.28.0)\n",
            "Collecting flatbuffers>=2.0\n",
            "  Downloading flatbuffers-22.11.23-py2.py3-none-any.whl (26 kB)\n",
            "Requirement already satisfied: astunparse>=1.6.0 in /usr/local/lib/python3.8/dist-packages (from tensorflow<2.12,>=2.11.0->tensorflow-text) (1.6.3)\n",
            "Requirement already satisfied: absl-py>=1.0.0 in /usr/local/lib/python3.8/dist-packages (from tensorflow<2.12,>=2.11.0->tensorflow-text) (1.3.0)\n",
            "Requirement already satisfied: opt-einsum>=2.3.2 in /usr/local/lib/python3.8/dist-packages (from tensorflow<2.12,>=2.11.0->tensorflow-text) (3.3.0)\n",
            "Collecting tensorboard<2.12,>=2.11\n",
            "  Downloading tensorboard-2.11.0-py3-none-any.whl (6.0 MB)\n",
            "\u001b[K     |████████████████████████████████| 6.0 MB 57.2 MB/s \n",
            "\u001b[?25hRequirement already satisfied: numpy>=1.20 in /usr/local/lib/python3.8/dist-packages (from tensorflow<2.12,>=2.11.0->tensorflow-text) (1.21.6)\n",
            "Requirement already satisfied: protobuf<3.20,>=3.9.2 in /usr/local/lib/python3.8/dist-packages (from tensorflow<2.12,>=2.11.0->tensorflow-text) (3.19.6)\n",
            "Requirement already satisfied: six>=1.12.0 in /usr/local/lib/python3.8/dist-packages (from tensorflow<2.12,>=2.11.0->tensorflow-text) (1.15.0)\n",
            "Requirement already satisfied: gast<=0.4.0,>=0.2.1 in /usr/local/lib/python3.8/dist-packages (from tensorflow<2.12,>=2.11.0->tensorflow-text) (0.4.0)\n",
            "Requirement already satisfied: termcolor>=1.1.0 in /usr/local/lib/python3.8/dist-packages (from tensorflow<2.12,>=2.11.0->tensorflow-text) (2.1.1)\n",
            "Requirement already satisfied: setuptools in /usr/local/lib/python3.8/dist-packages (from tensorflow<2.12,>=2.11.0->tensorflow-text) (57.4.0)\n",
            "Requirement already satisfied: packaging in /usr/local/lib/python3.8/dist-packages (from tensorflow<2.12,>=2.11.0->tensorflow-text) (21.3)\n",
            "Requirement already satisfied: grpcio<2.0,>=1.24.3 in /usr/local/lib/python3.8/dist-packages (from tensorflow<2.12,>=2.11.0->tensorflow-text) (1.50.0)\n",
            "Requirement already satisfied: wrapt>=1.11.0 in /usr/local/lib/python3.8/dist-packages (from tensorflow<2.12,>=2.11.0->tensorflow-text) (1.14.1)\n",
            "Requirement already satisfied: h5py>=2.9.0 in /usr/local/lib/python3.8/dist-packages (from tensorflow<2.12,>=2.11.0->tensorflow-text) (3.1.0)\n",
            "Requirement already satisfied: wheel<1.0,>=0.23.0 in /usr/local/lib/python3.8/dist-packages (from astunparse>=1.6.0->tensorflow<2.12,>=2.11.0->tensorflow-text) (0.38.4)\n",
            "Requirement already satisfied: google-auth<3,>=1.6.3 in /usr/local/lib/python3.8/dist-packages (from tensorboard<2.12,>=2.11->tensorflow<2.12,>=2.11.0->tensorflow-text) (2.14.1)\n",
            "Requirement already satisfied: tensorboard-plugin-wit>=1.6.0 in /usr/local/lib/python3.8/dist-packages (from tensorboard<2.12,>=2.11->tensorflow<2.12,>=2.11.0->tensorflow-text) (1.8.1)\n",
            "Requirement already satisfied: tensorboard-data-server<0.7.0,>=0.6.0 in /usr/local/lib/python3.8/dist-packages (from tensorboard<2.12,>=2.11->tensorflow<2.12,>=2.11.0->tensorflow-text) (0.6.1)\n",
            "Requirement already satisfied: requests<3,>=2.21.0 in /usr/local/lib/python3.8/dist-packages (from tensorboard<2.12,>=2.11->tensorflow<2.12,>=2.11.0->tensorflow-text) (2.23.0)\n",
            "Requirement already satisfied: google-auth-oauthlib<0.5,>=0.4.1 in /usr/local/lib/python3.8/dist-packages (from tensorboard<2.12,>=2.11->tensorflow<2.12,>=2.11.0->tensorflow-text) (0.4.6)\n",
            "Requirement already satisfied: werkzeug>=1.0.1 in /usr/local/lib/python3.8/dist-packages (from tensorboard<2.12,>=2.11->tensorflow<2.12,>=2.11.0->tensorflow-text) (1.0.1)\n",
            "Requirement already satisfied: markdown>=2.6.8 in /usr/local/lib/python3.8/dist-packages (from tensorboard<2.12,>=2.11->tensorflow<2.12,>=2.11.0->tensorflow-text) (3.4.1)\n",
            "Requirement already satisfied: pyasn1-modules>=0.2.1 in /usr/local/lib/python3.8/dist-packages (from google-auth<3,>=1.6.3->tensorboard<2.12,>=2.11->tensorflow<2.12,>=2.11.0->tensorflow-text) (0.2.8)\n",
            "Requirement already satisfied: cachetools<6.0,>=2.0.0 in /usr/local/lib/python3.8/dist-packages (from google-auth<3,>=1.6.3->tensorboard<2.12,>=2.11->tensorflow<2.12,>=2.11.0->tensorflow-text) (5.2.0)\n",
            "Requirement already satisfied: rsa<5,>=3.1.4 in /usr/local/lib/python3.8/dist-packages (from google-auth<3,>=1.6.3->tensorboard<2.12,>=2.11->tensorflow<2.12,>=2.11.0->tensorflow-text) (4.9)\n",
            "Requirement already satisfied: requests-oauthlib>=0.7.0 in /usr/local/lib/python3.8/dist-packages (from google-auth-oauthlib<0.5,>=0.4.1->tensorboard<2.12,>=2.11->tensorflow<2.12,>=2.11.0->tensorflow-text) (1.3.1)\n",
            "Requirement already satisfied: importlib-metadata>=4.4 in /usr/local/lib/python3.8/dist-packages (from markdown>=2.6.8->tensorboard<2.12,>=2.11->tensorflow<2.12,>=2.11.0->tensorflow-text) (4.13.0)\n",
            "Requirement already satisfied: zipp>=0.5 in /usr/local/lib/python3.8/dist-packages (from importlib-metadata>=4.4->markdown>=2.6.8->tensorboard<2.12,>=2.11->tensorflow<2.12,>=2.11.0->tensorflow-text) (3.10.0)\n",
            "Requirement already satisfied: pyasn1<0.5.0,>=0.4.6 in /usr/local/lib/python3.8/dist-packages (from pyasn1-modules>=0.2.1->google-auth<3,>=1.6.3->tensorboard<2.12,>=2.11->tensorflow<2.12,>=2.11.0->tensorflow-text) (0.4.8)\n",
            "Requirement already satisfied: urllib3!=1.25.0,!=1.25.1,<1.26,>=1.21.1 in /usr/local/lib/python3.8/dist-packages (from requests<3,>=2.21.0->tensorboard<2.12,>=2.11->tensorflow<2.12,>=2.11.0->tensorflow-text) (1.24.3)\n",
            "Requirement already satisfied: idna<3,>=2.5 in /usr/local/lib/python3.8/dist-packages (from requests<3,>=2.21.0->tensorboard<2.12,>=2.11->tensorflow<2.12,>=2.11.0->tensorflow-text) (2.10)\n",
            "Requirement already satisfied: certifi>=2017.4.17 in /usr/local/lib/python3.8/dist-packages (from requests<3,>=2.21.0->tensorboard<2.12,>=2.11->tensorflow<2.12,>=2.11.0->tensorflow-text) (2022.9.24)\n",
            "Requirement already satisfied: chardet<4,>=3.0.2 in /usr/local/lib/python3.8/dist-packages (from requests<3,>=2.21.0->tensorboard<2.12,>=2.11->tensorflow<2.12,>=2.11.0->tensorflow-text) (3.0.4)\n",
            "Requirement already satisfied: oauthlib>=3.0.0 in /usr/local/lib/python3.8/dist-packages (from requests-oauthlib>=0.7.0->google-auth-oauthlib<0.5,>=0.4.1->tensorboard<2.12,>=2.11->tensorflow<2.12,>=2.11.0->tensorflow-text) (3.2.2)\n",
            "Requirement already satisfied: pyparsing!=3.0.5,>=2.0.2 in /usr/local/lib/python3.8/dist-packages (from packaging->tensorflow<2.12,>=2.11.0->tensorflow-text) (3.0.9)\n",
            "Installing collected packages: tensorflow-estimator, tensorboard, keras, flatbuffers, tensorflow, tensorflow-text\n",
            "  Attempting uninstall: tensorflow-estimator\n",
            "    Found existing installation: tensorflow-estimator 2.9.0\n",
            "    Uninstalling tensorflow-estimator-2.9.0:\n",
            "      Successfully uninstalled tensorflow-estimator-2.9.0\n",
            "  Attempting uninstall: tensorboard\n",
            "    Found existing installation: tensorboard 2.9.1\n",
            "    Uninstalling tensorboard-2.9.1:\n",
            "      Successfully uninstalled tensorboard-2.9.1\n",
            "  Attempting uninstall: keras\n",
            "    Found existing installation: keras 2.9.0\n",
            "    Uninstalling keras-2.9.0:\n",
            "      Successfully uninstalled keras-2.9.0\n",
            "  Attempting uninstall: flatbuffers\n",
            "    Found existing installation: flatbuffers 1.12\n",
            "    Uninstalling flatbuffers-1.12:\n",
            "      Successfully uninstalled flatbuffers-1.12\n",
            "  Attempting uninstall: tensorflow\n",
            "    Found existing installation: tensorflow 2.9.2\n",
            "    Uninstalling tensorflow-2.9.2:\n",
            "      Successfully uninstalled tensorflow-2.9.2\n",
            "Successfully installed flatbuffers-22.11.23 keras-2.11.0 tensorboard-2.11.0 tensorflow-2.11.0 tensorflow-estimator-2.11.0 tensorflow-text-2.11.0\n"
          ]
        },
        {
          "output_type": "display_data",
          "data": {
            "application/vnd.colab-display-data+json": {
              "pip_warning": {
                "packages": [
                  "flatbuffers",
                  "keras",
                  "tensorboard",
                  "tensorflow"
                ]
              }
            }
          },
          "metadata": {}
        }
      ],
      "source": [
        "!pip install tensorflow-text\n"
      ]
    },
    {
      "cell_type": "code",
      "execution_count": null,
      "metadata": {
        "id": "RhPbC8jhLvB8"
      },
      "outputs": [],
      "source": [
        "import tensorflow as tf\n",
        "import tensorflow_hub as hub\n",
        "import tensorflow_text as text"
      ]
    },
    {
      "cell_type": "code",
      "execution_count": null,
      "metadata": {
        "id": "-skeDX6NL4rl"
      },
      "outputs": [],
      "source": [
        "preprocess = hub.KerasLayer(\"https://tfhub.dev/tensorflow/bert_en_uncased_preprocess/3\")\n",
        "encoder = hub.KerasLayer(\"https://tfhub.dev/tensorflow/bert_en_uncased_L-12_H-768_A-12/4\")\n"
      ]
    },
    {
      "cell_type": "code",
      "execution_count": null,
      "metadata": {
        "id": "7WPEzO0EMmbQ",
        "colab": {
          "base_uri": "https://localhost:8080/"
        },
        "outputId": "1ba457f1-03b7-47e4-b8a5-71b6276e9d60"
      },
      "outputs": [
        {
          "output_type": "stream",
          "name": "stderr",
          "text": [
            "WARNING:tensorflow:From /usr/local/lib/python3.8/dist-packages/tensorflow/python/autograph/pyct/static_analysis/liveness.py:83: Analyzer.lamba_check (from tensorflow.python.autograph.pyct.static_analysis.liveness) is deprecated and will be removed after 2023-09-23.\n",
            "Instructions for updating:\n",
            "Lambda fuctions will be no more assumed to be used in the statement where they are used, or at least in the same block. https://github.com/tensorflow/tensorflow/issues/56089\n"
          ]
        }
      ],
      "source": [
        "text_input = tf.keras.layers.Input(shape=(), dtype=tf.string, name='text-layer')\n",
        "preprocessed_text = preprocess(text_input)\n",
        "outputs = encoder(preprocessed_text)\n",
        "d_layer = tf.keras.layers.Dense(128, name=\"dense-layer1\")(outputs['pooled_output'])\n",
        "d_layer = tf.keras.layers.Dropout(0.2, name=\"dropout-layer1\")(d_layer)\n",
        "d_layer = tf.keras.layers.Dense(64, name=\"dense-layer2\")(d_layer)\n",
        "d_layer = tf.keras.layers.Dropout(0.2, name=\"dropout-layer2\")(d_layer)\n",
        "d_layer = tf.keras.layers.Dense(32, name=\"dense-layer3\")(d_layer)\n",
        "d_layer = tf.keras.layers.Dropout(0.2, name=\"dropout-layer3\")(d_layer)\n",
        "d_layer = tf.keras.layers.Dense(16, name=\"dense-layer4\")(d_layer)\n",
        "d_layer = tf.keras.layers.Dropout(0.2, name=\"dropout-layer4\")(d_layer)\n",
        "d_layer = tf.keras.layers.Dense(1, activation='sigmoid', name=\"output\")(d_layer)\n",
        "Aug_Bertmodel = tf.keras.Model(inputs=[text_input], outputs = [d_layer])"
      ]
    },
    {
      "cell_type": "code",
      "execution_count": null,
      "metadata": {
        "colab": {
          "base_uri": "https://localhost:8080/"
        },
        "id": "-WC-2-BQQRIC",
        "outputId": "7035dfc4-6ade-408c-9f45-90edb330e880"
      },
      "outputs": [
        {
          "output_type": "stream",
          "name": "stdout",
          "text": [
            "Model: \"model\"\n",
            "__________________________________________________________________________________________________\n",
            " Layer (type)                   Output Shape         Param #     Connected to                     \n",
            "==================================================================================================\n",
            " text-layer (InputLayer)        [(None,)]            0           []                               \n",
            "                                                                                                  \n",
            " keras_layer_2 (KerasLayer)     {'input_word_ids':   0           ['text-layer[0][0]']             \n",
            "                                (None, 128),                                                      \n",
            "                                 'input_mask': (Non                                               \n",
            "                                e, 128),                                                          \n",
            "                                 'input_type_ids':                                                \n",
            "                                (None, 128)}                                                      \n",
            "                                                                                                  \n",
            " keras_layer_3 (KerasLayer)     {'encoder_outputs':  109482241   ['keras_layer_2[0][0]',          \n",
            "                                 [(None, 128, 768),               'keras_layer_2[0][1]',          \n",
            "                                 (None, 128, 768),                'keras_layer_2[0][2]']          \n",
            "                                 (None, 128, 768),                                                \n",
            "                                 (None, 128, 768),                                                \n",
            "                                 (None, 128, 768),                                                \n",
            "                                 (None, 128, 768),                                                \n",
            "                                 (None, 128, 768),                                                \n",
            "                                 (None, 128, 768),                                                \n",
            "                                 (None, 128, 768),                                                \n",
            "                                 (None, 128, 768),                                                \n",
            "                                 (None, 128, 768),                                                \n",
            "                                 (None, 128, 768)],                                               \n",
            "                                 'sequence_output':                                               \n",
            "                                 (None, 128, 768),                                                \n",
            "                                 'pooled_output': (                                               \n",
            "                                None, 768),                                                       \n",
            "                                 'default': (None,                                                \n",
            "                                768)}                                                             \n",
            "                                                                                                  \n",
            " dense-layer1 (Dense)           (None, 128)          98432       ['keras_layer_3[0][13]']         \n",
            "                                                                                                  \n",
            " dropout-layer1 (Dropout)       (None, 128)          0           ['dense-layer1[0][0]']           \n",
            "                                                                                                  \n",
            " dense-layer2 (Dense)           (None, 64)           8256        ['dropout-layer1[0][0]']         \n",
            "                                                                                                  \n",
            " dropout-layer2 (Dropout)       (None, 64)           0           ['dense-layer2[0][0]']           \n",
            "                                                                                                  \n",
            " dense-layer3 (Dense)           (None, 32)           2080        ['dropout-layer2[0][0]']         \n",
            "                                                                                                  \n",
            " dropout-layer3 (Dropout)       (None, 32)           0           ['dense-layer3[0][0]']           \n",
            "                                                                                                  \n",
            " dense-layer4 (Dense)           (None, 16)           528         ['dropout-layer3[0][0]']         \n",
            "                                                                                                  \n",
            " dropout-layer4 (Dropout)       (None, 16)           0           ['dense-layer4[0][0]']           \n",
            "                                                                                                  \n",
            " output (Dense)                 (None, 1)            17          ['dropout-layer4[0][0]']         \n",
            "                                                                                                  \n",
            "==================================================================================================\n",
            "Total params: 109,591,554\n",
            "Trainable params: 109,313\n",
            "Non-trainable params: 109,482,241\n",
            "__________________________________________________________________________________________________\n"
          ]
        }
      ],
      "source": [
        "Aug_Bertmodel.summary()"
      ]
    },
    {
      "cell_type": "code",
      "execution_count": null,
      "metadata": {
        "id": "EsDgG9IgQsB7"
      },
      "outputs": [],
      "source": [
        "\n",
        "Aug_Bertmodel.compile(optimizer='rmsprop', loss='binary_crossentropy', metrics=['acc'])\n",
        "callback = tf.keras.callbacks.EarlyStopping(monitor='val_loss', mode='max', verbose=1, patience=4,baseline=0.4,min_delta=0.0001,restore_best_weights=False)"
      ]
    },
    {
      "cell_type": "code",
      "execution_count": null,
      "metadata": {
        "colab": {
          "base_uri": "https://localhost:8080/"
        },
        "id": "su4vWPEIQ3a-",
        "outputId": "72f3a369-5ebe-4d3d-a849-a7bbbb8e34d7"
      },
      "outputs": [
        {
          "output_type": "stream",
          "name": "stdout",
          "text": [
            "Epoch 1/20\n",
            "9/9 [==============================] - 251s 27s/step - loss: 1.9452 - acc: 0.5241 - val_loss: 0.6440 - val_acc: 0.6423\n",
            "Epoch 2/20\n",
            "9/9 [==============================] - 219s 24s/step - loss: 0.8262 - acc: 0.5335 - val_loss: 0.6581 - val_acc: 0.6036\n",
            "Epoch 3/20\n",
            "9/9 [==============================] - 237s 27s/step - loss: 0.7023 - acc: 0.5724 - val_loss: 0.6753 - val_acc: 0.5635\n",
            "Epoch 4/20\n",
            "9/9 [==============================] - 240s 27s/step - loss: 0.7305 - acc: 0.5668 - val_loss: 0.6140 - val_acc: 0.6823\n",
            "Epoch 5/20\n",
            "9/9 [==============================] - 238s 27s/step - loss: 0.6973 - acc: 0.5965 - val_loss: 0.7943 - val_acc: 0.5207\n",
            "Epoch 6/20\n",
            "9/9 [==============================] - 219s 24s/step - loss: 0.6863 - acc: 0.6054 - val_loss: 0.6037 - val_acc: 0.7003\n",
            "Epoch 7/20\n",
            "9/9 [==============================] - 241s 27s/step - loss: 0.6929 - acc: 0.5880 - val_loss: 0.5964 - val_acc: 0.7058\n",
            "Epoch 8/20\n",
            "9/9 [==============================] - 238s 27s/step - loss: 0.7183 - acc: 0.6118 - val_loss: 0.6284 - val_acc: 0.6326\n",
            "Epoch 9/20\n",
            "9/9 [==============================] - 237s 27s/step - loss: 0.6378 - acc: 0.6352 - val_loss: 0.6623 - val_acc: 0.5870\n",
            "Epoch 10/20\n",
            "9/9 [==============================] - 217s 24s/step - loss: 0.6663 - acc: 0.6178 - val_loss: 0.5844 - val_acc: 0.7141\n",
            "Epoch 11/20\n",
            "9/9 [==============================] - 218s 24s/step - loss: 0.6494 - acc: 0.6335 - val_loss: 0.5714 - val_acc: 0.7210\n",
            "Epoch 12/20\n",
            "9/9 [==============================] - 217s 24s/step - loss: 0.6799 - acc: 0.6341 - val_loss: 0.6131 - val_acc: 0.6533\n",
            "Epoch 13/20\n",
            "9/9 [==============================] - 217s 24s/step - loss: 0.5973 - acc: 0.6806 - val_loss: 0.7788 - val_acc: 0.5152\n",
            "Epoch 14/20\n",
            "9/9 [==============================] - 239s 27s/step - loss: 0.6554 - acc: 0.6386 - val_loss: 0.5818 - val_acc: 0.6975\n",
            "Epoch 15/20\n",
            "9/9 [==============================] - 217s 24s/step - loss: 0.6459 - acc: 0.6366 - val_loss: 0.5588 - val_acc: 0.7376\n",
            "Epoch 16/20\n",
            "9/9 [==============================] - 217s 24s/step - loss: 0.6340 - acc: 0.6528 - val_loss: 0.5704 - val_acc: 0.7210\n",
            "Epoch 17/20\n",
            "9/9 [==============================] - 237s 26s/step - loss: 0.6244 - acc: 0.6547 - val_loss: 0.5655 - val_acc: 0.7224\n",
            "Epoch 18/20\n",
            "9/9 [==============================] - 217s 24s/step - loss: 0.5746 - acc: 0.7022 - val_loss: 0.7683 - val_acc: 0.5635\n",
            "Epoch 19/20\n",
            "9/9 [==============================] - 236s 27s/step - loss: 0.6363 - acc: 0.6582 - val_loss: 0.5505 - val_acc: 0.7224\n",
            "Epoch 20/20\n",
            "9/9 [==============================] - 217s 24s/step - loss: 0.6180 - acc: 0.6688 - val_loss: 0.5549 - val_acc: 0.7169\n"
          ]
        }
      ],
      "source": [
        "history = Aug_Bertmodel.fit(X_train, Y_train, epochs=20, batch_size=800,\n",
        "                    validation_split = 0.1)\n"
      ]
    },
    {
      "cell_type": "code",
      "execution_count": null,
      "metadata": {
        "id": "kjN-HmeYRCgP",
        "colab": {
          "base_uri": "https://localhost:8080/",
          "height": 298
        },
        "outputId": "205cde12-5bb2-448f-c124-8be8de5e6077"
      },
      "outputs": [
        {
          "output_type": "display_data",
          "data": {
            "text/plain": [
              "<Figure size 432x288 with 1 Axes>"
            ],
            "image/png": "[encoded data removed]"
          },
          "metadata": {
            "needs_background": "light"
          }
        },
        {
          "output_type": "display_data",
          "data": {
            "text/plain": [
              "<Figure size 432x288 with 0 Axes>"
            ]
          },
          "metadata": {}
        }
      ],
      "source": [
        "acc = history.history['acc']\n",
        "val_acc = history.history['val_acc']\n",
        "loss = history.history['loss']\n",
        "val_loss = history.history['val_loss']\n",
        "\n",
        "epochs = range(len(acc))\n",
        "\n",
        "plt.plot(epochs, acc, 'r', label='Training acc')\n",
        "plt.plot(epochs, val_acc, 'g', label='Validation acc')\n",
        "plt.title('Training and validation accuracy of Experiment #2')\n",
        "plt.legend()\n",
        "\n",
        "plt.figure()\n",
        "plt.show()\n"
      ]
    },
    {
      "cell_type": "code",
      "source": [
        "from sklearn.metrics import accuracy_score, precision_score, recall_score, f1_score\n",
        "predictions = Aug_Bertmodel.predict(X_test)\n",
        "predictions = [round(prediction[0]) for prediction in predictions]\n",
        "\n",
        "accuracy = accuracy_score(Y_test, predictions)\n",
        "precision = precision_score(Y_test, predictions)\n",
        "recall = recall_score(Y_test, predictions)\n",
        "f1 = f1_score(Y_test, predictions)\n",
        "\n",
        "print(f\"Accuracy: {accuracy}\\nPrecision: {precision}\\nRecall: {recall}\\nF1_score: {f1}\\n\")\n",
        "\n",
        "model_name = \"Augmentation Bert \"\n",
        "\n",
        "performances.append([model_name, accuracy, precision, recall, f1])\n",
        "\n",
        "with open('/content/drive/MyDrive/Colab Notebooks/performances.pickle', 'wb') as f:\n",
        "  pickle.dump(performances, f)"
      ],
      "metadata": {
        "id": "00zXBA8pWb4k",
        "colab": {
          "base_uri": "https://localhost:8080/"
        },
        "outputId": "713206f6-31fd-4670-ee21-6753dc3fee22"
      },
      "execution_count": null,
      "outputs": [
        {
          "output_type": "stream",
          "name": "stdout",
          "text": [
            "97/97 [==============================] - 35s 361ms/step\n",
            "Accuracy: 0.7381489841986456\n",
            "Precision: 0.831304347826087\n",
            "Recall: 0.6073697585768743\n",
            "F1_score: 0.7019089574155652\n",
            "\n"
          ]
        }
      ]
    },
    {
      "cell_type": "markdown",
      "source": [
        "**Results**"
      ],
      "metadata": {
        "id": "A_uTDFBH_3UU"
      }
    },
    {
      "cell_type": "code",
      "source": [
        "import pandas as pd\n",
        "import pickle \n",
        "\n",
        "performances = []\n",
        "with open('/content/drive/MyDrive/Colab Notebooks/performances.pickle', 'rb') as f:\n",
        "  performances = pickle.load(f)\n",
        "\n",
        "df = pd.DataFrame(performances)\n",
        "\n",
        "df.columns = ['Model', 'Accuracy', 'Precision', 'Recall', 'F1']\n",
        "df"
      ],
      "metadata": {
        "colab": {
          "base_uri": "https://localhost:8080/",
          "height": 269
        },
        "id": "euRO8iBOWcSe",
        "outputId": "35fcd277-5985-4c4b-e54e-176b035c52b0"
      },
      "execution_count": null,
      "outputs": [
        {
          "output_type": "execute_result",
          "data": {
            "text/plain": [
              "                              Model  Accuracy  Precision    Recall        F1\n",
              "0                        Simple RNN  0.894266   0.889119  0.901261  0.895149\n",
              "1  Augmentation LSTM Glove with 128  0.952273   0.949841  0.955911  0.952866\n",
              "2         Simple RNN Glove with 128  0.935505   0.952286  0.918211  0.934938\n",
              "3     Simple RNN FastText with 128   0.916479   0.935915  0.895847  0.915442\n",
              "4                              LSTM  0.947436   0.939774  0.957188  0.948401\n",
              "5               LSTM Glove with 128  0.946146   0.948077  0.945048  0.946560\n",
              "6           LSTM FastText with 128   0.950016   0.946203  0.955272  0.950715"
            ],
            "text/html": [
              "\n",
              "  <div id=\"df-f14bcfce-a6cc-47d7-9634-d883078170f7\">\n",
              "    <div class=\"colab-df-container\">\n",
              "      <div>\n",
              "<style scoped>\n",
              "    .dataframe tbody tr th:only-of-type {\n",
              "        vertical-align: middle;\n",
              "    }\n",
              "\n",
              "    .dataframe tbody tr th {\n",
              "        vertical-align: top;\n",
              "    }\n",
              "\n",
              "    .dataframe thead th {\n",
              "        text-align: right;\n",
              "    }\n",
              "</style>\n",
              "<table border=\"1\" class=\"dataframe\">\n",
              "  <thead>\n",
              "    <tr style=\"text-align: right;\">\n",
              "      <th></th>\n",
              "      <th>Model</th>\n",
              "      <th>Accuracy</th>\n",
              "      <th>Precision</th>\n",
              "      <th>Recall</th>\n",
              "      <th>F1</th>\n",
              "    </tr>\n",
              "  </thead>\n",
              "  <tbody>\n",
              "    <tr>\n",
              "      <th>0</th>\n",
              "      <td>Simple RNN</td>\n",
              "      <td>0.894266</td>\n",
              "      <td>0.889119</td>\n",
              "      <td>0.901261</td>\n",
              "      <td>0.895149</td>\n",
              "    </tr>\n",
              "    <tr>\n",
              "      <th>1</th>\n",
              "      <td>Augmentation LSTM Glove with 128</td>\n",
              "      <td>0.952273</td>\n",
              "      <td>0.949841</td>\n",
              "      <td>0.955911</td>\n",
              "      <td>0.952866</td>\n",
              "    </tr>\n",
              "    <tr>\n",
              "      <th>2</th>\n",
              "      <td>Simple RNN Glove with 128</td>\n",
              "      <td>0.935505</td>\n",
              "      <td>0.952286</td>\n",
              "      <td>0.918211</td>\n",
              "      <td>0.934938</td>\n",
              "    </tr>\n",
              "    <tr>\n",
              "      <th>3</th>\n",
              "      <td>Simple RNN FastText with 128</td>\n",
              "      <td>0.916479</td>\n",
              "      <td>0.935915</td>\n",
              "      <td>0.895847</td>\n",
              "      <td>0.915442</td>\n",
              "    </tr>\n",
              "    <tr>\n",
              "      <th>4</th>\n",
              "      <td>LSTM</td>\n",
              "      <td>0.947436</td>\n",
              "      <td>0.939774</td>\n",
              "      <td>0.957188</td>\n",
              "      <td>0.948401</td>\n",
              "    </tr>\n",
              "    <tr>\n",
              "      <th>5</th>\n",
              "      <td>LSTM Glove with 128</td>\n",
              "      <td>0.946146</td>\n",
              "      <td>0.948077</td>\n",
              "      <td>0.945048</td>\n",
              "      <td>0.946560</td>\n",
              "    </tr>\n",
              "    <tr>\n",
              "      <th>6</th>\n",
              "      <td>LSTM FastText with 128</td>\n",
              "      <td>0.950016</td>\n",
              "      <td>0.946203</td>\n",
              "      <td>0.955272</td>\n",
              "      <td>0.950715</td>\n",
              "    </tr>\n",
              "  </tbody>\n",
              "</table>\n",
              "</div>\n",
              "      <button class=\"colab-df-convert\" onclick=\"convertToInteractive('df-f14bcfce-a6cc-47d7-9634-d883078170f7')\"\n",
              "              title=\"Convert this dataframe to an interactive table.\"\n",
              "              style=\"display:none;\">\n",
              "        \n",
              "  <svg xmlns=\"http://www.w3.org/2000/svg\" height=\"24px\"viewBox=\"0 0 24 24\"\n",
              "       width=\"24px\">\n",
              "    <path d=\"M0 0h24v24H0V0z\" fill=\"none\"/>\n",
              "    <path d=\"M18.56 5.44l.94 2.06.94-2.06 2.06-.94-2.06-.94-.94-2.06-.94 2.06-2.06.94zm-11 1L8.5 8.5l.94-2.06 2.06-.94-2.06-.94L8.5 2.5l-.94 2.06-2.06.94zm10 10l.94 2.06.94-2.06 2.06-.94-2.06-.94-.94-2.06-.94 2.06-2.06.94z\"/><path d=\"M17.41 7.96l-1.37-1.37c-.4-.4-.92-.59-1.43-.59-.52 0-1.04.2-1.43.59L10.3 9.45l-7.72 7.72c-.78.78-.78 2.05 0 2.83L4 21.41c.39.39.9.59 1.41.59.51 0 1.02-.2 1.41-.59l7.78-7.78 2.81-2.81c.8-.78.8-2.07 0-2.86zM5.41 20L4 18.59l7.72-7.72 1.47 1.35L5.41 20z\"/>\n",
              "  </svg>\n",
              "      </button>\n",
              "      \n",
              "  <style>\n",
              "    .colab-df-container {\n",
              "      display:flex;\n",
              "      flex-wrap:wrap;\n",
              "      gap: 12px;\n",
              "    }\n",
              "\n",
              "    .colab-df-convert {\n",
              "      background-color: #E8F0FE;\n",
              "      border: none;\n",
              "      border-radius: 50%;\n",
              "      cursor: pointer;\n",
              "      display: none;\n",
              "      fill: #1967D2;\n",
              "      height: 32px;\n",
              "      padding: 0 0 0 0;\n",
              "      width: 32px;\n",
              "    }\n",
              "\n",
              "    .colab-df-convert:hover {\n",
              "      background-color: #E2EBFA;\n",
              "      box-shadow: 0px 1px 2px rgba(60, 64, 67, 0.3), 0px 1px 3px 1px rgba(60, 64, 67, 0.15);\n",
              "      fill: #174EA6;\n",
              "    }\n",
              "\n",
              "    [theme=dark] .colab-df-convert {\n",
              "      background-color: #3B4455;\n",
              "      fill: #D2E3FC;\n",
              "    }\n",
              "\n",
              "    [theme=dark] .colab-df-convert:hover {\n",
              "      background-color: #434B5C;\n",
              "      box-shadow: 0px 1px 3px 1px rgba(0, 0, 0, 0.15);\n",
              "      filter: drop-shadow(0px 1px 2px rgba(0, 0, 0, 0.3));\n",
              "      fill: #FFFFFF;\n",
              "    }\n",
              "  </style>\n",
              "\n",
              "      <script>\n",
              "        const buttonEl =\n",
              "          document.querySelector('#df-f14bcfce-a6cc-47d7-9634-d883078170f7 button.colab-df-convert');\n",
              "        buttonEl.style.display =\n",
              "          google.colab.kernel.accessAllowed ? 'block' : 'none';\n",
              "\n",
              "        async function convertToInteractive(key) {\n",
              "          const element = document.querySelector('#df-f14bcfce-a6cc-47d7-9634-d883078170f7');\n",
              "          const dataTable =\n",
              "            await google.colab.kernel.invokeFunction('convertToInteractive',\n",
              "                                                     [key], {});\n",
              "          if (!dataTable) return;\n",
              "\n",
              "          const docLinkHtml = 'Like what you see? Visit the ' +\n",
              "            '<a target=\"_blank\" href=https://colab.research.google.com/notebooks/data_table.ipynb>data table notebook</a>'\n",
              "            + ' to learn more about interactive tables.';\n",
              "          element.innerHTML = '';\n",
              "          dataTable['output_type'] = 'display_data';\n",
              "          await google.colab.output.renderOutput(dataTable, element);\n",
              "          const docLink = document.createElement('div');\n",
              "          docLink.innerHTML = docLinkHtml;\n",
              "          element.appendChild(docLink);\n",
              "        }\n",
              "      </script>\n",
              "    </div>\n",
              "  </div>\n",
              "  "
            ]
          },
          "metadata": {},
          "execution_count": 189
        }
      ]
    },
    {
      "cell_type": "code",
      "source": [
        "import pandas as pd\n",
        "import pickle \n",
        "\n",
        "performances = []\n",
        "with open('/content/drive/MyDrive/Colab Notebooks/performances.pickle', 'rb') as f:\n",
        "  performances = pickle.load(f)\n",
        "\n",
        "df = pd.DataFrame(performances)\n",
        "\n",
        "df.columns = ['Model', 'Accuracy', 'Precision', 'Recall', 'F1']\n",
        "df"
      ],
      "metadata": {
        "colab": {
          "base_uri": "https://localhost:8080/",
          "height": 269
        },
        "id": "1hVq1ducRJ4c",
        "outputId": "61a932e5-ab37-4f79-9c82-94efd0e34be2"
      },
      "execution_count": null,
      "outputs": [
        {
          "output_type": "execute_result",
          "data": {
            "text/plain": [
              "                                 Model  Accuracy  Precision    Recall  \\\n",
              "0                   Augmentation Bert   0.738149   0.831304  0.607370   \n",
              "1                          Bert Model   0.687007   0.878981  0.434874   \n",
              "2  Augmentation LSTM Fast txt with 128  0.945501   0.936065  0.958069   \n",
              "3                       Augmented LSTM  0.949694   0.942020  0.959975   \n",
              "4                        Augmented RNN  0.947114   0.942284  0.954257   \n",
              "5   Augmentation RNN Fast txt with 128  0.946469   0.935105  0.961245   \n",
              "6      Augmentation RNN Glove with 128  0.948726   0.941911  0.958069   \n",
              "\n",
              "         F1  \n",
              "0  0.701909  \n",
              "1  0.581869  \n",
              "2  0.946939  \n",
              "3  0.950913  \n",
              "4  0.948232  \n",
              "5  0.947995  \n",
              "6  0.949921  "
            ],
            "text/html": [
              "\n",
              "  <div id=\"df-7c8643cd-ef5f-4c00-9ba9-7ecb7e844baf\">\n",
              "    <div class=\"colab-df-container\">\n",
              "      <div>\n",
              "<style scoped>\n",
              "    .dataframe tbody tr th:only-of-type {\n",
              "        vertical-align: middle;\n",
              "    }\n",
              "\n",
              "    .dataframe tbody tr th {\n",
              "        vertical-align: top;\n",
              "    }\n",
              "\n",
              "    .dataframe thead th {\n",
              "        text-align: right;\n",
              "    }\n",
              "</style>\n",
              "<table border=\"1\" class=\"dataframe\">\n",
              "  <thead>\n",
              "    <tr style=\"text-align: right;\">\n",
              "      <th></th>\n",
              "      <th>Model</th>\n",
              "      <th>Accuracy</th>\n",
              "      <th>Precision</th>\n",
              "      <th>Recall</th>\n",
              "      <th>F1</th>\n",
              "    </tr>\n",
              "  </thead>\n",
              "  <tbody>\n",
              "    <tr>\n",
              "      <th>0</th>\n",
              "      <td>Augmentation Bert</td>\n",
              "      <td>0.738149</td>\n",
              "      <td>0.831304</td>\n",
              "      <td>0.607370</td>\n",
              "      <td>0.701909</td>\n",
              "    </tr>\n",
              "    <tr>\n",
              "      <th>1</th>\n",
              "      <td>Bert Model</td>\n",
              "      <td>0.687007</td>\n",
              "      <td>0.878981</td>\n",
              "      <td>0.434874</td>\n",
              "      <td>0.581869</td>\n",
              "    </tr>\n",
              "    <tr>\n",
              "      <th>2</th>\n",
              "      <td>Augmentation LSTM Fast txt with 128</td>\n",
              "      <td>0.945501</td>\n",
              "      <td>0.936065</td>\n",
              "      <td>0.958069</td>\n",
              "      <td>0.946939</td>\n",
              "    </tr>\n",
              "    <tr>\n",
              "      <th>3</th>\n",
              "      <td>Augmented LSTM</td>\n",
              "      <td>0.949694</td>\n",
              "      <td>0.942020</td>\n",
              "      <td>0.959975</td>\n",
              "      <td>0.950913</td>\n",
              "    </tr>\n",
              "    <tr>\n",
              "      <th>4</th>\n",
              "      <td>Augmented RNN</td>\n",
              "      <td>0.947114</td>\n",
              "      <td>0.942284</td>\n",
              "      <td>0.954257</td>\n",
              "      <td>0.948232</td>\n",
              "    </tr>\n",
              "    <tr>\n",
              "      <th>5</th>\n",
              "      <td>Augmentation RNN Fast txt with 128</td>\n",
              "      <td>0.946469</td>\n",
              "      <td>0.935105</td>\n",
              "      <td>0.961245</td>\n",
              "      <td>0.947995</td>\n",
              "    </tr>\n",
              "    <tr>\n",
              "      <th>6</th>\n",
              "      <td>Augmentation RNN Glove with 128</td>\n",
              "      <td>0.948726</td>\n",
              "      <td>0.941911</td>\n",
              "      <td>0.958069</td>\n",
              "      <td>0.949921</td>\n",
              "    </tr>\n",
              "  </tbody>\n",
              "</table>\n",
              "</div>\n",
              "      <button class=\"colab-df-convert\" onclick=\"convertToInteractive('df-7c8643cd-ef5f-4c00-9ba9-7ecb7e844baf')\"\n",
              "              title=\"Convert this dataframe to an interactive table.\"\n",
              "              style=\"display:none;\">\n",
              "        \n",
              "  <svg xmlns=\"http://www.w3.org/2000/svg\" height=\"24px\"viewBox=\"0 0 24 24\"\n",
              "       width=\"24px\">\n",
              "    <path d=\"M0 0h24v24H0V0z\" fill=\"none\"/>\n",
              "    <path d=\"M18.56 5.44l.94 2.06.94-2.06 2.06-.94-2.06-.94-.94-2.06-.94 2.06-2.06.94zm-11 1L8.5 8.5l.94-2.06 2.06-.94-2.06-.94L8.5 2.5l-.94 2.06-2.06.94zm10 10l.94 2.06.94-2.06 2.06-.94-2.06-.94-.94-2.06-.94 2.06-2.06.94z\"/><path d=\"M17.41 7.96l-1.37-1.37c-.4-.4-.92-.59-1.43-.59-.52 0-1.04.2-1.43.59L10.3 9.45l-7.72 7.72c-.78.78-.78 2.05 0 2.83L4 21.41c.39.39.9.59 1.41.59.51 0 1.02-.2 1.41-.59l7.78-7.78 2.81-2.81c.8-.78.8-2.07 0-2.86zM5.41 20L4 18.59l7.72-7.72 1.47 1.35L5.41 20z\"/>\n",
              "  </svg>\n",
              "      </button>\n",
              "      \n",
              "  <style>\n",
              "    .colab-df-container {\n",
              "      display:flex;\n",
              "      flex-wrap:wrap;\n",
              "      gap: 12px;\n",
              "    }\n",
              "\n",
              "    .colab-df-convert {\n",
              "      background-color: #E8F0FE;\n",
              "      border: none;\n",
              "      border-radius: 50%;\n",
              "      cursor: pointer;\n",
              "      display: none;\n",
              "      fill: #1967D2;\n",
              "      height: 32px;\n",
              "      padding: 0 0 0 0;\n",
              "      width: 32px;\n",
              "    }\n",
              "\n",
              "    .colab-df-convert:hover {\n",
              "      background-color: #E2EBFA;\n",
              "      box-shadow: 0px 1px 2px rgba(60, 64, 67, 0.3), 0px 1px 3px 1px rgba(60, 64, 67, 0.15);\n",
              "      fill: #174EA6;\n",
              "    }\n",
              "\n",
              "    [theme=dark] .colab-df-convert {\n",
              "      background-color: #3B4455;\n",
              "      fill: #D2E3FC;\n",
              "    }\n",
              "\n",
              "    [theme=dark] .colab-df-convert:hover {\n",
              "      background-color: #434B5C;\n",
              "      box-shadow: 0px 1px 3px 1px rgba(0, 0, 0, 0.15);\n",
              "      filter: drop-shadow(0px 1px 2px rgba(0, 0, 0, 0.3));\n",
              "      fill: #FFFFFF;\n",
              "    }\n",
              "  </style>\n",
              "\n",
              "      <script>\n",
              "        const buttonEl =\n",
              "          document.querySelector('#df-7c8643cd-ef5f-4c00-9ba9-7ecb7e844baf button.colab-df-convert');\n",
              "        buttonEl.style.display =\n",
              "          google.colab.kernel.accessAllowed ? 'block' : 'none';\n",
              "\n",
              "        async function convertToInteractive(key) {\n",
              "          const element = document.querySelector('#df-7c8643cd-ef5f-4c00-9ba9-7ecb7e844baf');\n",
              "          const dataTable =\n",
              "            await google.colab.kernel.invokeFunction('convertToInteractive',\n",
              "                                                     [key], {});\n",
              "          if (!dataTable) return;\n",
              "\n",
              "          const docLinkHtml = 'Like what you see? Visit the ' +\n",
              "            '<a target=\"_blank\" href=https://colab.research.google.com/notebooks/data_table.ipynb>data table notebook</a>'\n",
              "            + ' to learn more about interactive tables.';\n",
              "          element.innerHTML = '';\n",
              "          dataTable['output_type'] = 'display_data';\n",
              "          await google.colab.output.renderOutput(dataTable, element);\n",
              "          const docLink = document.createElement('div');\n",
              "          docLink.innerHTML = docLinkHtml;\n",
              "          element.appendChild(docLink);\n",
              "        }\n",
              "      </script>\n",
              "    </div>\n",
              "  </div>\n",
              "  "
            ]
          },
          "metadata": {},
          "execution_count": 97
        }
      ]
    },
    {
      "cell_type": "code",
      "source": [
        "from tabulate import tabulate\n",
        "table = [['S.No:', 'Classifier', 'Accuracy:'], [1, 'Passive_Agressive_Classifier', 0.9163 ]]\n",
        "print(tabulate(table))"
      ],
      "metadata": {
        "colab": {
          "base_uri": "https://localhost:8080/"
        },
        "id": "tSeTcUYxJ8gA",
        "outputId": "be13876f-87fa-4be9-e7ba-6d49db8f5fac"
      },
      "execution_count": 1,
      "outputs": [
        {
          "output_type": "stream",
          "name": "stdout",
          "text": [
            "-----  ----------------------------  ---------\n",
            "S.No:  Classifier                    Accuracy:\n",
            "1      Passive_Agressive_Classifier  0.9163\n",
            "-----  ----------------------------  ---------\n"
          ]
        }
      ]
    }
  ],
  "metadata": {
    "colab": {
      "provenance": []
    },
    "kernelspec": {
      "display_name": "Python 3.10.5 64-bit",
      "language": "python",
      "name": "python3"
    },
    "language_info": {
      "codemirror_mode": {
        "name": "ipython",
        "version": 3
      },
      "file_extension": ".py",
      "mimetype": "text/x-python",
      "name": "python",
      "nbconvert_exporter": "python",
      "pygments_lexer": "ipython3",
      "version": "3.10.5"
    },
    "vscode": {
      "interpreter": {
        "hash": "7c2737f5cd3eb6a237b7123ce75c641d6f975db18b0c0702ad2055474d78171c"
      }
    },
    "gpuClass": "standard",
    "accelerator": "GPU",
    "widgets": {
      "application/vnd.jupyter.widget-state+json": {
        "20350f2e39b84b028255c5206e7fc61a": {
          "model_module": "@jupyter-widgets/controls",
          "model_name": "HBoxModel",
          "model_module_version": "1.5.0",
          "state": {
            "_dom_classes": [],
            "_model_module": "@jupyter-widgets/controls",
            "_model_module_version": "1.5.0",
            "_model_name": "HBoxModel",
            "_view_count": null,
            "_view_module": "@jupyter-widgets/controls",
            "_view_module_version": "1.5.0",
            "_view_name": "HBoxView",
            "box_style": "",
            "children": [
              "IPY_MODEL_8b512dfd634246be897e53e096d956e2",
              "IPY_MODEL_1b9fe07e4ced46f098311a7e2a6e5bec",
              "IPY_MODEL_bc0c024e7c5340c6955d8b90b28078ce"
            ],
            "layout": "IPY_MODEL_c6e423db65d247f1ba4a6950ab57e16e"
          }
        },
        "8b512dfd634246be897e53e096d956e2": {
          "model_module": "@jupyter-widgets/controls",
          "model_name": "HTMLModel",
          "model_module_version": "1.5.0",
          "state": {
            "_dom_classes": [],
            "_model_module": "@jupyter-widgets/controls",
            "_model_module_version": "1.5.0",
            "_model_name": "HTMLModel",
            "_view_count": null,
            "_view_module": "@jupyter-widgets/controls",
            "_view_module_version": "1.5.0",
            "_view_name": "HTMLView",
            "description": "",
            "description_tooltip": null,
            "layout": "IPY_MODEL_01806cdd1907486aad021820a9e8b6ad",
            "placeholder": "​",
            "style": "IPY_MODEL_0978ec06949f4c8d86ab8552c3e94588",
            "value": "Downloading: 100%"
          }
        },
        "1b9fe07e4ced46f098311a7e2a6e5bec": {
          "model_module": "@jupyter-widgets/controls",
          "model_name": "FloatProgressModel",
          "model_module_version": "1.5.0",
          "state": {
            "_dom_classes": [],
            "_model_module": "@jupyter-widgets/controls",
            "_model_module_version": "1.5.0",
            "_model_name": "FloatProgressModel",
            "_view_count": null,
            "_view_module": "@jupyter-widgets/controls",
            "_view_module_version": "1.5.0",
            "_view_name": "ProgressView",
            "bar_style": "success",
            "description": "",
            "description_tooltip": null,
            "layout": "IPY_MODEL_a27608fd66eb491b8a1bec89ba08b550",
            "max": 28,
            "min": 0,
            "orientation": "horizontal",
            "style": "IPY_MODEL_6ec2ad51f56443ba8316ce5e76ab1ad6",
            "value": 28
          }
        },
        "bc0c024e7c5340c6955d8b90b28078ce": {
          "model_module": "@jupyter-widgets/controls",
          "model_name": "HTMLModel",
          "model_module_version": "1.5.0",
          "state": {
            "_dom_classes": [],
            "_model_module": "@jupyter-widgets/controls",
            "_model_module_version": "1.5.0",
            "_model_name": "HTMLModel",
            "_view_count": null,
            "_view_module": "@jupyter-widgets/controls",
            "_view_module_version": "1.5.0",
            "_view_name": "HTMLView",
            "description": "",
            "description_tooltip": null,
            "layout": "IPY_MODEL_51ac3632c01447fba610e143f664a0c4",
            "placeholder": "​",
            "style": "IPY_MODEL_3b8cbd19ac1b4a53b858402360b8c057",
            "value": " 28.0/28.0 [00:00&lt;00:00, 727B/s]"
          }
        },
        "c6e423db65d247f1ba4a6950ab57e16e": {
          "model_module": "@jupyter-widgets/base",
          "model_name": "LayoutModel",
          "model_module_version": "1.2.0",
          "state": {
            "_model_module": "@jupyter-widgets/base",
            "_model_module_version": "1.2.0",
            "_model_name": "LayoutModel",
            "_view_count": null,
            "_view_module": "@jupyter-widgets/base",
            "_view_module_version": "1.2.0",
            "_view_name": "LayoutView",
            "align_content": null,
            "align_items": null,
            "align_self": null,
            "border": null,
            "bottom": null,
            "display": null,
            "flex": null,
            "flex_flow": null,
            "grid_area": null,
            "grid_auto_columns": null,
            "grid_auto_flow": null,
            "grid_auto_rows": null,
            "grid_column": null,
            "grid_gap": null,
            "grid_row": null,
            "grid_template_areas": null,
            "grid_template_columns": null,
            "grid_template_rows": null,
            "height": null,
            "justify_content": null,
            "justify_items": null,
            "left": null,
            "margin": null,
            "max_height": null,
            "max_width": null,
            "min_height": null,
            "min_width": null,
            "object_fit": null,
            "object_position": null,
            "order": null,
            "overflow": null,
            "overflow_x": null,
            "overflow_y": null,
            "padding": null,
            "right": null,
            "top": null,
            "visibility": null,
            "width": null
          }
        },
        "01806cdd1907486aad021820a9e8b6ad": {
          "model_module": "@jupyter-widgets/base",
          "model_name": "LayoutModel",
          "model_module_version": "1.2.0",
          "state": {
            "_model_module": "@jupyter-widgets/base",
            "_model_module_version": "1.2.0",
            "_model_name": "LayoutModel",
            "_view_count": null,
            "_view_module": "@jupyter-widgets/base",
            "_view_module_version": "1.2.0",
            "_view_name": "LayoutView",
            "align_content": null,
            "align_items": null,
            "align_self": null,
            "border": null,
            "bottom": null,
            "display": null,
            "flex": null,
            "flex_flow": null,
            "grid_area": null,
            "grid_auto_columns": null,
            "grid_auto_flow": null,
            "grid_auto_rows": null,
            "grid_column": null,
            "grid_gap": null,
            "grid_row": null,
            "grid_template_areas": null,
            "grid_template_columns": null,
            "grid_template_rows": null,
            "height": null,
            "justify_content": null,
            "justify_items": null,
            "left": null,
            "margin": null,
            "max_height": null,
            "max_width": null,
            "min_height": null,
            "min_width": null,
            "object_fit": null,
            "object_position": null,
            "order": null,
            "overflow": null,
            "overflow_x": null,
            "overflow_y": null,
            "padding": null,
            "right": null,
            "top": null,
            "visibility": null,
            "width": null
          }
        },
        "0978ec06949f4c8d86ab8552c3e94588": {
          "model_module": "@jupyter-widgets/controls",
          "model_name": "DescriptionStyleModel",
          "model_module_version": "1.5.0",
          "state": {
            "_model_module": "@jupyter-widgets/controls",
            "_model_module_version": "1.5.0",
            "_model_name": "DescriptionStyleModel",
            "_view_count": null,
            "_view_module": "@jupyter-widgets/base",
            "_view_module_version": "1.2.0",
            "_view_name": "StyleView",
            "description_width": ""
          }
        },
        "a27608fd66eb491b8a1bec89ba08b550": {
          "model_module": "@jupyter-widgets/base",
          "model_name": "LayoutModel",
          "model_module_version": "1.2.0",
          "state": {
            "_model_module": "@jupyter-widgets/base",
            "_model_module_version": "1.2.0",
            "_model_name": "LayoutModel",
            "_view_count": null,
            "_view_module": "@jupyter-widgets/base",
            "_view_module_version": "1.2.0",
            "_view_name": "LayoutView",
            "align_content": null,
            "align_items": null,
            "align_self": null,
            "border": null,
            "bottom": null,
            "display": null,
            "flex": null,
            "flex_flow": null,
            "grid_area": null,
            "grid_auto_columns": null,
            "grid_auto_flow": null,
            "grid_auto_rows": null,
            "grid_column": null,
            "grid_gap": null,
            "grid_row": null,
            "grid_template_areas": null,
            "grid_template_columns": null,
            "grid_template_rows": null,
            "height": null,
            "justify_content": null,
            "justify_items": null,
            "left": null,
            "margin": null,
            "max_height": null,
            "max_width": null,
            "min_height": null,
            "min_width": null,
            "object_fit": null,
            "object_position": null,
            "order": null,
            "overflow": null,
            "overflow_x": null,
            "overflow_y": null,
            "padding": null,
            "right": null,
            "top": null,
            "visibility": null,
            "width": null
          }
        },
        "6ec2ad51f56443ba8316ce5e76ab1ad6": {
          "model_module": "@jupyter-widgets/controls",
          "model_name": "ProgressStyleModel",
          "model_module_version": "1.5.0",
          "state": {
            "_model_module": "@jupyter-widgets/controls",
            "_model_module_version": "1.5.0",
            "_model_name": "ProgressStyleModel",
            "_view_count": null,
            "_view_module": "@jupyter-widgets/base",
            "_view_module_version": "1.2.0",
            "_view_name": "StyleView",
            "bar_color": null,
            "description_width": ""
          }
        },
        "51ac3632c01447fba610e143f664a0c4": {
          "model_module": "@jupyter-widgets/base",
          "model_name": "LayoutModel",
          "model_module_version": "1.2.0",
          "state": {
            "_model_module": "@jupyter-widgets/base",
            "_model_module_version": "1.2.0",
            "_model_name": "LayoutModel",
            "_view_count": null,
            "_view_module": "@jupyter-widgets/base",
            "_view_module_version": "1.2.0",
            "_view_name": "LayoutView",
            "align_content": null,
            "align_items": null,
            "align_self": null,
            "border": null,
            "bottom": null,
            "display": null,
            "flex": null,
            "flex_flow": null,
            "grid_area": null,
            "grid_auto_columns": null,
            "grid_auto_flow": null,
            "grid_auto_rows": null,
            "grid_column": null,
            "grid_gap": null,
            "grid_row": null,
            "grid_template_areas": null,
            "grid_template_columns": null,
            "grid_template_rows": null,
            "height": null,
            "justify_content": null,
            "justify_items": null,
            "left": null,
            "margin": null,
            "max_height": null,
            "max_width": null,
            "min_height": null,
            "min_width": null,
            "object_fit": null,
            "object_position": null,
            "order": null,
            "overflow": null,
            "overflow_x": null,
            "overflow_y": null,
            "padding": null,
            "right": null,
            "top": null,
            "visibility": null,
            "width": null
          }
        },
        "3b8cbd19ac1b4a53b858402360b8c057": {
          "model_module": "@jupyter-widgets/controls",
          "model_name": "DescriptionStyleModel",
          "model_module_version": "1.5.0",
          "state": {
            "_model_module": "@jupyter-widgets/controls",
            "_model_module_version": "1.5.0",
            "_model_name": "DescriptionStyleModel",
            "_view_count": null,
            "_view_module": "@jupyter-widgets/base",
            "_view_module_version": "1.2.0",
            "_view_name": "StyleView",
            "description_width": ""
          }
        },
        "cadeb408cfd748e392246994712f6713": {
          "model_module": "@jupyter-widgets/controls",
          "model_name": "HBoxModel",
          "model_module_version": "1.5.0",
          "state": {
            "_dom_classes": [],
            "_model_module": "@jupyter-widgets/controls",
            "_model_module_version": "1.5.0",
            "_model_name": "HBoxModel",
            "_view_count": null,
            "_view_module": "@jupyter-widgets/controls",
            "_view_module_version": "1.5.0",
            "_view_name": "HBoxView",
            "box_style": "",
            "children": [
              "IPY_MODEL_12382c1158a54a49adb385f86d9017fc",
              "IPY_MODEL_1d1204aaa43643b4b99aea1e71d268bb",
              "IPY_MODEL_48d38eba1b7e4ea6b2e0af1ccd7bf33c"
            ],
            "layout": "IPY_MODEL_dabafd2126f54bf6962eb1ad9cec4340"
          }
        },
        "12382c1158a54a49adb385f86d9017fc": {
          "model_module": "@jupyter-widgets/controls",
          "model_name": "HTMLModel",
          "model_module_version": "1.5.0",
          "state": {
            "_dom_classes": [],
            "_model_module": "@jupyter-widgets/controls",
            "_model_module_version": "1.5.0",
            "_model_name": "HTMLModel",
            "_view_count": null,
            "_view_module": "@jupyter-widgets/controls",
            "_view_module_version": "1.5.0",
            "_view_name": "HTMLView",
            "description": "",
            "description_tooltip": null,
            "layout": "IPY_MODEL_0b7d83c8cdf44bceb89a4237468266d5",
            "placeholder": "​",
            "style": "IPY_MODEL_0f3ce5725f3d44a3a824fc46441f2700",
            "value": "Downloading: 100%"
          }
        },
        "1d1204aaa43643b4b99aea1e71d268bb": {
          "model_module": "@jupyter-widgets/controls",
          "model_name": "FloatProgressModel",
          "model_module_version": "1.5.0",
          "state": {
            "_dom_classes": [],
            "_model_module": "@jupyter-widgets/controls",
            "_model_module_version": "1.5.0",
            "_model_name": "FloatProgressModel",
            "_view_count": null,
            "_view_module": "@jupyter-widgets/controls",
            "_view_module_version": "1.5.0",
            "_view_name": "ProgressView",
            "bar_style": "success",
            "description": "",
            "description_tooltip": null,
            "layout": "IPY_MODEL_3748cf5e31494ae8b6e39456af5b1ff8",
            "max": 570,
            "min": 0,
            "orientation": "horizontal",
            "style": "IPY_MODEL_dd439e20d2414269b406e6316f63c2aa",
            "value": 570
          }
        },
        "48d38eba1b7e4ea6b2e0af1ccd7bf33c": {
          "model_module": "@jupyter-widgets/controls",
          "model_name": "HTMLModel",
          "model_module_version": "1.5.0",
          "state": {
            "_dom_classes": [],
            "_model_module": "@jupyter-widgets/controls",
            "_model_module_version": "1.5.0",
            "_model_name": "HTMLModel",
            "_view_count": null,
            "_view_module": "@jupyter-widgets/controls",
            "_view_module_version": "1.5.0",
            "_view_name": "HTMLView",
            "description": "",
            "description_tooltip": null,
            "layout": "IPY_MODEL_1f002d9aee4c4924950cab51d401bdfb",
            "placeholder": "​",
            "style": "IPY_MODEL_6329395c3fe34a94854a889d619616c9",
            "value": " 570/570 [00:00&lt;00:00, 16.3kB/s]"
          }
        },
        "dabafd2126f54bf6962eb1ad9cec4340": {
          "model_module": "@jupyter-widgets/base",
          "model_name": "LayoutModel",
          "model_module_version": "1.2.0",
          "state": {
            "_model_module": "@jupyter-widgets/base",
            "_model_module_version": "1.2.0",
            "_model_name": "LayoutModel",
            "_view_count": null,
            "_view_module": "@jupyter-widgets/base",
            "_view_module_version": "1.2.0",
            "_view_name": "LayoutView",
            "align_content": null,
            "align_items": null,
            "align_self": null,
            "border": null,
            "bottom": null,
            "display": null,
            "flex": null,
            "flex_flow": null,
            "grid_area": null,
            "grid_auto_columns": null,
            "grid_auto_flow": null,
            "grid_auto_rows": null,
            "grid_column": null,
            "grid_gap": null,
            "grid_row": null,
            "grid_template_areas": null,
            "grid_template_columns": null,
            "grid_template_rows": null,
            "height": null,
            "justify_content": null,
            "justify_items": null,
            "left": null,
            "margin": null,
            "max_height": null,
            "max_width": null,
            "min_height": null,
            "min_width": null,
            "object_fit": null,
            "object_position": null,
            "order": null,
            "overflow": null,
            "overflow_x": null,
            "overflow_y": null,
            "padding": null,
            "right": null,
            "top": null,
            "visibility": null,
            "width": null
          }
        },
        "0b7d83c8cdf44bceb89a4237468266d5": {
          "model_module": "@jupyter-widgets/base",
          "model_name": "LayoutModel",
          "model_module_version": "1.2.0",
          "state": {
            "_model_module": "@jupyter-widgets/base",
            "_model_module_version": "1.2.0",
            "_model_name": "LayoutModel",
            "_view_count": null,
            "_view_module": "@jupyter-widgets/base",
            "_view_module_version": "1.2.0",
            "_view_name": "LayoutView",
            "align_content": null,
            "align_items": null,
            "align_self": null,
            "border": null,
            "bottom": null,
            "display": null,
            "flex": null,
            "flex_flow": null,
            "grid_area": null,
            "grid_auto_columns": null,
            "grid_auto_flow": null,
            "grid_auto_rows": null,
            "grid_column": null,
            "grid_gap": null,
            "grid_row": null,
            "grid_template_areas": null,
            "grid_template_columns": null,
            "grid_template_rows": null,
            "height": null,
            "justify_content": null,
            "justify_items": null,
            "left": null,
            "margin": null,
            "max_height": null,
            "max_width": null,
            "min_height": null,
            "min_width": null,
            "object_fit": null,
            "object_position": null,
            "order": null,
            "overflow": null,
            "overflow_x": null,
            "overflow_y": null,
            "padding": null,
            "right": null,
            "top": null,
            "visibility": null,
            "width": null
          }
        },
        "0f3ce5725f3d44a3a824fc46441f2700": {
          "model_module": "@jupyter-widgets/controls",
          "model_name": "DescriptionStyleModel",
          "model_module_version": "1.5.0",
          "state": {
            "_model_module": "@jupyter-widgets/controls",
            "_model_module_version": "1.5.0",
            "_model_name": "DescriptionStyleModel",
            "_view_count": null,
            "_view_module": "@jupyter-widgets/base",
            "_view_module_version": "1.2.0",
            "_view_name": "StyleView",
            "description_width": ""
          }
        },
        "3748cf5e31494ae8b6e39456af5b1ff8": {
          "model_module": "@jupyter-widgets/base",
          "model_name": "LayoutModel",
          "model_module_version": "1.2.0",
          "state": {
            "_model_module": "@jupyter-widgets/base",
            "_model_module_version": "1.2.0",
            "_model_name": "LayoutModel",
            "_view_count": null,
            "_view_module": "@jupyter-widgets/base",
            "_view_module_version": "1.2.0",
            "_view_name": "LayoutView",
            "align_content": null,
            "align_items": null,
            "align_self": null,
            "border": null,
            "bottom": null,
            "display": null,
            "flex": null,
            "flex_flow": null,
            "grid_area": null,
            "grid_auto_columns": null,
            "grid_auto_flow": null,
            "grid_auto_rows": null,
            "grid_column": null,
            "grid_gap": null,
            "grid_row": null,
            "grid_template_areas": null,
            "grid_template_columns": null,
            "grid_template_rows": null,
            "height": null,
            "justify_content": null,
            "justify_items": null,
            "left": null,
            "margin": null,
            "max_height": null,
            "max_width": null,
            "min_height": null,
            "min_width": null,
            "object_fit": null,
            "object_position": null,
            "order": null,
            "overflow": null,
            "overflow_x": null,
            "overflow_y": null,
            "padding": null,
            "right": null,
            "top": null,
            "visibility": null,
            "width": null
          }
        },
        "dd439e20d2414269b406e6316f63c2aa": {
          "model_module": "@jupyter-widgets/controls",
          "model_name": "ProgressStyleModel",
          "model_module_version": "1.5.0",
          "state": {
            "_model_module": "@jupyter-widgets/controls",
            "_model_module_version": "1.5.0",
            "_model_name": "ProgressStyleModel",
            "_view_count": null,
            "_view_module": "@jupyter-widgets/base",
            "_view_module_version": "1.2.0",
            "_view_name": "StyleView",
            "bar_color": null,
            "description_width": ""
          }
        },
        "1f002d9aee4c4924950cab51d401bdfb": {
          "model_module": "@jupyter-widgets/base",
          "model_name": "LayoutModel",
          "model_module_version": "1.2.0",
          "state": {
            "_model_module": "@jupyter-widgets/base",
            "_model_module_version": "1.2.0",
            "_model_name": "LayoutModel",
            "_view_count": null,
            "_view_module": "@jupyter-widgets/base",
            "_view_module_version": "1.2.0",
            "_view_name": "LayoutView",
            "align_content": null,
            "align_items": null,
            "align_self": null,
            "border": null,
            "bottom": null,
            "display": null,
            "flex": null,
            "flex_flow": null,
            "grid_area": null,
            "grid_auto_columns": null,
            "grid_auto_flow": null,
            "grid_auto_rows": null,
            "grid_column": null,
            "grid_gap": null,
            "grid_row": null,
            "grid_template_areas": null,
            "grid_template_columns": null,
            "grid_template_rows": null,
            "height": null,
            "justify_content": null,
            "justify_items": null,
            "left": null,
            "margin": null,
            "max_height": null,
            "max_width": null,
            "min_height": null,
            "min_width": null,
            "object_fit": null,
            "object_position": null,
            "order": null,
            "overflow": null,
            "overflow_x": null,
            "overflow_y": null,
            "padding": null,
            "right": null,
            "top": null,
            "visibility": null,
            "width": null
          }
        },
        "6329395c3fe34a94854a889d619616c9": {
          "model_module": "@jupyter-widgets/controls",
          "model_name": "DescriptionStyleModel",
          "model_module_version": "1.5.0",
          "state": {
            "_model_module": "@jupyter-widgets/controls",
            "_model_module_version": "1.5.0",
            "_model_name": "DescriptionStyleModel",
            "_view_count": null,
            "_view_module": "@jupyter-widgets/base",
            "_view_module_version": "1.2.0",
            "_view_name": "StyleView",
            "description_width": ""
          }
        },
        "70eaf0976c144b0ab6400df8dd34d5d5": {
          "model_module": "@jupyter-widgets/controls",
          "model_name": "HBoxModel",
          "model_module_version": "1.5.0",
          "state": {
            "_dom_classes": [],
            "_model_module": "@jupyter-widgets/controls",
            "_model_module_version": "1.5.0",
            "_model_name": "HBoxModel",
            "_view_count": null,
            "_view_module": "@jupyter-widgets/controls",
            "_view_module_version": "1.5.0",
            "_view_name": "HBoxView",
            "box_style": "",
            "children": [
              "IPY_MODEL_6857d631b3c54befabd65d6fdd484055",
              "IPY_MODEL_ea6ba41796b8484f81b2be9d8f6e4ab0",
              "IPY_MODEL_c83b58ce40da4397a619f276188bcde8"
            ],
            "layout": "IPY_MODEL_85dff0fac184480489a04c2ba4a68a87"
          }
        },
        "6857d631b3c54befabd65d6fdd484055": {
          "model_module": "@jupyter-widgets/controls",
          "model_name": "HTMLModel",
          "model_module_version": "1.5.0",
          "state": {
            "_dom_classes": [],
            "_model_module": "@jupyter-widgets/controls",
            "_model_module_version": "1.5.0",
            "_model_name": "HTMLModel",
            "_view_count": null,
            "_view_module": "@jupyter-widgets/controls",
            "_view_module_version": "1.5.0",
            "_view_name": "HTMLView",
            "description": "",
            "description_tooltip": null,
            "layout": "IPY_MODEL_e368cb90a5204cd6afaefe5489888d2a",
            "placeholder": "​",
            "style": "IPY_MODEL_b2bf4623e8764118b04481f81f987bee",
            "value": "Downloading: 100%"
          }
        },
        "ea6ba41796b8484f81b2be9d8f6e4ab0": {
          "model_module": "@jupyter-widgets/controls",
          "model_name": "FloatProgressModel",
          "model_module_version": "1.5.0",
          "state": {
            "_dom_classes": [],
            "_model_module": "@jupyter-widgets/controls",
            "_model_module_version": "1.5.0",
            "_model_name": "FloatProgressModel",
            "_view_count": null,
            "_view_module": "@jupyter-widgets/controls",
            "_view_module_version": "1.5.0",
            "_view_name": "ProgressView",
            "bar_style": "success",
            "description": "",
            "description_tooltip": null,
            "layout": "IPY_MODEL_a955106db52a4995a1f86b38b8616bdb",
            "max": 231508,
            "min": 0,
            "orientation": "horizontal",
            "style": "IPY_MODEL_54bb26a522e144c9a216ffc216cbd052",
            "value": 231508
          }
        },
        "c83b58ce40da4397a619f276188bcde8": {
          "model_module": "@jupyter-widgets/controls",
          "model_name": "HTMLModel",
          "model_module_version": "1.5.0",
          "state": {
            "_dom_classes": [],
            "_model_module": "@jupyter-widgets/controls",
            "_model_module_version": "1.5.0",
            "_model_name": "HTMLModel",
            "_view_count": null,
            "_view_module": "@jupyter-widgets/controls",
            "_view_module_version": "1.5.0",
            "_view_name": "HTMLView",
            "description": "",
            "description_tooltip": null,
            "layout": "IPY_MODEL_b21d09c5411d4330b871d7d4053687c2",
            "placeholder": "​",
            "style": "IPY_MODEL_5132224374e24dcf988890df5af9b3e7",
            "value": " 232k/232k [00:00&lt;00:00, 1.03MB/s]"
          }
        },
        "85dff0fac184480489a04c2ba4a68a87": {
          "model_module": "@jupyter-widgets/base",
          "model_name": "LayoutModel",
          "model_module_version": "1.2.0",
          "state": {
            "_model_module": "@jupyter-widgets/base",
            "_model_module_version": "1.2.0",
            "_model_name": "LayoutModel",
            "_view_count": null,
            "_view_module": "@jupyter-widgets/base",
            "_view_module_version": "1.2.0",
            "_view_name": "LayoutView",
            "align_content": null,
            "align_items": null,
            "align_self": null,
            "border": null,
            "bottom": null,
            "display": null,
            "flex": null,
            "flex_flow": null,
            "grid_area": null,
            "grid_auto_columns": null,
            "grid_auto_flow": null,
            "grid_auto_rows": null,
            "grid_column": null,
            "grid_gap": null,
            "grid_row": null,
            "grid_template_areas": null,
            "grid_template_columns": null,
            "grid_template_rows": null,
            "height": null,
            "justify_content": null,
            "justify_items": null,
            "left": null,
            "margin": null,
            "max_height": null,
            "max_width": null,
            "min_height": null,
            "min_width": null,
            "object_fit": null,
            "object_position": null,
            "order": null,
            "overflow": null,
            "overflow_x": null,
            "overflow_y": null,
            "padding": null,
            "right": null,
            "top": null,
            "visibility": null,
            "width": null
          }
        },
        "e368cb90a5204cd6afaefe5489888d2a": {
          "model_module": "@jupyter-widgets/base",
          "model_name": "LayoutModel",
          "model_module_version": "1.2.0",
          "state": {
            "_model_module": "@jupyter-widgets/base",
            "_model_module_version": "1.2.0",
            "_model_name": "LayoutModel",
            "_view_count": null,
            "_view_module": "@jupyter-widgets/base",
            "_view_module_version": "1.2.0",
            "_view_name": "LayoutView",
            "align_content": null,
            "align_items": null,
            "align_self": null,
            "border": null,
            "bottom": null,
            "display": null,
            "flex": null,
            "flex_flow": null,
            "grid_area": null,
            "grid_auto_columns": null,
            "grid_auto_flow": null,
            "grid_auto_rows": null,
            "grid_column": null,
            "grid_gap": null,
            "grid_row": null,
            "grid_template_areas": null,
            "grid_template_columns": null,
            "grid_template_rows": null,
            "height": null,
            "justify_content": null,
            "justify_items": null,
            "left": null,
            "margin": null,
            "max_height": null,
            "max_width": null,
            "min_height": null,
            "min_width": null,
            "object_fit": null,
            "object_position": null,
            "order": null,
            "overflow": null,
            "overflow_x": null,
            "overflow_y": null,
            "padding": null,
            "right": null,
            "top": null,
            "visibility": null,
            "width": null
          }
        },
        "b2bf4623e8764118b04481f81f987bee": {
          "model_module": "@jupyter-widgets/controls",
          "model_name": "DescriptionStyleModel",
          "model_module_version": "1.5.0",
          "state": {
            "_model_module": "@jupyter-widgets/controls",
            "_model_module_version": "1.5.0",
            "_model_name": "DescriptionStyleModel",
            "_view_count": null,
            "_view_module": "@jupyter-widgets/base",
            "_view_module_version": "1.2.0",
            "_view_name": "StyleView",
            "description_width": ""
          }
        },
        "a955106db52a4995a1f86b38b8616bdb": {
          "model_module": "@jupyter-widgets/base",
          "model_name": "LayoutModel",
          "model_module_version": "1.2.0",
          "state": {
            "_model_module": "@jupyter-widgets/base",
            "_model_module_version": "1.2.0",
            "_model_name": "LayoutModel",
            "_view_count": null,
            "_view_module": "@jupyter-widgets/base",
            "_view_module_version": "1.2.0",
            "_view_name": "LayoutView",
            "align_content": null,
            "align_items": null,
            "align_self": null,
            "border": null,
            "bottom": null,
            "display": null,
            "flex": null,
            "flex_flow": null,
            "grid_area": null,
            "grid_auto_columns": null,
            "grid_auto_flow": null,
            "grid_auto_rows": null,
            "grid_column": null,
            "grid_gap": null,
            "grid_row": null,
            "grid_template_areas": null,
            "grid_template_columns": null,
            "grid_template_rows": null,
            "height": null,
            "justify_content": null,
            "justify_items": null,
            "left": null,
            "margin": null,
            "max_height": null,
            "max_width": null,
            "min_height": null,
            "min_width": null,
            "object_fit": null,
            "object_position": null,
            "order": null,
            "overflow": null,
            "overflow_x": null,
            "overflow_y": null,
            "padding": null,
            "right": null,
            "top": null,
            "visibility": null,
            "width": null
          }
        },
        "54bb26a522e144c9a216ffc216cbd052": {
          "model_module": "@jupyter-widgets/controls",
          "model_name": "ProgressStyleModel",
          "model_module_version": "1.5.0",
          "state": {
            "_model_module": "@jupyter-widgets/controls",
            "_model_module_version": "1.5.0",
            "_model_name": "ProgressStyleModel",
            "_view_count": null,
            "_view_module": "@jupyter-widgets/base",
            "_view_module_version": "1.2.0",
            "_view_name": "StyleView",
            "bar_color": null,
            "description_width": ""
          }
        },
        "b21d09c5411d4330b871d7d4053687c2": {
          "model_module": "@jupyter-widgets/base",
          "model_name": "LayoutModel",
          "model_module_version": "1.2.0",
          "state": {
            "_model_module": "@jupyter-widgets/base",
            "_model_module_version": "1.2.0",
            "_model_name": "LayoutModel",
            "_view_count": null,
            "_view_module": "@jupyter-widgets/base",
            "_view_module_version": "1.2.0",
            "_view_name": "LayoutView",
            "align_content": null,
            "align_items": null,
            "align_self": null,
            "border": null,
            "bottom": null,
            "display": null,
            "flex": null,
            "flex_flow": null,
            "grid_area": null,
            "grid_auto_columns": null,
            "grid_auto_flow": null,
            "grid_auto_rows": null,
            "grid_column": null,
            "grid_gap": null,
            "grid_row": null,
            "grid_template_areas": null,
            "grid_template_columns": null,
            "grid_template_rows": null,
            "height": null,
            "justify_content": null,
            "justify_items": null,
            "left": null,
            "margin": null,
            "max_height": null,
            "max_width": null,
            "min_height": null,
            "min_width": null,
            "object_fit": null,
            "object_position": null,
            "order": null,
            "overflow": null,
            "overflow_x": null,
            "overflow_y": null,
            "padding": null,
            "right": null,
            "top": null,
            "visibility": null,
            "width": null
          }
        },
        "5132224374e24dcf988890df5af9b3e7": {
          "model_module": "@jupyter-widgets/controls",
          "model_name": "DescriptionStyleModel",
          "model_module_version": "1.5.0",
          "state": {
            "_model_module": "@jupyter-widgets/controls",
            "_model_module_version": "1.5.0",
            "_model_name": "DescriptionStyleModel",
            "_view_count": null,
            "_view_module": "@jupyter-widgets/base",
            "_view_module_version": "1.2.0",
            "_view_name": "StyleView",
            "description_width": ""
          }
        },
        "fc734f6646734019bc72ed0b96c1a90a": {
          "model_module": "@jupyter-widgets/controls",
          "model_name": "HBoxModel",
          "model_module_version": "1.5.0",
          "state": {
            "_dom_classes": [],
            "_model_module": "@jupyter-widgets/controls",
            "_model_module_version": "1.5.0",
            "_model_name": "HBoxModel",
            "_view_count": null,
            "_view_module": "@jupyter-widgets/controls",
            "_view_module_version": "1.5.0",
            "_view_name": "HBoxView",
            "box_style": "",
            "children": [
              "IPY_MODEL_77e153dc7a134642ae3e80deabdeedfe",
              "IPY_MODEL_ef36236380d54b03bf47dae68f144d18",
              "IPY_MODEL_742e20bbb9e5471a9c76f98fbb9eb83e"
            ],
            "layout": "IPY_MODEL_32a111fb12cd4dcca0ce05a2bda45337"
          }
        },
        "77e153dc7a134642ae3e80deabdeedfe": {
          "model_module": "@jupyter-widgets/controls",
          "model_name": "HTMLModel",
          "model_module_version": "1.5.0",
          "state": {
            "_dom_classes": [],
            "_model_module": "@jupyter-widgets/controls",
            "_model_module_version": "1.5.0",
            "_model_name": "HTMLModel",
            "_view_count": null,
            "_view_module": "@jupyter-widgets/controls",
            "_view_module_version": "1.5.0",
            "_view_name": "HTMLView",
            "description": "",
            "description_tooltip": null,
            "layout": "IPY_MODEL_e4784b6381d24bffbd255815f755775c",
            "placeholder": "​",
            "style": "IPY_MODEL_92181503ca19465e9b521b4007c93712",
            "value": "Downloading: 100%"
          }
        },
        "ef36236380d54b03bf47dae68f144d18": {
          "model_module": "@jupyter-widgets/controls",
          "model_name": "FloatProgressModel",
          "model_module_version": "1.5.0",
          "state": {
            "_dom_classes": [],
            "_model_module": "@jupyter-widgets/controls",
            "_model_module_version": "1.5.0",
            "_model_name": "FloatProgressModel",
            "_view_count": null,
            "_view_module": "@jupyter-widgets/controls",
            "_view_module_version": "1.5.0",
            "_view_name": "ProgressView",
            "bar_style": "success",
            "description": "",
            "description_tooltip": null,
            "layout": "IPY_MODEL_7f4cb07673c345d1bcba0243126fb4f7",
            "max": 466062,
            "min": 0,
            "orientation": "horizontal",
            "style": "IPY_MODEL_b551f9f5ff5c4825857a4ff9a0c42723",
            "value": 466062
          }
        },
        "742e20bbb9e5471a9c76f98fbb9eb83e": {
          "model_module": "@jupyter-widgets/controls",
          "model_name": "HTMLModel",
          "model_module_version": "1.5.0",
          "state": {
            "_dom_classes": [],
            "_model_module": "@jupyter-widgets/controls",
            "_model_module_version": "1.5.0",
            "_model_name": "HTMLModel",
            "_view_count": null,
            "_view_module": "@jupyter-widgets/controls",
            "_view_module_version": "1.5.0",
            "_view_name": "HTMLView",
            "description": "",
            "description_tooltip": null,
            "layout": "IPY_MODEL_5f6f86a2144f4756b5dfa98de95eb540",
            "placeholder": "​",
            "style": "IPY_MODEL_e1ae9bfd3f884172a1c11af295c072f4",
            "value": " 466k/466k [00:00&lt;00:00, 1.54MB/s]"
          }
        },
        "32a111fb12cd4dcca0ce05a2bda45337": {
          "model_module": "@jupyter-widgets/base",
          "model_name": "LayoutModel",
          "model_module_version": "1.2.0",
          "state": {
            "_model_module": "@jupyter-widgets/base",
            "_model_module_version": "1.2.0",
            "_model_name": "LayoutModel",
            "_view_count": null,
            "_view_module": "@jupyter-widgets/base",
            "_view_module_version": "1.2.0",
            "_view_name": "LayoutView",
            "align_content": null,
            "align_items": null,
            "align_self": null,
            "border": null,
            "bottom": null,
            "display": null,
            "flex": null,
            "flex_flow": null,
            "grid_area": null,
            "grid_auto_columns": null,
            "grid_auto_flow": null,
            "grid_auto_rows": null,
            "grid_column": null,
            "grid_gap": null,
            "grid_row": null,
            "grid_template_areas": null,
            "grid_template_columns": null,
            "grid_template_rows": null,
            "height": null,
            "justify_content": null,
            "justify_items": null,
            "left": null,
            "margin": null,
            "max_height": null,
            "max_width": null,
            "min_height": null,
            "min_width": null,
            "object_fit": null,
            "object_position": null,
            "order": null,
            "overflow": null,
            "overflow_x": null,
            "overflow_y": null,
            "padding": null,
            "right": null,
            "top": null,
            "visibility": null,
            "width": null
          }
        },
        "e4784b6381d24bffbd255815f755775c": {
          "model_module": "@jupyter-widgets/base",
          "model_name": "LayoutModel",
          "model_module_version": "1.2.0",
          "state": {
            "_model_module": "@jupyter-widgets/base",
            "_model_module_version": "1.2.0",
            "_model_name": "LayoutModel",
            "_view_count": null,
            "_view_module": "@jupyter-widgets/base",
            "_view_module_version": "1.2.0",
            "_view_name": "LayoutView",
            "align_content": null,
            "align_items": null,
            "align_self": null,
            "border": null,
            "bottom": null,
            "display": null,
            "flex": null,
            "flex_flow": null,
            "grid_area": null,
            "grid_auto_columns": null,
            "grid_auto_flow": null,
            "grid_auto_rows": null,
            "grid_column": null,
            "grid_gap": null,
            "grid_row": null,
            "grid_template_areas": null,
            "grid_template_columns": null,
            "grid_template_rows": null,
            "height": null,
            "justify_content": null,
            "justify_items": null,
            "left": null,
            "margin": null,
            "max_height": null,
            "max_width": null,
            "min_height": null,
            "min_width": null,
            "object_fit": null,
            "object_position": null,
            "order": null,
            "overflow": null,
            "overflow_x": null,
            "overflow_y": null,
            "padding": null,
            "right": null,
            "top": null,
            "visibility": null,
            "width": null
          }
        },
        "92181503ca19465e9b521b4007c93712": {
          "model_module": "@jupyter-widgets/controls",
          "model_name": "DescriptionStyleModel",
          "model_module_version": "1.5.0",
          "state": {
            "_model_module": "@jupyter-widgets/controls",
            "_model_module_version": "1.5.0",
            "_model_name": "DescriptionStyleModel",
            "_view_count": null,
            "_view_module": "@jupyter-widgets/base",
            "_view_module_version": "1.2.0",
            "_view_name": "StyleView",
            "description_width": ""
          }
        },
        "7f4cb07673c345d1bcba0243126fb4f7": {
          "model_module": "@jupyter-widgets/base",
          "model_name": "LayoutModel",
          "model_module_version": "1.2.0",
          "state": {
            "_model_module": "@jupyter-widgets/base",
            "_model_module_version": "1.2.0",
            "_model_name": "LayoutModel",
            "_view_count": null,
            "_view_module": "@jupyter-widgets/base",
            "_view_module_version": "1.2.0",
            "_view_name": "LayoutView",
            "align_content": null,
            "align_items": null,
            "align_self": null,
            "border": null,
            "bottom": null,
            "display": null,
            "flex": null,
            "flex_flow": null,
            "grid_area": null,
            "grid_auto_columns": null,
            "grid_auto_flow": null,
            "grid_auto_rows": null,
            "grid_column": null,
            "grid_gap": null,
            "grid_row": null,
            "grid_template_areas": null,
            "grid_template_columns": null,
            "grid_template_rows": null,
            "height": null,
            "justify_content": null,
            "justify_items": null,
            "left": null,
            "margin": null,
            "max_height": null,
            "max_width": null,
            "min_height": null,
            "min_width": null,
            "object_fit": null,
            "object_position": null,
            "order": null,
            "overflow": null,
            "overflow_x": null,
            "overflow_y": null,
            "padding": null,
            "right": null,
            "top": null,
            "visibility": null,
            "width": null
          }
        },
        "b551f9f5ff5c4825857a4ff9a0c42723": {
          "model_module": "@jupyter-widgets/controls",
          "model_name": "ProgressStyleModel",
          "model_module_version": "1.5.0",
          "state": {
            "_model_module": "@jupyter-widgets/controls",
            "_model_module_version": "1.5.0",
            "_model_name": "ProgressStyleModel",
            "_view_count": null,
            "_view_module": "@jupyter-widgets/base",
            "_view_module_version": "1.2.0",
            "_view_name": "StyleView",
            "bar_color": null,
            "description_width": ""
          }
        },
        "5f6f86a2144f4756b5dfa98de95eb540": {
          "model_module": "@jupyter-widgets/base",
          "model_name": "LayoutModel",
          "model_module_version": "1.2.0",
          "state": {
            "_model_module": "@jupyter-widgets/base",
            "_model_module_version": "1.2.0",
            "_model_name": "LayoutModel",
            "_view_count": null,
            "_view_module": "@jupyter-widgets/base",
            "_view_module_version": "1.2.0",
            "_view_name": "LayoutView",
            "align_content": null,
            "align_items": null,
            "align_self": null,
            "border": null,
            "bottom": null,
            "display": null,
            "flex": null,
            "flex_flow": null,
            "grid_area": null,
            "grid_auto_columns": null,
            "grid_auto_flow": null,
            "grid_auto_rows": null,
            "grid_column": null,
            "grid_gap": null,
            "grid_row": null,
            "grid_template_areas": null,
            "grid_template_columns": null,
            "grid_template_rows": null,
            "height": null,
            "justify_content": null,
            "justify_items": null,
            "left": null,
            "margin": null,
            "max_height": null,
            "max_width": null,
            "min_height": null,
            "min_width": null,
            "object_fit": null,
            "object_position": null,
            "order": null,
            "overflow": null,
            "overflow_x": null,
            "overflow_y": null,
            "padding": null,
            "right": null,
            "top": null,
            "visibility": null,
            "width": null
          }
        },
        "e1ae9bfd3f884172a1c11af295c072f4": {
          "model_module": "@jupyter-widgets/controls",
          "model_name": "DescriptionStyleModel",
          "model_module_version": "1.5.0",
          "state": {
            "_model_module": "@jupyter-widgets/controls",
            "_model_module_version": "1.5.0",
            "_model_name": "DescriptionStyleModel",
            "_view_count": null,
            "_view_module": "@jupyter-widgets/base",
            "_view_module_version": "1.2.0",
            "_view_name": "StyleView",
            "description_width": ""
          }
        },
        "594818b7a09a4610baa8840474dc1e0c": {
          "model_module": "@jupyter-widgets/controls",
          "model_name": "HBoxModel",
          "model_module_version": "1.5.0",
          "state": {
            "_dom_classes": [],
            "_model_module": "@jupyter-widgets/controls",
            "_model_module_version": "1.5.0",
            "_model_name": "HBoxModel",
            "_view_count": null,
            "_view_module": "@jupyter-widgets/controls",
            "_view_module_version": "1.5.0",
            "_view_name": "HBoxView",
            "box_style": "",
            "children": [
              "IPY_MODEL_f9e9e7088fb64f269969e0cda34cee7e",
              "IPY_MODEL_852d8cc7e8a44766a2e95b7d456da1c2",
              "IPY_MODEL_15e23261672c46db9fce06f4f9bbebf1"
            ],
            "layout": "IPY_MODEL_cf7a1d03f504473cba03b47e482065d5"
          }
        },
        "f9e9e7088fb64f269969e0cda34cee7e": {
          "model_module": "@jupyter-widgets/controls",
          "model_name": "HTMLModel",
          "model_module_version": "1.5.0",
          "state": {
            "_dom_classes": [],
            "_model_module": "@jupyter-widgets/controls",
            "_model_module_version": "1.5.0",
            "_model_name": "HTMLModel",
            "_view_count": null,
            "_view_module": "@jupyter-widgets/controls",
            "_view_module_version": "1.5.0",
            "_view_name": "HTMLView",
            "description": "",
            "description_tooltip": null,
            "layout": "IPY_MODEL_9d931ac5b6de41b2985f731291de56da",
            "placeholder": "​",
            "style": "IPY_MODEL_dad605c9fb494e8f90f2589b89d0082f",
            "value": "Downloading: 100%"
          }
        },
        "852d8cc7e8a44766a2e95b7d456da1c2": {
          "model_module": "@jupyter-widgets/controls",
          "model_name": "FloatProgressModel",
          "model_module_version": "1.5.0",
          "state": {
            "_dom_classes": [],
            "_model_module": "@jupyter-widgets/controls",
            "_model_module_version": "1.5.0",
            "_model_name": "FloatProgressModel",
            "_view_count": null,
            "_view_module": "@jupyter-widgets/controls",
            "_view_module_version": "1.5.0",
            "_view_name": "ProgressView",
            "bar_style": "success",
            "description": "",
            "description_tooltip": null,
            "layout": "IPY_MODEL_1219e1cfb50f49a6b6783c082c4d9e0b",
            "max": 440473133,
            "min": 0,
            "orientation": "horizontal",
            "style": "IPY_MODEL_943db075275143c5a384d9415f98948c",
            "value": 440473133
          }
        },
        "15e23261672c46db9fce06f4f9bbebf1": {
          "model_module": "@jupyter-widgets/controls",
          "model_name": "HTMLModel",
          "model_module_version": "1.5.0",
          "state": {
            "_dom_classes": [],
            "_model_module": "@jupyter-widgets/controls",
            "_model_module_version": "1.5.0",
            "_model_name": "HTMLModel",
            "_view_count": null,
            "_view_module": "@jupyter-widgets/controls",
            "_view_module_version": "1.5.0",
            "_view_name": "HTMLView",
            "description": "",
            "description_tooltip": null,
            "layout": "IPY_MODEL_040322bb074149c4b523b1718a3bde67",
            "placeholder": "​",
            "style": "IPY_MODEL_f1c8b00f80d441b0862317df48c7b4e3",
            "value": " 440M/440M [00:08&lt;00:00, 59.9MB/s]"
          }
        },
        "cf7a1d03f504473cba03b47e482065d5": {
          "model_module": "@jupyter-widgets/base",
          "model_name": "LayoutModel",
          "model_module_version": "1.2.0",
          "state": {
            "_model_module": "@jupyter-widgets/base",
            "_model_module_version": "1.2.0",
            "_model_name": "LayoutModel",
            "_view_count": null,
            "_view_module": "@jupyter-widgets/base",
            "_view_module_version": "1.2.0",
            "_view_name": "LayoutView",
            "align_content": null,
            "align_items": null,
            "align_self": null,
            "border": null,
            "bottom": null,
            "display": null,
            "flex": null,
            "flex_flow": null,
            "grid_area": null,
            "grid_auto_columns": null,
            "grid_auto_flow": null,
            "grid_auto_rows": null,
            "grid_column": null,
            "grid_gap": null,
            "grid_row": null,
            "grid_template_areas": null,
            "grid_template_columns": null,
            "grid_template_rows": null,
            "height": null,
            "justify_content": null,
            "justify_items": null,
            "left": null,
            "margin": null,
            "max_height": null,
            "max_width": null,
            "min_height": null,
            "min_width": null,
            "object_fit": null,
            "object_position": null,
            "order": null,
            "overflow": null,
            "overflow_x": null,
            "overflow_y": null,
            "padding": null,
            "right": null,
            "top": null,
            "visibility": null,
            "width": null
          }
        },
        "9d931ac5b6de41b2985f731291de56da": {
          "model_module": "@jupyter-widgets/base",
          "model_name": "LayoutModel",
          "model_module_version": "1.2.0",
          "state": {
            "_model_module": "@jupyter-widgets/base",
            "_model_module_version": "1.2.0",
            "_model_name": "LayoutModel",
            "_view_count": null,
            "_view_module": "@jupyter-widgets/base",
            "_view_module_version": "1.2.0",
            "_view_name": "LayoutView",
            "align_content": null,
            "align_items": null,
            "align_self": null,
            "border": null,
            "bottom": null,
            "display": null,
            "flex": null,
            "flex_flow": null,
            "grid_area": null,
            "grid_auto_columns": null,
            "grid_auto_flow": null,
            "grid_auto_rows": null,
            "grid_column": null,
            "grid_gap": null,
            "grid_row": null,
            "grid_template_areas": null,
            "grid_template_columns": null,
            "grid_template_rows": null,
            "height": null,
            "justify_content": null,
            "justify_items": null,
            "left": null,
            "margin": null,
            "max_height": null,
            "max_width": null,
            "min_height": null,
            "min_width": null,
            "object_fit": null,
            "object_position": null,
            "order": null,
            "overflow": null,
            "overflow_x": null,
            "overflow_y": null,
            "padding": null,
            "right": null,
            "top": null,
            "visibility": null,
            "width": null
          }
        },
        "dad605c9fb494e8f90f2589b89d0082f": {
          "model_module": "@jupyter-widgets/controls",
          "model_name": "DescriptionStyleModel",
          "model_module_version": "1.5.0",
          "state": {
            "_model_module": "@jupyter-widgets/controls",
            "_model_module_version": "1.5.0",
            "_model_name": "DescriptionStyleModel",
            "_view_count": null,
            "_view_module": "@jupyter-widgets/base",
            "_view_module_version": "1.2.0",
            "_view_name": "StyleView",
            "description_width": ""
          }
        },
        "1219e1cfb50f49a6b6783c082c4d9e0b": {
          "model_module": "@jupyter-widgets/base",
          "model_name": "LayoutModel",
          "model_module_version": "1.2.0",
          "state": {
            "_model_module": "@jupyter-widgets/base",
            "_model_module_version": "1.2.0",
            "_model_name": "LayoutModel",
            "_view_count": null,
            "_view_module": "@jupyter-widgets/base",
            "_view_module_version": "1.2.0",
            "_view_name": "LayoutView",
            "align_content": null,
            "align_items": null,
            "align_self": null,
            "border": null,
            "bottom": null,
            "display": null,
            "flex": null,
            "flex_flow": null,
            "grid_area": null,
            "grid_auto_columns": null,
            "grid_auto_flow": null,
            "grid_auto_rows": null,
            "grid_column": null,
            "grid_gap": null,
            "grid_row": null,
            "grid_template_areas": null,
            "grid_template_columns": null,
            "grid_template_rows": null,
            "height": null,
            "justify_content": null,
            "justify_items": null,
            "left": null,
            "margin": null,
            "max_height": null,
            "max_width": null,
            "min_height": null,
            "min_width": null,
            "object_fit": null,
            "object_position": null,
            "order": null,
            "overflow": null,
            "overflow_x": null,
            "overflow_y": null,
            "padding": null,
            "right": null,
            "top": null,
            "visibility": null,
            "width": null
          }
        },
        "943db075275143c5a384d9415f98948c": {
          "model_module": "@jupyter-widgets/controls",
          "model_name": "ProgressStyleModel",
          "model_module_version": "1.5.0",
          "state": {
            "_model_module": "@jupyter-widgets/controls",
            "_model_module_version": "1.5.0",
            "_model_name": "ProgressStyleModel",
            "_view_count": null,
            "_view_module": "@jupyter-widgets/base",
            "_view_module_version": "1.2.0",
            "_view_name": "StyleView",
            "bar_color": null,
            "description_width": ""
          }
        },
        "040322bb074149c4b523b1718a3bde67": {
          "model_module": "@jupyter-widgets/base",
          "model_name": "LayoutModel",
          "model_module_version": "1.2.0",
          "state": {
            "_model_module": "@jupyter-widgets/base",
            "_model_module_version": "1.2.0",
            "_model_name": "LayoutModel",
            "_view_count": null,
            "_view_module": "@jupyter-widgets/base",
            "_view_module_version": "1.2.0",
            "_view_name": "LayoutView",
            "align_content": null,
            "align_items": null,
            "align_self": null,
            "border": null,
            "bottom": null,
            "display": null,
            "flex": null,
            "flex_flow": null,
            "grid_area": null,
            "grid_auto_columns": null,
            "grid_auto_flow": null,
            "grid_auto_rows": null,
            "grid_column": null,
            "grid_gap": null,
            "grid_row": null,
            "grid_template_areas": null,
            "grid_template_columns": null,
            "grid_template_rows": null,
            "height": null,
            "justify_content": null,
            "justify_items": null,
            "left": null,
            "margin": null,
            "max_height": null,
            "max_width": null,
            "min_height": null,
            "min_width": null,
            "object_fit": null,
            "object_position": null,
            "order": null,
            "overflow": null,
            "overflow_x": null,
            "overflow_y": null,
            "padding": null,
            "right": null,
            "top": null,
            "visibility": null,
            "width": null
          }
        },
        "f1c8b00f80d441b0862317df48c7b4e3": {
          "model_module": "@jupyter-widgets/controls",
          "model_name": "DescriptionStyleModel",
          "model_module_version": "1.5.0",
          "state": {
            "_model_module": "@jupyter-widgets/controls",
            "_model_module_version": "1.5.0",
            "_model_name": "DescriptionStyleModel",
            "_view_count": null,
            "_view_module": "@jupyter-widgets/base",
            "_view_module_version": "1.2.0",
            "_view_name": "StyleView",
            "description_width": ""
          }
        }
      }
    }
  },
  "nbformat": 4,
  "nbformat_minor": 0
}